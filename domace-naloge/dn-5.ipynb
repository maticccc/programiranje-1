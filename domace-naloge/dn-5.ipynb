{
 "cells": [
  {
   "cell_type": "markdown",
   "metadata": {},
   "source": [
    "# 5. DOMAČA NALOGA"
   ]
  },
  {
   "cell_type": "markdown",
   "metadata": {},
   "source": [
    "Pri tej domači nalogi boste rešili nekaj računskih problemov s pomočjo metod, ki smo jih spoznali na predavanjih. Vse naloge rešujte v OCamlu, vsako rešitev pa dobro dokumentirajte, da bo iz nje razvidna pravilnost ter časovna zahtevnost rešitve.\n",
    "\n",
    "Pri vsaki nalogi bomo ocenjevali učinkovitost, preglednost in eleganco rešitve ter natančnost, razumljivost in pravilnost spremnega besedila."
   ]
  },
  {
   "cell_type": "markdown",
   "metadata": {},
   "source": [
    "## DELI IN VLADAJ \n",
    "Rešiti morate dva klasična problema, ki se rešujeta z metodo deli in vladaj.\n",
    "\n",
    "### Hitro izbiranje\n",
    "Dan naj bo neurejen seznam celih števil $[a_1, a_2, ... , a_n]$ in število $1 \\le k \\le n$. Napišite algoritem, ki v času $O(n)$ poišče po velikosti $k$-to število v seznamu. Torej za $k = 1$ bi algoritem vrnil najmanjše, za $k = n$ pa največje število v seznamu."
   ]
  },
  {
   "cell_type": "code",
   "execution_count": 7,
   "metadata": {
    "vscode": {
     "languageId": "ocaml"
    }
   },
   "outputs": [
    {
     "data": {
      "text/plain": [
       "val particija : 'a -> 'a list -> 'a list -> 'a list -> 'a list * 'a list =\n",
       "  <fun>\n"
      ]
     },
     "execution_count": 7,
     "metadata": {},
     "output_type": "execute_result"
    }
   ],
   "source": [
    "(*najprej definiram funkcijo particija, ki za vhodne podatke vzame pivot, seznam ki ga želimo razdeliti ter v začetku dva prazna seznama, \n",
    "označena l in d, ki se nato z rekurzivnimi klici funkcije polnita, dokler ne postaneta particiji prvotnega seznama*)\n",
    "\n",
    "(*particija je pomožna funkcija algoritmu hitrega izbiranja*)\n",
    "\n",
    "let rec particija pivot lst l d = match lst with\n",
    "  (*če pridem do praznega seznama, je postopek particije končan in vrnem do tedaj pridelana seznama*)\n",
    "  | [] -> (l, d)\n",
    "  (*sicer pa vsak element v seznamu primerjam s pivotom*)\n",
    "  | x :: xs -> if x < pivot then\n",
    "    (*če je strogo manjši od pivota, ga dam v levi seznam in rekurzivno kličem funkcijo na posodobljenem seznamu*)\n",
    "    particija pivot xs (x :: l) d\n",
    "  else\n",
    "    (*sicer pa ga dam v desni seznam*)\n",
    "    particija pivot xs l (x :: d)"
   ]
  },
  {
   "cell_type": "code",
   "execution_count": 8,
   "metadata": {
    "vscode": {
     "languageId": "ocaml"
    }
   },
   "outputs": [
    {
     "data": {
      "text/plain": [
       "val test1 : int list * int list = ([2; 8; 1; 5; 3; 6], [16; 19; 9; 12; 10])\n"
      ]
     },
     "execution_count": 8,
     "metadata": {},
     "output_type": "execute_result"
    }
   ],
   "source": [
    "let test1 = particija 9 [10; 12; 6; 9; 3; 5; 1; 19; 16; 8; 2] [] []"
   ]
  },
  {
   "cell_type": "code",
   "execution_count": null,
   "metadata": {
    "vscode": {
     "languageId": "ocaml"
    }
   },
   "outputs": [
    {
     "data": {
      "text/plain": [
       "val hitro_izbiranje : 'a list -> int -> 'a = <fun>\n"
      ]
     },
     "execution_count": 9,
     "metadata": {},
     "output_type": "execute_result"
    }
   ],
   "source": [
    "(*algoritem hitro_izbiranje / quick_select*)\n",
    "\n",
    "let rec hitro_izbiranje lst k = match lst with\n",
    "(*vhodna podatka: seznam nesortiranih števil, indeks k*)\n",
    "  (*dva robna primera: prazen seznam, kjer algoritem ne naredi nič in seznam s samo enim elementom - vrne ta element*)\n",
    "  | [] -> failwith \"Seznam je prazen.\"\n",
    "  | [x] -> x \n",
    "\n",
    "  (*sicer pa v vsakem koraku izbere pivot, ki je prvi element iz seznama*)\n",
    "  | pivot :: xs -> \n",
    "    (*na podlagi tega pivota ustvari particijo z zgoraj spisano funkcijo*)\n",
    "    let (l, d) = particija pivot xs [] [] in\n",
    "    let len_l = List.length l in\n",
    "    (*preverim, v katero particijo pade indeks k*)\n",
    "    if k - 1 < len_l then\n",
    "      (*če je v levi particiji, rekurzivno kličem naprej z novim (levim) seznamom in nespremenjenim indeksom*)\n",
    "      hitro_izbiranje l k \n",
    "    else if k - 1 > len_l then\n",
    "      (*če spada v desno particijo pa rekurzivno kličem na desnem seznamu; tu pa je potrebno prilagoditi tudi indeks*)\n",
    "      hitro_izbiranje d (k - len_l - 1)\n",
    "    else\n",
    "      pivot"
   ]
  },
  {
   "cell_type": "code",
   "execution_count": 11,
   "metadata": {
    "vscode": {
     "languageId": "ocaml"
    }
   },
   "outputs": [
    {
     "data": {
      "text/plain": [
       "val test2 : int = 5\n"
      ]
     },
     "execution_count": 11,
     "metadata": {},
     "output_type": "execute_result"
    },
    {
     "data": {
      "text/plain": [
       "val test3 : int = 8\n"
      ]
     },
     "execution_count": 11,
     "metadata": {},
     "output_type": "execute_result"
    },
    {
     "data": {
      "text/plain": [
       "val test4 : int = 11\n"
      ]
     },
     "execution_count": 11,
     "metadata": {},
     "output_type": "execute_result"
    },
    {
     "data": {
      "text/plain": [
       "val robni_primer1 : int = 3\n"
      ]
     },
     "execution_count": 11,
     "metadata": {},
     "output_type": "execute_result"
    }
   ],
   "source": [
    "let test2 = hitro_izbiranje [3; 5; 2; 8] 3\n",
    "\n",
    "let test3 = hitro_izbiranje [13; 22; 10; 6; 9; 3; 5; 8; 7; 19; 1] 6\n",
    "\n",
    "let test4 = hitro_izbiranje [11; 1; 3; 8; 9; 15; 14; 2] 6\n",
    "\n",
    "\n",
    "let robni_primer1 = hitro_izbiranje [3] 2"
   ]
  },
  {
   "cell_type": "markdown",
   "metadata": {},
   "source": [
    "Komentar na časovno zahtevnost:\n",
    "- funkcija $particija$ se sprehodi čez celoten seznam in v odvisnosti od pivota razdeli seznam v dva seznama. Njena časovna zahtevnost je zato O(n)\n",
    "- funkcija $hitro\\_izbiranje$ pa ..."
   ]
  },
  {
   "cell_type": "markdown",
   "metadata": {},
   "source": [
    "### Najbližji par točk v ravnini\n",
    "Dan naj bo seznam točk $[(x_1, y_1), (x_2, y_2), ..., (x_n, y_n)]$ v ravnini. Napišite algoritem, ki v času $O(n \\log n)$ izračuna par  točk $(x_i, y_i)$ in $(x_j, y_j)$, ki sta si med vsemi točkami v seznamu najbližje."
   ]
  },
  {
   "cell_type": "markdown",
   "metadata": {},
   "source": [
    "V bistvu iščem točki, ki ustrezata rešitvi funkcije: $$\\min_{\\substack{i, j \\\\ i \\neq j}} \\sqrt{(x_i - x_j)^2 + (y_i - y_j)^2}.$$\n"
   ]
  },
  {
   "cell_type": "code",
   "execution_count": 17,
   "metadata": {
    "vscode": {
     "languageId": "ocaml"
    }
   },
   "outputs": [
    {
     "data": {
      "text/plain": [
       "type tocka = { x : float; y : float; }\n"
      ]
     },
     "execution_count": 17,
     "metadata": {},
     "output_type": "execute_result"
    },
    {
     "data": {
      "text/plain": [
       "val razdalja : tocka -> tocka -> float = <fun>\n"
      ]
     },
     "execution_count": 17,
     "metadata": {},
     "output_type": "execute_result"
    }
   ],
   "source": [
    "(*najprej definiram tip tocka, ki bo prišel prav za računanje razdalj med točkami*)\n",
    "type tocka = {\n",
    "  x: float;\n",
    "  y: float\n",
    "}\n",
    "\n",
    "(*funkcija, ki izračuna razdaljo med dvema točkama*)\n",
    "let razdalja t1 t2 = \n",
    "  let dx = t1.x -. t2.x in\n",
    "  let dy = t1. y -. t2.y in\n",
    "  sqrt(dx *. dx +. dy *. dy)"
   ]
  },
  {
   "cell_type": "code",
   "execution_count": 20,
   "metadata": {
    "vscode": {
     "languageId": "ocaml"
    }
   },
   "outputs": [
    {
     "data": {
      "text/plain": [
       "val t1 : tocka = {x = 1.; y = 2.}\n"
      ]
     },
     "execution_count": 20,
     "metadata": {},
     "output_type": "execute_result"
    },
    {
     "data": {
      "text/plain": [
       "val t2 : tocka = {x = 5.; y = 6.}\n"
      ]
     },
     "execution_count": 20,
     "metadata": {},
     "output_type": "execute_result"
    },
    {
     "data": {
      "text/plain": [
       "val test5 : float = 5.65685424949238058\n"
      ]
     },
     "execution_count": 20,
     "metadata": {},
     "output_type": "execute_result"
    }
   ],
   "source": [
    "let t1 = {x = 1.0; y = 2.0}\n",
    "let t2 = {x = 5.0; y = 6.0}\n",
    "let test5 = razdalja t1 t2"
   ]
  },
  {
   "cell_type": "code",
   "execution_count": 21,
   "metadata": {
    "vscode": {
     "languageId": "ocaml"
    }
   },
   "outputs": [
    {
     "data": {
      "text/plain": [
       "val hitro_sortiranje : tocka list -> tocka list = <fun>\n"
      ]
     },
     "execution_count": 21,
     "metadata": {},
     "output_type": "execute_result"
    }
   ],
   "source": [
    "(*funkcija, ki z uporabo quick_sort algoritma vhodni seznam točk razvrsti po velikosti x - koordinat*)\n",
    "let rec hitro_sortiranje lst = match lst with\n",
    "  | [] -> []\n",
    "  | pivot :: xs ->\n",
    "    let l = List.filter (fun p -> p.x < pivot.x) xs in\n",
    "    let d = List.filter (fun p -> p.x >= pivot.x) xs in\n",
    "    (hitro_sortiranje l) @ [pivot] @ (hitro_sortiranje d)"
   ]
  },
  {
   "cell_type": "code",
   "execution_count": 22,
   "metadata": {
    "vscode": {
     "languageId": "ocaml"
    }
   },
   "outputs": [
    {
     "data": {
      "text/plain": [
       "val tocke : tocka list =\n",
       "  [{x = 2.; y = 3.}; {x = 40.; y = 50.}; {x = 5.; y = 1.};\n",
       "   {x = 12.; y = 10.}; {x = 3.; y = 4.}]\n"
      ]
     },
     "execution_count": 22,
     "metadata": {},
     "output_type": "execute_result"
    },
    {
     "data": {
      "text/plain": [
       "val test6 : tocka list =\n",
       "  [{x = 2.; y = 3.}; {x = 3.; y = 4.}; {x = 5.; y = 1.}; {x = 12.; y = 10.};\n",
       "   {x = 40.; y = 50.}]\n"
      ]
     },
     "execution_count": 22,
     "metadata": {},
     "output_type": "execute_result"
    }
   ],
   "source": [
    "let tocke = [\n",
    "  { x = 2.0; y = 3.0 };\n",
    "  { x = 40.0; y = 50.0 };\n",
    "  { x = 5.0; y = 1.0 };\n",
    "  { x = 12.0; y = 10.0 };\n",
    "  { x = 3.0; y = 4.0 }\n",
    "]\n",
    "\n",
    "let test6 = hitro_sortiranje tocke"
   ]
  },
  {
   "cell_type": "code",
   "execution_count": 23,
   "metadata": {
    "vscode": {
     "languageId": "ocaml"
    }
   },
   "outputs": [
    {
     "data": {
      "text/plain": [
       "val particija_tock : 'a list -> 'a list * 'a list = <fun>\n"
      ]
     },
     "execution_count": 23,
     "metadata": {},
     "output_type": "execute_result"
    }
   ],
   "source": [
    "(*funkcija razdeli urejen seznam točk na sredinski točki v dva podseznama*)\n",
    "let particija_tock lst = \n",
    "  let len = List.length lst in\n",
    "  let polovica = len / 2 in\n",
    "\n",
    "  let rec aux i acc1 acc2 = function\n",
    "  | [] -> (List.rev acc1, List.rev acc2)\n",
    "  | x :: xs -> \n",
    "    if i < polovica then\n",
    "      aux (i + 1) (x :: acc1) acc2 xs\n",
    "    else\n",
    "      aux (i + 1) acc1 (x :: acc2) xs \n",
    "    in\n",
    "    aux 0 [] [] lst"
   ]
  },
  {
   "cell_type": "code",
   "execution_count": 24,
   "metadata": {
    "vscode": {
     "languageId": "ocaml"
    }
   },
   "outputs": [
    {
     "data": {
      "text/plain": [
       "val test7 : tocka list * tocka list =\n",
       "  ([{x = 2.; y = 3.}; {x = 3.; y = 4.}],\n",
       "   [{x = 5.; y = 1.}; {x = 12.; y = 10.}; {x = 40.; y = 50.}])\n"
      ]
     },
     "execution_count": 24,
     "metadata": {},
     "output_type": "execute_result"
    }
   ],
   "source": [
    "let test7 = particija_tock test6"
   ]
  },
  {
   "cell_type": "code",
   "execution_count": 25,
   "metadata": {
    "vscode": {
     "languageId": "ocaml"
    }
   },
   "outputs": [
    {
     "data": {
      "text/plain": [
       "val min_razdalja : tocka list -> float = <fun>\n"
      ]
     },
     "execution_count": 25,
     "metadata": {},
     "output_type": "execute_result"
    }
   ],
   "source": [
    "let rec min_razdalja lst = match lst with\n",
    "  | [] -> infinity\n",
    "  | [_] -> infinity\n",
    "  | x :: xs -> \n",
    "    let rec aux d = function\n",
    "    | [] -> d\n",
    "    | x' :: xs' -> \n",
    "      let dist = razdalja x x' in\n",
    "      let min = if dist < d then dist else d in\n",
    "      aux min xs'\n",
    "    in\n",
    "    let mmm = min_razdalja xs in\n",
    "    min (aux mmm xs) mmm"
   ]
  },
  {
   "cell_type": "code",
   "execution_count": 26,
   "metadata": {
    "vscode": {
     "languageId": "ocaml"
    }
   },
   "outputs": [
    {
     "data": {
      "text/plain": [
       "val test8 : float = 1.41421356237309515\n"
      ]
     },
     "execution_count": 26,
     "metadata": {},
     "output_type": "execute_result"
    }
   ],
   "source": [
    "let test8 = min_razdalja test6"
   ]
  },
  {
   "cell_type": "code",
   "execution_count": 27,
   "metadata": {
    "vscode": {
     "languageId": "ocaml"
    }
   },
   "outputs": [
    {
     "data": {
      "text/plain": [
       "val minmin : tocka list -> tocka list -> float = <fun>\n"
      ]
     },
     "execution_count": 27,
     "metadata": {},
     "output_type": "execute_result"
    }
   ],
   "source": [
    "(*tako sem dobil zgornjo mejo za najkrajšo razdaljo med dvema točkama*)\n",
    "let minmin l d = \n",
    "  if min_razdalja l < min_razdalja d \n",
    "    then min_razdalja l \n",
    "else\n",
    "     min_razdalja d"
   ]
  },
  {
   "cell_type": "code",
   "execution_count": 28,
   "metadata": {
    "vscode": {
     "languageId": "ocaml"
    }
   },
   "outputs": [
    {
     "data": {
      "text/plain": [
       "val t1l : tocka list = [{x = 2.; y = 3.}; {x = 3.; y = 4.}]\n",
       "val t2l : tocka list =\n",
       "  [{x = 5.; y = 1.}; {x = 12.; y = 10.}; {x = 40.; y = 50.}]\n"
      ]
     },
     "execution_count": 28,
     "metadata": {},
     "output_type": "execute_result"
    },
    {
     "data": {
      "text/plain": [
       "val test9 : float = 1.41421356237309515\n"
      ]
     },
     "execution_count": 28,
     "metadata": {},
     "output_type": "execute_result"
    }
   ],
   "source": [
    "let t1l, t2l = test7\n",
    "let test9 = minmin t1l t2l"
   ]
  },
  {
   "cell_type": "code",
   "execution_count": 29,
   "metadata": {
    "vscode": {
     "languageId": "ocaml"
    }
   },
   "outputs": [
    {
     "data": {
      "text/plain": [
       "val i_ti_element : 'a list -> int -> 'a = <fun>\n"
      ]
     },
     "execution_count": 29,
     "metadata": {},
     "output_type": "execute_result"
    },
    {
     "data": {
      "text/plain": [
       "val vrni_pivot : 'a list -> 'a = <fun>\n"
      ]
     },
     "execution_count": 29,
     "metadata": {},
     "output_type": "execute_result"
    }
   ],
   "source": [
    "let rec i_ti_element lst i =\n",
    "  match lst with\n",
    "  | [] -> failwith \"prazen seznam\"\n",
    "  | x :: xs -> if i = 0 then x else i_ti_element xs (i - 1)\n",
    "\n",
    "let vrni_pivot lst = i_ti_element lst ((List.length lst) / 2)"
   ]
  },
  {
   "cell_type": "code",
   "execution_count": 30,
   "metadata": {
    "vscode": {
     "languageId": "ocaml"
    }
   },
   "outputs": [
    {
     "data": {
      "text/plain": [
       "val test10 : tocka = {x = 5.; y = 1.}\n"
      ]
     },
     "execution_count": 30,
     "metadata": {},
     "output_type": "execute_result"
    }
   ],
   "source": [
    "let test10 = vrni_pivot tocke "
   ]
  },
  {
   "cell_type": "code",
   "execution_count": 31,
   "metadata": {
    "vscode": {
     "languageId": "ocaml"
    }
   },
   "outputs": [
    {
     "data": {
      "text/plain": [
       "val strip : tocka list -> tocka list = <fun>\n"
      ]
     },
     "execution_count": 31,
     "metadata": {},
     "output_type": "execute_result"
    }
   ],
   "source": [
    "let rec strip lst = match lst with\n",
    "  | [] -> []\n",
    "  | t :: tocke -> let tl1, tl2 = particija_tock lst in\n",
    "   if abs_float(t.x -. (vrni_pivot lst).x) < minmin tl1 tl2 then t :: strip tocke else strip tocke "
   ]
  },
  {
   "cell_type": "code",
   "execution_count": 32,
   "metadata": {
    "vscode": {
     "languageId": "ocaml"
    }
   },
   "outputs": [
    {
     "data": {
      "text/plain": [
       "val test11 : tocka list =\n",
       "  [{x = 2.; y = 3.}; {x = 5.; y = 1.}; {x = 12.; y = 10.}; {x = 3.; y = 4.}]\n"
      ]
     },
     "execution_count": 32,
     "metadata": {},
     "output_type": "execute_result"
    }
   ],
   "source": [
    "let test11 = strip tocke"
   ]
  },
  {
   "cell_type": "code",
   "execution_count": 33,
   "metadata": {
    "vscode": {
     "languageId": "ocaml"
    }
   },
   "outputs": [
    {
     "data": {
      "text/plain": [
       "val hitro_sortiranje_y : tocka list -> tocka list = <fun>\n"
      ]
     },
     "execution_count": 33,
     "metadata": {},
     "output_type": "execute_result"
    }
   ],
   "source": [
    "let rec hitro_sortiranje_y lst = match lst with\n",
    "  | [] -> []\n",
    "  | pivot :: xs ->\n",
    "    let l = List.filter (fun p -> p.y < pivot.y) xs in\n",
    "    let d = List.filter (fun p -> p.y >= pivot.y) xs in\n",
    "    (hitro_sortiranje l) @ [pivot] @ (hitro_sortiranje d)"
   ]
  },
  {
   "cell_type": "code",
   "execution_count": 34,
   "metadata": {
    "vscode": {
     "languageId": "ocaml"
    }
   },
   "outputs": [
    {
     "data": {
      "text/plain": [
       "val test12 : tocka list =\n",
       "  [{x = 5.; y = 1.}; {x = 2.; y = 3.}; {x = 3.; y = 4.}; {x = 12.; y = 10.}]\n"
      ]
     },
     "execution_count": 34,
     "metadata": {},
     "output_type": "execute_result"
    }
   ],
   "source": [
    "let test12 = hitro_sortiranje_y test11"
   ]
  },
  {
   "cell_type": "code",
   "execution_count": null,
   "metadata": {
    "vscode": {
     "languageId": "ocaml"
    }
   },
   "outputs": [],
   "source": []
  },
  {
   "cell_type": "markdown",
   "metadata": {},
   "source": [
    "## DINAMIČNO PROGRAMIRANJE\n",
    "Iz spodnjega seznama nalog na strani $Project\\ Euler$ rešite naloge, skupaj vredne vsaj 6 točk:\n",
    "- <span style=\"color:green\"> **#31 Coin Sums (1)**</span>\n",
    "- #67 Maximum Path Sum II (1)\n",
    "- #82 Path Sum: Three Ways (2)\n",
    "- #115 Counting block Combinations II (2)\n",
    "\n",
    "- <span style=\"color:red\"> **#117 Red, Green, and Blue Tiles (2)**</span>\n",
    "\n",
    "- #215 Vrack-free walls (3)\n",
    "- #534 Weak Queens (4)"
   ]
  },
  {
   "cell_type": "code",
   "execution_count": null,
   "metadata": {
    "vscode": {
     "languageId": "ocaml"
    }
   },
   "outputs": [
    {
     "data": {
      "text/plain": [
       "val nth : 'a list -> int -> 'a = <fun>\n"
      ]
     },
     "execution_count": 4,
     "metadata": {},
     "output_type": "execute_result"
    },
    {
     "data": {
      "text/plain": [
       "val coin_sum : int list -> int -> int -> int = <fun>\n"
      ]
     },
     "execution_count": 4,
     "metadata": {},
     "output_type": "execute_result"
    },
    {
     "data": {
      "text/plain": [
       "val coin_sums : int list -> int -> int = <fun>\n"
      ]
     },
     "execution_count": 4,
     "metadata": {},
     "output_type": "execute_result"
    }
   ],
   "source": [
    "(* #31 Coin Sums *)\n",
    "\n",
    "let rec nth lst n =\n",
    "  (*vrne n-ti element seznama*)\n",
    "  match lst with\n",
    "  | [] -> failwith \"List is too short\"\n",
    "  | x :: xs -> if n = 0 then x else nth xs (n - 1)\n",
    "\n",
    "\n",
    "let rec coin_sum kovanci n sum = match sum with\n",
    "  | 0 -> 1\n",
    "  | s -> if sum < 0 || n = 0 then 0 \n",
    "  else coin_sum kovanci n (s - nth kovanci (n - 1)) + coin_sum kovanci (n - 1) s\n",
    "\n",
    "  let rec coin_sums kovanci sum = \n",
    "    coin_sum kovanci (List.length kovanci) sum\n",
    " "
   ]
  },
  {
   "cell_type": "code",
   "execution_count": 5,
   "metadata": {
    "vscode": {
     "languageId": "ocaml"
    }
   },
   "outputs": [
    {
     "data": {
      "text/plain": [
       "val test : int = 73682\n"
      ]
     },
     "execution_count": 5,
     "metadata": {},
     "output_type": "execute_result"
    }
   ],
   "source": [
    "let test = coin_sums [1; 2; 5; 10; 20; 50; 100; 200] 200"
   ]
  },
  {
   "cell_type": "code",
   "execution_count": null,
   "metadata": {
    "vscode": {
     "languageId": "ocaml"
    }
   },
   "outputs": [],
   "source": [
    "(* #117 Red, Green and Blue Tiles *)"
   ]
  }
 ],
 "metadata": {
  "kernelspec": {
   "display_name": "OCaml 4.14",
   "language": "OCaml",
   "name": "ocaml-jupyter"
  },
  "language_info": {
   "codemirror_mode": "text/x-ocaml",
   "file_extension": ".ml",
   "mimetype": "text/x-ocaml",
   "name": "OCaml",
   "nbconverter_exporter": null,
   "pygments_lexer": "OCaml",
   "version": "4.14.2"
  }
 },
 "nbformat": 4,
 "nbformat_minor": 2
}
