{
 "cells": [
  {
   "cell_type": "markdown",
   "metadata": {},
   "source": [
    "# 5. DOMAČA NALOGA"
   ]
  },
  {
   "cell_type": "markdown",
   "metadata": {},
   "source": [
    "Pri tej domači nalogi boste rešili nekaj računskih problemov s pomočjo metod, ki smo jih spoznali na predavanjih. Vse naloge rešujte v OCamlu, vsako rešitev pa dobro dokumentirajte, da bo iz nje razvidna pravilnost ter časovna zahtevnost rešitve.\n",
    "\n",
    "Pri vsaki nalogi bomo ocenjevali učinkovitost, preglednost in eleganco rešitve ter natančnost, razumljivost in pravilnost spremnega besedila."
   ]
  },
  {
   "cell_type": "markdown",
   "metadata": {},
   "source": [
    "## DELI IN VLADAJ \n",
    "Rešiti morate dva klasična problema, ki se rešujeta z metodo deli in vladaj.\n",
    "\n",
    "### Hitro izbiranje\n",
    "Dan naj bo neurejen seznam celih števil $[a_1, a_2, ... , a_n]$ in število $1 \\le k \\le n$. Napišite algoritem, ki v času $O(n)$ poišče po velikosti $k$-to število v seznamu. Torej za $k = 1$ bi algoritem vrnil najmanjše, za $k = n$ pa največje število v seznamu."
   ]
  },
  {
   "cell_type": "code",
   "execution_count": null,
   "metadata": {
    "vscode": {
     "languageId": "ocaml"
    }
   },
   "outputs": [
    {
     "data": {
      "text/plain": [
       "val particija : 'a -> 'a list -> 'a list -> 'a list -> 'a list * 'a list =\n",
       "  <fun>\n"
      ]
     },
     "execution_count": 1,
     "metadata": {},
     "output_type": "execute_result"
    }
   ],
   "source": [
    "(*najprej definiram funkcijo particija, ki za vhodne podatke vzame pivot, seznam ki ga želimo razdeliti ter v začetku dva prazna seznama, \n",
    "označena l in d, ki se nato z rekurzivnimi klici funkcije polnita, dokler ne postaneta particiji prvotnega seznama*)\n",
    "\n",
    "(*particija je pomožna funkcija algoritmu hitrega izbiranja*)\n",
    "\n",
    "let rec particija pivot lst l d = match lst with\n",
    "  (*če pridem do praznega seznama, je postopek particije končan in vrnem do tedaj pridelana seznama*)\n",
    "  | [] -> (l, d)\n",
    "  (*sicer pa vsak element v seznamu primerjam s pivotom*)\n",
    "  | x :: xs -> if x < pivot then\n",
    "    (*če je strogo manjši od pivota, ga dam v levi seznam in rekurzivno kličem naprej*)\n",
    "    particija pivot xs (x :: l) d\n",
    "  else\n",
    "    (*sicer pa ga dam v desni seznam*)\n",
    "    particija pivot xs l (x :: d)"
   ]
  },
  {
   "cell_type": "code",
   "execution_count": 3,
   "metadata": {
    "vscode": {
     "languageId": "ocaml"
    }
   },
   "outputs": [
    {
     "data": {
      "text/plain": [
       "val test1 : int list * int list = ([2; 8; 1; 5; 3; 6], [16; 19; 9; 12; 10])\n"
      ]
     },
     "execution_count": 3,
     "metadata": {},
     "output_type": "execute_result"
    }
   ],
   "source": [
    "let test1 = particija 9 [10; 12; 6; 9; 3; 5; 1; 19; 16; 8; 2] [] []"
   ]
  },
  {
   "cell_type": "code",
   "execution_count": 4,
   "metadata": {
    "vscode": {
     "languageId": "ocaml"
    }
   },
   "outputs": [
    {
     "data": {
      "text/plain": [
       "val hitro_izbiranje : 'a list -> int -> 'a = <fun>\n"
      ]
     },
     "execution_count": 4,
     "metadata": {},
     "output_type": "execute_result"
    }
   ],
   "source": [
    "(*algoritem hitro_izbiranje / quick_select*)\n",
    "\n",
    "let rec hitro_izbiranje lst k = match lst with\n",
    "(*vhodna podatka: seznam nesortiranih števil, indeks k*)\n",
    "  (*dva robna primera: prazen seznam, kjer algoritem ne naredi nič in seznam s samo enim elementom - vrne ta element*)\n",
    "  | [] -> failwith \"Seznam je prazen.\"\n",
    "  | [x] -> x \n",
    "\n",
    "  (*sicer pa v vsakem koraku izbere pivot, ki je prvi element iz seznama*)\n",
    "  | pivot :: xs -> \n",
    "    (*na podlagi tega pivota ustvari particijo z zgoraj spisano funkcijo*)\n",
    "    let (l, d) = particija pivot xs [] [] in\n",
    "    let len_l = List.length l in\n",
    "    (*preverim, v katero particijo pade indeks k*)\n",
    "    if k - 1 < len_l then\n",
    "      (*če je v levi particiji, rekurzivno kličem naprej z novim (levim) seznamom in nespremenjenim indeksom*)\n",
    "      hitro_izbiranje l k \n",
    "    else if k - 1 > len_l then\n",
    "      (*če spada v desno particijo pa rekurzivno kličem na desnem seznamu; tu pa je potrebno prilagoditi tudi indeks*)\n",
    "      hitro_izbiranje d (k - len_l - 1)\n",
    "    else\n",
    "      pivot"
   ]
  },
  {
   "cell_type": "code",
   "execution_count": 13,
   "metadata": {
    "vscode": {
     "languageId": "ocaml"
    }
   },
   "outputs": [
    {
     "data": {
      "text/plain": [
       "val test2 : int = 5\n"
      ]
     },
     "execution_count": 13,
     "metadata": {},
     "output_type": "execute_result"
    },
    {
     "data": {
      "text/plain": [
       "val test3 : int = 8\n"
      ]
     },
     "execution_count": 13,
     "metadata": {},
     "output_type": "execute_result"
    },
    {
     "data": {
      "text/plain": [
       "val test4 : int = 11\n"
      ]
     },
     "execution_count": 13,
     "metadata": {},
     "output_type": "execute_result"
    },
    {
     "data": {
      "text/plain": [
       "val test5 : int = 10\n"
      ]
     },
     "execution_count": 13,
     "metadata": {},
     "output_type": "execute_result"
    },
    {
     "data": {
      "text/plain": [
       "val robni_primer1 : int = 3\n"
      ]
     },
     "execution_count": 13,
     "metadata": {},
     "output_type": "execute_result"
    }
   ],
   "source": [
    "let test2 = hitro_izbiranje [3; 5; 2; 8] 3\n",
    "\n",
    "let test3 = hitro_izbiranje [13; 22; 10; 6; 9; 3; 5; 8; 7; 19; 1] 6\n",
    "\n",
    "let test4 = hitro_izbiranje [11; 1; 3; 8; 9; 15; 14; 2] 6\n",
    "\n",
    "let test5 = hitro_izbiranje [1; 2; 3; 4; 5; 6; 7; 8; 9; 20; 19; 18; 17; 16; 15; 14; 13; 12; 11; 10] 10\n",
    "\n",
    "let robni_primer1 = hitro_izbiranje [3] 2"
   ]
  },
  {
   "cell_type": "markdown",
   "metadata": {},
   "source": [
    "##### Komentar na časovno zahtevnost:\n",
    "- funkcija $particija$ za vhodna podatka sprejme pivot in seznam celih števil, in ta seznam razdeli na dva seznama. Pri tem se sprehodi čez vsak element v seznamu in ga po velikosti primerja s pivotom. Ker ima primerjava po velikosti in dodajanje elementa v seznam konstantno časovno zahtevnost $O(1)$, je zato časovna zahtevnost celotne funkcije $particija \\ O(n)$, kjer je $n$ seveda dolžina vhodnega seznama \n",
    "- v funkciji $hitro\\_izbiranje$ po procesu particije funkcija rekurzivno kliče sama sebe. V povprečju pa vsak naslednji korak particije razpolovi velikost problema, zato je potrebnih logaritemsko mnogo število particij (v povprečju). Ker pa je sam postopek particije časovne zahtevnosti $O(n)$, je zato tudi $hitro\\_izbiranje$ iste časovne zahtevnosti. V najslabšem primeru (ko je izbran pivot vedno največji ali najmanjši element v seznamu) je potrebnih $n$ korakov particije in zato postane skupna časovna zahtevnost $O(n^2)$."
   ]
  },
  {
   "cell_type": "markdown",
   "metadata": {},
   "source": [
    "### Najbližji par točk v ravnini\n",
    "Dan naj bo seznam točk $[(x_1, y_1), (x_2, y_2), ..., (x_n, y_n)]$ v ravnini. Napišite algoritem, ki v času $O(n \\log n)$ izračuna par  točk $(x_i, y_i)$ in $(x_j, y_j)$, ki sta si med vsemi točkami v seznamu najbližje."
   ]
  },
  {
   "cell_type": "markdown",
   "metadata": {},
   "source": [
    "V bistvu iščem točki, ki ustrezata rešitvi funkcije: $$\\min_{\\substack{i, j \\\\ i \\neq j}} \\sqrt{(x_i - x_j)^2 + (y_i - y_j)^2}.$$\n"
   ]
  },
  {
   "cell_type": "markdown",
   "metadata": {},
   "source": [
    "Najprej definiram tip $tocka$, v katerem bom zapisoval točke. Definiram še funkcijo $razdalja$, ki bo računala razdaljo med dvema točkama."
   ]
  },
  {
   "cell_type": "code",
   "execution_count": 120,
   "metadata": {
    "vscode": {
     "languageId": "ocaml"
    }
   },
   "outputs": [
    {
     "data": {
      "text/plain": [
       "type tocka = { x : float; y : float; }\n"
      ]
     },
     "execution_count": 120,
     "metadata": {},
     "output_type": "execute_result"
    },
    {
     "data": {
      "text/plain": [
       "val razdalja : tocka -> tocka -> float = <fun>\n"
      ]
     },
     "execution_count": 120,
     "metadata": {},
     "output_type": "execute_result"
    }
   ],
   "source": [
    "type tocka = {\n",
    "  x: float;\n",
    "  y: float\n",
    "}\n",
    "\n",
    "let razdalja t1 t2 = \n",
    "  let dx = t1.x -. t2.x in\n",
    "  let dy = t1. y -. t2.y in\n",
    "  sqrt(dx *. dx +. dy *. dy)"
   ]
  },
  {
   "cell_type": "markdown",
   "metadata": {},
   "source": [
    "Spodaj sta zapisani funkciji $hitro\\_sortiranje\\_x$ in $hitro\\_sortiranje\\_y$, ki z uporabo algoritma $quick\\_sort$ uredita seznam točk po velikosti x ali y - koordinat. Funkciji sta časovne zahtevnosti $O(n \\cdot logn)$."
   ]
  },
  {
   "cell_type": "code",
   "execution_count": 123,
   "metadata": {
    "vscode": {
     "languageId": "ocaml"
    }
   },
   "outputs": [
    {
     "data": {
      "text/plain": [
       "val hitro_sortiranje_x : tocka list -> tocka list = <fun>\n"
      ]
     },
     "execution_count": 123,
     "metadata": {},
     "output_type": "execute_result"
    }
   ],
   "source": [
    "let rec hitro_sortiranje_x lst = match lst with\n",
    "  | [] -> []\n",
    "  | pivot :: xs ->\n",
    "    (*l...seznam z elementi, ki so manjši od pivota*)\n",
    "    let l = List.filter (fun p -> p.x < pivot.x) xs in\n",
    "    (*d... -||-, ki so večji od pivota*)\n",
    "    let d = List.filter (fun p -> p.x >= pivot.x) xs in\n",
    "    (*rekurzivno se seznama l in d urejata dalje, vsak s svojim novim pivotom*)\n",
    "    (hitro_sortiranje_x l) @ [pivot] @ (hitro_sortiranje_x d)\n",
    "    (*s stikanjem seznamov dobim končen urejen seznam*)"
   ]
  },
  {
   "cell_type": "code",
   "execution_count": 124,
   "metadata": {
    "vscode": {
     "languageId": "ocaml"
    }
   },
   "outputs": [
    {
     "data": {
      "text/plain": [
       "val hitro_sortiranje_y : tocka list -> tocka list = <fun>\n"
      ]
     },
     "execution_count": 124,
     "metadata": {},
     "output_type": "execute_result"
    }
   ],
   "source": [
    "let rec hitro_sortiranje_y lst = match lst with\n",
    "  | [] -> []\n",
    "  | pivot :: xs ->\n",
    "    let l = List.filter (fun p -> p.y < pivot.y) xs in\n",
    "    let d = List.filter (fun p -> p.y >= pivot.y) xs in\n",
    "    (hitro_sortiranje_y l) @ [pivot] @ (hitro_sortiranje_y d)"
   ]
  },
  {
   "cell_type": "code",
   "execution_count": 127,
   "metadata": {
    "vscode": {
     "languageId": "ocaml"
    }
   },
   "outputs": [
    {
     "data": {
      "text/plain": [
       "val tocke : tocka list =\n",
       "  [{x = 1.5; y = 3.2}; {x = 4.8; y = 1.9}; {x = 2.3; y = 4.7};\n",
       "   {x = 6.1; y = 2.8}; {x = 3.4; y = 5.6}; {x = 7.2; y = 3.3};\n",
       "   {x = 5.5; y = 6.7}; {x = 8.; y = 4.1}; {x = 9.3; y = 7.5}]\n"
      ]
     },
     "execution_count": 127,
     "metadata": {},
     "output_type": "execute_result"
    },
    {
     "data": {
      "text/plain": [
       "val primer1 : tocka list =\n",
       "  [{x = 1.5; y = 3.2}; {x = 2.3; y = 4.7}; {x = 3.4; y = 5.6};\n",
       "   {x = 4.8; y = 1.9}; {x = 5.5; y = 6.7}; {x = 6.1; y = 2.8};\n",
       "   {x = 7.2; y = 3.3}; {x = 8.; y = 4.1}; {x = 9.3; y = 7.5}]\n"
      ]
     },
     "execution_count": 127,
     "metadata": {},
     "output_type": "execute_result"
    },
    {
     "data": {
      "text/plain": [
       "val primer2 : tocka list =\n",
       "  [{x = 4.8; y = 1.9}; {x = 6.1; y = 2.8}; {x = 1.5; y = 3.2};\n",
       "   {x = 7.2; y = 3.3}; {x = 8.; y = 4.1}; {x = 2.3; y = 4.7};\n",
       "   {x = 3.4; y = 5.6}; {x = 5.5; y = 6.7}; {x = 9.3; y = 7.5}]\n"
      ]
     },
     "execution_count": 127,
     "metadata": {},
     "output_type": "execute_result"
    }
   ],
   "source": [
    "(*primer seznama točk, ki ga bom uporabljal za izračun min razdalje*)\n",
    "let tocke = [\n",
    "  { x = 1.5; y = 3.2 };\n",
    "  { x = 4.8; y = 1.9 };\n",
    "  { x = 2.3; y = 4.7 };\n",
    "  { x = 6.1; y = 2.8 };\n",
    "  { x = 3.4; y = 5.6 };\n",
    "  { x = 7.2; y = 3.3 };\n",
    "  { x = 5.5; y = 6.7 };\n",
    "  { x = 8.0; y = 4.1 };\n",
    "  { x = 9.3; y = 7.5 }\n",
    "]\n",
    "\n",
    "let primer1 = hitro_sortiranje_x tocke\n",
    "let primer2 = hitro_sortiranje_y tocke"
   ]
  },
  {
   "cell_type": "markdown",
   "metadata": {},
   "source": [
    "Sedaj bom definiral funkcijo, ki razdeli seznam urejen naraščajoče po x - koordinatah na polovico in vrne oba seznama. Funkcija bo uporabna v nadaljevanju, ko bom v seznamih iskal minimalno razdaljo."
   ]
  },
  {
   "cell_type": "code",
   "execution_count": 128,
   "metadata": {
    "vscode": {
     "languageId": "ocaml"
    }
   },
   "outputs": [
    {
     "data": {
      "text/plain": [
       "val razdeli_tocke : 'a list -> 'a list * 'a list = <fun>\n"
      ]
     },
     "execution_count": 128,
     "metadata": {},
     "output_type": "execute_result"
    }
   ],
   "source": [
    "let razdeli_tocke lst = \n",
    "  let k = (List.length lst) / 2 in\n",
    "  let rec aux i acc1 acc2 = function\n",
    "  | [] -> (List.rev acc1, List.rev acc2)\n",
    "  | x :: xs -> \n",
    "    if i < k then\n",
    "      aux (i + 1) (x :: acc1) acc2 xs\n",
    "    else\n",
    "      aux (i + 1) acc1 (x :: acc2) xs \n",
    "  in\n",
    "  aux 0 [] [] lst"
   ]
  },
  {
   "cell_type": "code",
   "execution_count": 129,
   "metadata": {
    "vscode": {
     "languageId": "ocaml"
    }
   },
   "outputs": [
    {
     "data": {
      "text/plain": [
       "val primer3 : tocka list * tocka list =\n",
       "  ([{x = 1.5; y = 3.2}; {x = 2.3; y = 4.7}; {x = 3.4; y = 5.6};\n",
       "    {x = 4.8; y = 1.9}],\n",
       "   [{x = 5.5; y = 6.7}; {x = 6.1; y = 2.8}; {x = 7.2; y = 3.3};\n",
       "    {x = 8.; y = 4.1}; {x = 9.3; y = 7.5}])\n"
      ]
     },
     "execution_count": 129,
     "metadata": {},
     "output_type": "execute_result"
    }
   ],
   "source": [
    "let primer3 = razdeli_tocke primer1"
   ]
  },
  {
   "cell_type": "markdown",
   "metadata": {},
   "source": [
    "Funkcija $min\\_razdalja$ izračuna najmanjšo razdaljo v obeh seznamih."
   ]
  },
  {
   "cell_type": "code",
   "execution_count": 130,
   "metadata": {
    "vscode": {
     "languageId": "ocaml"
    }
   },
   "outputs": [
    {
     "data": {
      "text/plain": [
       "val min_razdalja : tocka list * tocka list -> float = <fun>\n"
      ]
     },
     "execution_count": 130,
     "metadata": {},
     "output_type": "execute_result"
    }
   ],
   "source": [
    "let rec min_razdalja (tocke1, tocke2) = match tocke1, tocke2 with\n",
    "  | [], _ -> infinity  \n",
    "  | _, [] -> infinity  \n",
    "  | t1 :: ostalo1, t2 :: ostalo2 ->\n",
    "    let t1_t2 = razdalja t1 t2 in\n",
    "    let min_d = min (min_razdalja (ostalo1, tocke2)) (min_razdalja (tocke1, ostalo2)) in\n",
    "    min t1_t2 min_d"
   ]
  },
  {
   "cell_type": "code",
   "execution_count": 131,
   "metadata": {
    "vscode": {
     "languageId": "ocaml"
    }
   },
   "outputs": [
    {
     "data": {
      "text/plain": [
       "val primer4 : float = 1.58113883008418932\n"
      ]
     },
     "execution_count": 131,
     "metadata": {},
     "output_type": "execute_result"
    }
   ],
   "source": [
    "let primer4 = min_razdalja primer3"
   ]
  },
  {
   "cell_type": "markdown",
   "metadata": {},
   "source": [
    "Sedaj definiram funkcijo, ki vrne sredinsko točko v seznamu urejenem po x - koordinatah."
   ]
  },
  {
   "cell_type": "code",
   "execution_count": 132,
   "metadata": {
    "vscode": {
     "languageId": "ocaml"
    }
   },
   "outputs": [
    {
     "data": {
      "text/plain": [
       "val sredinska_tocka : tocka list -> tocka = <fun>\n"
      ]
     },
     "execution_count": 132,
     "metadata": {},
     "output_type": "execute_result"
    }
   ],
   "source": [
    "let sredinska_tocka lst = \n",
    "  let urejen_seznam = hitro_sortiranje_x lst in\n",
    "  let len = List.length urejen_seznam in\n",
    "  List.nth urejen_seznam (len / 2)"
   ]
  },
  {
   "cell_type": "code",
   "execution_count": 134,
   "metadata": {
    "vscode": {
     "languageId": "ocaml"
    }
   },
   "outputs": [
    {
     "data": {
      "text/plain": [
       "val primer5 : tocka = {x = 5.5; y = 6.7}\n"
      ]
     },
     "execution_count": 134,
     "metadata": {},
     "output_type": "execute_result"
    }
   ],
   "source": [
    "let primer5 = sredinska_tocka tocke"
   ]
  },
  {
   "cell_type": "markdown",
   "metadata": {},
   "source": [
    "Funkcija $strip$ vrne seznam točk, ki so po x - koordinatah od sredinske točke oddaljene za manj ali enako od prej izračunane najmanjše razdalje v obeh seznamih."
   ]
  },
  {
   "cell_type": "code",
   "execution_count": 135,
   "metadata": {
    "vscode": {
     "languageId": "ocaml"
    }
   },
   "outputs": [
    {
     "data": {
      "text/plain": [
       "val strip : tocka list -> float -> tocka list = <fun>\n"
      ]
     },
     "execution_count": 135,
     "metadata": {},
     "output_type": "execute_result"
    }
   ],
   "source": [
    "let rec strip lst d = \n",
    "  let sredina = sredinska_tocka lst in\n",
    "  hitro_sortiranje_y (List.filter (fun tocka -> abs_float(tocka.x -. sredina.x) <= d) lst)"
   ]
  },
  {
   "cell_type": "code",
   "execution_count": 139,
   "metadata": {
    "vscode": {
     "languageId": "ocaml"
    }
   },
   "outputs": [
    {
     "data": {
      "text/plain": [
       "val primer6 : tocka list =\n",
       "  [{x = 4.8; y = 1.9}; {x = 6.1; y = 2.8}; {x = 5.5; y = 6.7}]\n"
      ]
     },
     "execution_count": 139,
     "metadata": {},
     "output_type": "execute_result"
    }
   ],
   "source": [
    "let primer6 = strip primer1 primer4"
   ]
  },
  {
   "cell_type": "markdown",
   "metadata": {},
   "source": [
    "Nazadnje poračunam najmanjšo razdlajo v seznamu strip."
   ]
  },
  {
   "cell_type": "code",
   "execution_count": 145,
   "metadata": {
    "vscode": {
     "languageId": "ocaml"
    }
   },
   "outputs": [
    {
     "data": {
      "text/plain": [
       "val najblizji_par : tocka list -> (tocka * tocka) * float = <fun>\n"
      ]
     },
     "execution_count": 145,
     "metadata": {},
     "output_type": "execute_result"
    }
   ],
   "source": [
    "let najblizji_par lst =\n",
    "  let rec najmanjsa_razdalja min_par min_dist = function\n",
    "    | [] | [_] -> min_par, min_dist\n",
    "    | t1 :: ostalo ->\n",
    "      let nov_min_par, nova_min_dist =\n",
    "        List.fold_left (fun (par, dist) t2 ->\n",
    "          let d = razdalja t1 t2 in\n",
    "          if d < dist then (t1, t2), d else par, dist) (min_par, min_dist) ostalo\n",
    "      in\n",
    "      najmanjsa_razdalja nov_min_par nova_min_dist ostalo\n",
    "  in\n",
    "  match lst with\n",
    "  | [] | [_] -> failwith \"List must contain at least two points\"\n",
    "  | t1 :: t2 :: ostalo -> najmanjsa_razdalja (t1, t2) (razdalja t1 t2) (t1 :: t2 :: ostalo)\n"
   ]
  },
  {
   "cell_type": "code",
   "execution_count": 146,
   "metadata": {
    "vscode": {
     "languageId": "ocaml"
    }
   },
   "outputs": [
    {
     "data": {
      "text/plain": [
       "val primer7 : (tocka * tocka) * float =\n",
       "  (({x = 4.8; y = 1.9}, {x = 6.1; y = 2.8}), 1.58113883008418932)\n"
      ]
     },
     "execution_count": 146,
     "metadata": {},
     "output_type": "execute_result"
    }
   ],
   "source": [
    "let primer7 = najblizji_par primer6"
   ]
  },
  {
   "cell_type": "markdown",
   "metadata": {},
   "source": [
    "## DINAMIČNO PROGRAMIRANJE\n",
    "Iz spodnjega seznama nalog na strani $Project\\ Euler$ rešite naloge, skupaj vredne vsaj 6 točk:\n",
    "- <span style=\"color:green\"> **#31 Coin Sums (1)**</span>\n",
    "- #67 Maximum Path Sum II (1)\n",
    "- #82 Path Sum: Three Ways (2)\n",
    "- #115 Counting block Combinations II (2)\n",
    "\n",
    "- <span style=\"color:red\"> **#117 Red, Green, and Blue Tiles (2)**</span>\n",
    "\n",
    "- #215 Vrack-free walls (3)\n",
    "- #534 Weak Queens (4)"
   ]
  },
  {
   "cell_type": "markdown",
   "metadata": {},
   "source": [
    "#### #31 Coin Sums\n",
    "Pri reševanju te naloge je ključna rekurzivna formula $$st\\_kombinacij(kovanci, n, sum) = st\\_kombinacij(kovanci, n, sum - kovanci[n-1]) + st\\_kombinacij(kovanci, n - 1, sum)$$ in pa robna pogoja $$st\\_kombinacij(kovanci, n, 0) = 1$$ in pa $$st\\_kombinacij(kovanci, 0, sum) = 0.$$"
   ]
  },
  {
   "cell_type": "code",
   "execution_count": 153,
   "metadata": {
    "vscode": {
     "languageId": "ocaml"
    }
   },
   "outputs": [
    {
     "data": {
      "text/plain": [
       "val i_ti : 'a list -> int -> 'a = <fun>\n"
      ]
     },
     "execution_count": 153,
     "metadata": {},
     "output_type": "execute_result"
    },
    {
     "data": {
      "text/plain": [
       "val coin_sum : int list -> int -> int -> int = <fun>\n"
      ]
     },
     "execution_count": 153,
     "metadata": {},
     "output_type": "execute_result"
    },
    {
     "data": {
      "text/plain": [
       "val coin_sums : int list -> int -> int = <fun>\n"
      ]
     },
     "execution_count": 153,
     "metadata": {},
     "output_type": "execute_result"
    }
   ],
   "source": [
    "(* #31 Coin Sums *)\n",
    "\n",
    "(*vrne i-ti element seznama*)\n",
    "let rec i_ti lst i =\n",
    "  match lst with\n",
    "  | [] -> failwith \"prazen seznam\"\n",
    "  | x :: xs -> if i = 0 then x else i_ti xs (i - 1)\n",
    "\n",
    "\n",
    "let rec coin_sum kovanci n sum = match sum with\n",
    "  (*oba robna pogoja*)\n",
    "  | 0 -> 1\n",
    "  | s -> if sum < 0 || n = 0 then 0 \n",
    "  (*in rekurzivna formula*)\n",
    "  else coin_sum kovanci n (s - i_ti kovanci (n - 1)) + coin_sum kovanci (n - 1) s\n",
    "\n",
    "\n",
    "let rec coin_sums kovanci sum = \n",
    "  coin_sum kovanci (List.length kovanci) sum\n",
    " "
   ]
  },
  {
   "cell_type": "code",
   "execution_count": 152,
   "metadata": {
    "vscode": {
     "languageId": "ocaml"
    }
   },
   "outputs": [
    {
     "data": {
      "text/plain": [
       "val test : int = 73682\n"
      ]
     },
     "execution_count": 152,
     "metadata": {},
     "output_type": "execute_result"
    }
   ],
   "source": [
    "let test = coin_sums [1; 2; 5; 10; 20; 50; 100; 200] 200"
   ]
  }
 ],
 "metadata": {
  "kernelspec": {
   "display_name": "OCaml 4.14",
   "language": "OCaml",
   "name": "ocaml-jupyter"
  },
  "language_info": {
   "codemirror_mode": "text/x-ocaml",
   "file_extension": ".ml",
   "mimetype": "text/x-ocaml",
   "name": "OCaml",
   "nbconverter_exporter": null,
   "pygments_lexer": "OCaml",
   "version": "4.14.2"
  }
 },
 "nbformat": 4,
 "nbformat_minor": 2
}
