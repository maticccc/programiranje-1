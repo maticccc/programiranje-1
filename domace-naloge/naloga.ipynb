{
 "cells": [
  {
   "cell_type": "markdown",
   "metadata": {},
   "source": [
    "# 1. DOMAČA NALOGA"
   ]
  },
  {
   "cell_type": "markdown",
   "metadata": {},
   "source": [
    "### 1. Števke\n",
    "Napišite funkcijo `stevke : int -> int -> int list`, ki sprejme pozitivni celi\n",
    " števili $b$ in $n$ ter vrne seznam števk števila $n$ v bazi $b$. Pri tem tudi\n",
    " za baze, ki so večje od $10$, uporabimo števke od $0$ do $b - 1$."
   ]
  },
  {
   "cell_type": "code",
   "execution_count": 24,
   "metadata": {
    "vscode": {
     "languageId": "ocaml"
    }
   },
   "outputs": [
    {
     "data": {
      "text/plain": [
       "val stevke : int -> int -> int list = <fun>\n"
      ]
     },
     "execution_count": 24,
     "metadata": {},
     "output_type": "execute_result"
    },
    {
     "data": {
      "text/plain": [
       "val primer_1_1 : int list = [0; 1; 2; 3; 4; 5]\n"
      ]
     },
     "execution_count": 24,
     "metadata": {},
     "output_type": "execute_result"
    },
    {
     "data": {
      "text/plain": [
       "val primer_1_2 : int list = [0; 1; 0; 1; 0; 1; 0]\n"
      ]
     },
     "execution_count": 24,
     "metadata": {},
     "output_type": "execute_result"
    },
    {
     "data": {
      "text/plain": [
       "val primer_1_3 : int list = [0; 3; 14; 15; 9]\n"
      ]
     },
     "execution_count": 24,
     "metadata": {},
     "output_type": "execute_result"
    },
    {
     "data": {
      "text/plain": [
       "val robni1 : int list = [0]\n"
      ]
     },
     "execution_count": 24,
     "metadata": {},
     "output_type": "execute_result"
    }
   ],
   "source": [
    "let rec stevke b n = match n with\n",
    "  | 0 -> [0]\n",
    "  | n -> stevke b (n / b) @ [n mod b]\n",
    "\n",
    "let primer_1_1 = stevke 10 12345\n",
    "(* val primer_1_1 : int list = [1; 2; 3; 4; 5] *)\n",
    "\n",
    "let primer_1_2 = stevke 2 42\n",
    "(* val primer_1_2 : int list = [1; 0; 1; 0; 1; 0] *)\n",
    "\n",
    "let primer_1_3 = stevke 16 (3 * 16 * 16 * 16 + 14 * 16 * 16 + 15 * 16 + 9)\n",
    "(* val primer_1_3 : int list = [3; 14; 15; 9] *)\n",
    "\n",
    "(*robni primer*)\n",
    "let robni1 = stevke 2 0"
   ]
  },
  {
   "cell_type": "markdown",
   "metadata": {},
   "source": [
    "### 2. Začetek seznama\n",
    "Napišite funkcijo `take : int -> 'a list -> 'a list`, ki sprejme naravno\n",
    " število in vrne ustrezno število elementov z začetka danega seznama. Če je\n",
    " podani seznam krajši od zahtevane dolžine, naj funkcija vrne kar celoten\n",
    " seznam."
   ]
  },
  {
   "cell_type": "code",
   "execution_count": 25,
   "metadata": {
    "vscode": {
     "languageId": "ocaml"
    }
   },
   "outputs": [
    {
     "data": {
      "text/plain": [
       "val take : int -> 'a list -> 'a list = <fun>\n"
      ]
     },
     "execution_count": 25,
     "metadata": {},
     "output_type": "execute_result"
    },
    {
     "data": {
      "text/plain": [
       "val primer_1_4 : int list = [1; 2; 3]\n"
      ]
     },
     "execution_count": 25,
     "metadata": {},
     "output_type": "execute_result"
    },
    {
     "data": {
      "text/plain": [
       "val primer_1_5 : int list = [1; 2; 3; 4; 5]\n"
      ]
     },
     "execution_count": 25,
     "metadata": {},
     "output_type": "execute_result"
    },
    {
     "data": {
      "text/plain": [
       "val robni1 : int list = []\n"
      ]
     },
     "execution_count": 25,
     "metadata": {},
     "output_type": "execute_result"
    },
    {
     "data": {
      "text/plain": [
       "val robni2 : 'a list = []\n"
      ]
     },
     "execution_count": 25,
     "metadata": {},
     "output_type": "execute_result"
    }
   ],
   "source": [
    "let rec take n seznam = match (n, seznam) with\n",
    "  | (0, _) -> []\n",
    "  | (_, []) -> []\n",
    "  | (n, x :: xs) -> x :: take (n - 1) xs\n",
    "\n",
    "let primer_1_4 = take 3 [1; 2; 3; 4; 5]\n",
    "(* val primer_1_4 : int list = [1; 2; 3] *)\n",
    "\n",
    "let primer_1_5 = take 10 [1; 2; 3; 4; 5]\n",
    "(* val primer_1_5 : int list = [1; 2; 3; 4; 5] *)\n",
    "\n",
    "(*robna primera*)\n",
    "let robni1 = take 0 [1; 10; 100; 1000]\n",
    "let robni2 = take 3 []"
   ]
  },
  {
   "cell_type": "markdown",
   "metadata": {},
   "source": [
    "### 3. Odstranjevanje ujemajočih\n",
    " Napišite funkcijo `drop_while : ('a -> bool) -> 'a list -> 'a list`, ki z\n",
    " začetka seznama odstrani vse elemente, ki zadoščajo danemu predikatu. Ko najde\n",
    " element, ki predikatu ne zadošča, vrne preostanek seznama."
   ]
  },
  {
   "cell_type": "code",
   "execution_count": 26,
   "metadata": {
    "vscode": {
     "languageId": "ocaml"
    }
   },
   "outputs": [
    {
     "data": {
      "text/plain": [
       "val drop_while : ('a -> bool) -> 'a list -> 'a list = <fun>\n"
      ]
     },
     "execution_count": 26,
     "metadata": {},
     "output_type": "execute_result"
    },
    {
     "data": {
      "text/plain": [
       "val primer_1_6 : int list = [5; 9; 2; 6; 5; 3; 5]\n"
      ]
     },
     "execution_count": 26,
     "metadata": {},
     "output_type": "execute_result"
    },
    {
     "data": {
      "text/plain": [
       "val primer_1_7 : int list = [9; 8; 7; 6; 5; 4; 3; 2; 1; 0]\n"
      ]
     },
     "execution_count": 26,
     "metadata": {},
     "output_type": "execute_result"
    }
   ],
   "source": [
    "let rec drop_while predikat seznam = match seznam with\n",
    "  | [] -> []\n",
    "  | x :: xs -> if predikat x then drop_while predikat xs else x :: xs\n",
    "\n",
    "let primer_1_6 = drop_while (fun x -> x < 5) [3; 1; 4; 1; 5; 9; 2; 6; 5; 3; 5]\n",
    "(* val primer_1_6 : int list = [5; 9; 2; 6; 5; 3; 5] *)\n",
    "\n",
    "let primer_1_7 = drop_while (fun x -> x < 5) [9; 8; 7; 6; 5; 4; 3; 2; 1; 0]\n",
    "(* val primer_1_7 : int list = [9; 8; 7; 6; 5; 4; 3; 2; 1; 0] *)\n"
   ]
  },
  {
   "cell_type": "markdown",
   "metadata": {},
   "source": [
    "### 4. Funkcija 'filter_mapi'\n",
    "Napišite funkcijo `filter_mapi : (int -> 'a -> 'b option) -> 'a list -> 'b\n",
    " list`, ki deluje tako kot `List.filter_map`, le da funkcija poleg elementov dobi\n",
    " še njihove indekse."
   ]
  },
  {
   "cell_type": "code",
   "execution_count": 27,
   "metadata": {
    "vscode": {
     "languageId": "ocaml"
    }
   },
   "outputs": [
    {
     "data": {
      "text/plain": [
       "val filter_mapi : (int -> 'a -> 'b option) -> 'a list -> 'b list = <fun>\n"
      ]
     },
     "execution_count": 27,
     "metadata": {},
     "output_type": "execute_result"
    },
    {
     "data": {
      "text/plain": [
       "val primer_1_8 : int list = [1; 9; 25; 49; 81]\n"
      ]
     },
     "execution_count": 27,
     "metadata": {},
     "output_type": "execute_result"
    }
   ],
   "source": [
    "let filter_mapi predikat seznam = \n",
    "  let rec aux i = function\n",
    "    | [] -> []\n",
    "    | x :: xs -> match predikat i x with\n",
    "      | Some(y) -> y :: aux (i + 1) xs\n",
    "      | None -> aux (i + 1) xs\n",
    "in aux 0 seznam\n",
    "\n",
    "let primer_1_8 =\n",
    "  filter_mapi\n",
    "    (fun i x -> if i mod 2 = 0 then Some (x * x) else None)\n",
    "    [1; 2; 3; 4; 5; 6; 7; 8; 9]\n",
    "(* val primer_1_8 : int list = [1; 9; 25; 49; 81] *)"
   ]
  },
  {
   "cell_type": "markdown",
   "metadata": {},
   "source": [
    "### 5. Izomorfizmi množic\n",
    "Na predavanjih smo videli, da funkciji `curry : ('a * 'b -> 'c) -> ('a -> ('b\n",
    " -> 'c))` in `uncurry : ('a -> ('b -> 'c)) -> ('a * 'b -> 'c)` predstavljata\n",
    " izomorfizem množic $C^{A \\times B} \\cong (C^B)^A$, če kartezični produkt\n",
    " predstavimo s produktnim, eksponent pa s funkcijskim tipom.\n",
    "\n",
    " Podobno velja tudi za ostale znane izomorfizme, če disjunktno unijo\n",
    "   $$A + B = \\{ \\mathrm{in}_1(a) \\mid a \\in A \\} \\cup \\{ \\mathrm{in}_2(b) \\mid b\n",
    " \\in B \\}$$\n",
    " predstavimo s tipom `('a, 'b) sum`, definiranim z:"
   ]
  },
  {
   "cell_type": "code",
   "execution_count": 33,
   "metadata": {
    "vscode": {
     "languageId": "ocaml"
    }
   },
   "outputs": [
    {
     "data": {
      "text/plain": [
       "type ('a, 'b) sum = In1 of 'a | In2 of 'b\n"
      ]
     },
     "execution_count": 33,
     "metadata": {},
     "output_type": "execute_result"
    }
   ],
   "source": [
    "type ('a, 'b) sum = In1 of 'a | In2 of 'b"
   ]
  },
  {
   "cell_type": "markdown",
   "metadata": {},
   "source": [
    "Pišemo In1 of 'a namesto samo In1 , da vemo iz katere množice je ta element."
   ]
  },
  {
   "cell_type": "markdown",
   "metadata": {},
   "source": [
    "Napišite pare funkcij `phi1` & `psi1`, …, `phi7` & `psi7`, ki predstavljajo\n",
    " spodnje izomorfizme množic. Tega, da so si funkcije inverzne, ni treba\n",
    " dokazovati."
   ]
  },
  {
   "cell_type": "markdown",
   "metadata": {},
   "source": [
    "1. ### $A \\times B \\cong B \\times A$"
   ]
  },
  {
   "cell_type": "code",
   "execution_count": 34,
   "metadata": {
    "vscode": {
     "languageId": "ocaml"
    }
   },
   "outputs": [
    {
     "data": {
      "text/plain": [
       "val phi1 : 'a * 'b -> 'b * 'a = <fun>\n"
      ]
     },
     "execution_count": 34,
     "metadata": {},
     "output_type": "execute_result"
    },
    {
     "data": {
      "text/plain": [
       "val psi1 : 'b * 'a -> 'a * 'b = <fun>\n"
      ]
     },
     "execution_count": 34,
     "metadata": {},
     "output_type": "execute_result"
    }
   ],
   "source": [
    "let phi1 : 'a * 'b -> 'b * 'a = function\n",
    "  | (a, b) -> (b, a)\n",
    "\n",
    "\n",
    "let psi1 : 'b * 'a -> 'a * 'b = function\n",
    "  | (b, a) -> (a, b)"
   ]
  },
  {
   "cell_type": "markdown",
   "metadata": {},
   "source": [
    "2. ### $A + B \\cong B + A$"
   ]
  },
  {
   "cell_type": "code",
   "execution_count": 35,
   "metadata": {
    "vscode": {
     "languageId": "ocaml"
    }
   },
   "outputs": [
    {
     "data": {
      "text/plain": [
       "val phi2 : ('a, 'b) sum -> ('b, 'a) sum = <fun>\n"
      ]
     },
     "execution_count": 35,
     "metadata": {},
     "output_type": "execute_result"
    },
    {
     "data": {
      "text/plain": [
       "val psi2 : ('b, 'a) sum -> ('a, 'b) sum = <fun>\n"
      ]
     },
     "execution_count": 35,
     "metadata": {},
     "output_type": "execute_result"
    }
   ],
   "source": [
    "let phi2: ('a, 'b) sum -> ('b, 'a) sum = function\n",
    "  | In1 a -> In2 a \n",
    "  | In2 b -> In1 b \n",
    "\n",
    "let psi2 : ('b, 'a) sum -> ('a, 'b) sum = function\n",
    "  | In1 b -> In2 b \n",
    "  | In2 a -> In1 a"
   ]
  },
  {
   "cell_type": "markdown",
   "metadata": {},
   "source": [
    "3. ### $A \\times (B \\times C) \\cong (A \\times B) \\times C$"
   ]
  },
  {
   "cell_type": "code",
   "execution_count": 36,
   "metadata": {
    "vscode": {
     "languageId": "ocaml"
    }
   },
   "outputs": [
    {
     "data": {
      "text/plain": [
       "val phi3 : 'a * ('b * 'c) -> ('a * 'b) * 'c = <fun>\n"
      ]
     },
     "execution_count": 36,
     "metadata": {},
     "output_type": "execute_result"
    },
    {
     "data": {
      "text/plain": [
       "val psi3 : ('a * 'b) * 'c -> 'a * ('b * 'c) = <fun>\n"
      ]
     },
     "execution_count": 36,
     "metadata": {},
     "output_type": "execute_result"
    }
   ],
   "source": [
    "let phi3 : 'a * ('b * 'c) -> ('a * 'b) * 'c = function\n",
    "  | (a, (b, c)) -> ((a, b), c)\n",
    "\n",
    "let psi3 : ('a * 'b) * 'c -> 'a * ('b * 'c) = function\n",
    "  | ((a, b), c) -> (a, (b, c))"
   ]
  },
  {
   "cell_type": "markdown",
   "metadata": {},
   "source": [
    "4. ### $A + (B + C) \\cong (A + B) + C$"
   ]
  },
  {
   "cell_type": "code",
   "execution_count": 37,
   "metadata": {
    "vscode": {
     "languageId": "ocaml"
    }
   },
   "outputs": [
    {
     "data": {
      "text/plain": [
       "val phi4 : ('a, ('b, 'c) sum) sum -> (('a, 'b) sum, 'c) sum = <fun>\n"
      ]
     },
     "execution_count": 37,
     "metadata": {},
     "output_type": "execute_result"
    },
    {
     "data": {
      "text/plain": [
       "val psi4 : (('a, 'b) sum, 'c) sum -> ('a, ('b, 'c) sum) sum = <fun>\n"
      ]
     },
     "execution_count": 37,
     "metadata": {},
     "output_type": "execute_result"
    }
   ],
   "source": [
    "let phi4 : ('a, ('b, 'c) sum) sum -> (('a, 'b) sum, 'c) sum = function\n",
    "  | In1 a -> In1 (In1 a)\n",
    "  | In2 (In1 b) -> In1 (In2 b)\n",
    "  | In2 (In2 c) -> In2 c\n",
    "\n",
    "\n",
    "let psi4 : (('a, 'b) sum, 'c) sum -> ('a, ('b, 'c) sum) sum = function\n",
    "  | In1 (In1 a) -> In1 a\n",
    "  | In1 (In2 b) -> In2 (In1 b)\n",
    "  | In2 c -> In2 (In2 c)"
   ]
  },
  {
   "cell_type": "markdown",
   "metadata": {},
   "source": [
    "5. ### $A \\times (B + C) \\cong (A \\times B) + (A \\times C)$"
   ]
  },
  {
   "cell_type": "code",
   "execution_count": 38,
   "metadata": {
    "vscode": {
     "languageId": "ocaml"
    }
   },
   "outputs": [
    {
     "data": {
      "text/plain": [
       "val phi5 : 'a * ('b, 'c) sum -> ('a * 'b, 'a * 'c) sum = <fun>\n"
      ]
     },
     "execution_count": 38,
     "metadata": {},
     "output_type": "execute_result"
    },
    {
     "data": {
      "text/plain": [
       "val psi5 : ('a * 'b, 'a * 'c) sum -> 'a * ('b, 'c) sum = <fun>\n"
      ]
     },
     "execution_count": 38,
     "metadata": {},
     "output_type": "execute_result"
    }
   ],
   "source": [
    "\n",
    "let phi5 : 'a * ('b, 'c) sum -> ('a * 'b, 'a * 'c) sum = function\n",
    "  | (a, In1 b) -> In1 (a , b) \n",
    "  | (a, In2 c) -> In2 (a , c)\n",
    "\n",
    "let psi5 : ('a * 'b, 'a * 'c) sum -> 'a * ('b, 'c) sum = function\n",
    "  | In1 (a, b) -> (a, In1 b)\n",
    "  | In2 (a, c) -> (a, In2 c)  "
   ]
  },
  {
   "cell_type": "markdown",
   "metadata": {},
   "source": [
    "6. ### $A^{B + C} \\cong A^B \\times A^C$\n",
    "Za izomorfizem rabiš napisat funkcijo iz leve v desno in pa iz desne v levo.\n",
    "Produkti so že definirani v OCamlu, vsote pa smo definirali zgoraj s tipom sum."
   ]
  },
  {
   "cell_type": "code",
   "execution_count": 39,
   "metadata": {
    "vscode": {
     "languageId": "ocaml"
    }
   },
   "outputs": [
    {
     "data": {
      "text/plain": [
       "val phi6 : (('a, 'b) sum -> 'c) -> 'a -> 'c * ('b -> 'c) = <fun>\n"
      ]
     },
     "execution_count": 39,
     "metadata": {},
     "output_type": "execute_result"
    },
    {
     "data": {
      "text/plain": [
       "val phi7 : ('a -> 'b) * ('c -> 'b) -> ('a, 'c) sum -> 'b = <fun>\n"
      ]
     },
     "execution_count": 39,
     "metadata": {},
     "output_type": "execute_result"
    }
   ],
   "source": [
    "let phi6 f = (fun b -> f (In1 b), fun c -> f (In2 c))\n",
    "\n",
    "let phi7 (f, g) bpc = match bpc with\n",
    "  (*preverimo, 'če držimo b v roki'*)\n",
    "  | In1 a -> f a\n",
    "  | In2 b -> g b"
   ]
  },
  {
   "cell_type": "markdown",
   "metadata": {},
   "source": [
    "7. ### $(A \\times B)^C \\cong A^C \\times B^C$\n"
   ]
  },
  {
   "cell_type": "code",
   "execution_count": 40,
   "metadata": {
    "vscode": {
     "languageId": "ocaml"
    }
   },
   "outputs": [
    {
     "data": {
      "text/plain": [
       "val phi7 : ('c -> 'a * 'b) -> ('c -> 'a) * ('c -> 'b) = <fun>\n"
      ]
     },
     "execution_count": 40,
     "metadata": {},
     "output_type": "execute_result"
    },
    {
     "data": {
      "text/plain": [
       "val psi7 : ('c -> 'a) * ('c -> 'b) -> 'c -> 'a * 'b = <fun>\n"
      ]
     },
     "execution_count": 40,
     "metadata": {},
     "output_type": "execute_result"
    }
   ],
   "source": [
    "(*definiram tipe vhodnih in izhodnih podatkov funkcije*)\n",
    "let phi7 (f : 'c -> ('a * 'b)) : ('c -> 'a) * ('c -> 'b) =\n",
    "  (*funkcija f_a(c) vrne prvo komponento funkcije f(c), ki se slika v dva elementa, funkcija f_b(c) pa vrne drugo komponento*)\n",
    "  let f_a c = fst (f c) in\n",
    "  let f_b c = snd (f c) in\n",
    "  (*na koncu vrnem par komponent, kjer sem na vsako posebej apliciral funkcijo f*)\n",
    "  (f_a, f_b)\n",
    "\n",
    "  let psi7 (f_a, f_b : ('c -> 'a) * ('c -> 'b)) : 'c -> ('a * 'b) = fun c -> (f_a c, f_b c)"
   ]
  },
  {
   "cell_type": "markdown",
   "metadata": {},
   "source": [
    "### 6. Polinomi\n",
    "Polinome $a_0 + a_1 x + \\cdots + a_n x^n$ predstavimo s seznami celoštevilskih\n",
    " koeficientov od prostega do vodilnega člena. Na primer, polinom $1 - 2 x + 3\n",
    " x^2$ predstavimo s seznamom `[1; -2; 3]`."
   ]
  },
  {
   "cell_type": "code",
   "execution_count": 13,
   "metadata": {
    "vscode": {
     "languageId": "ocaml"
    }
   },
   "outputs": [
    {
     "data": {
      "text/plain": [
       "type polinom = int list\n"
      ]
     },
     "execution_count": 13,
     "metadata": {},
     "output_type": "execute_result"
    }
   ],
   "source": [
    "type polinom = int list"
   ]
  },
  {
   "cell_type": "markdown",
   "metadata": {},
   "source": [
    "#### Odstranjevanje odvečnih ničel\n",
    "Napišite funkcijo `pocisti : polinom -> polinom`, ki s konca seznama\n",
    " koeficientov odstrani odvečne ničle."
   ]
  },
  {
   "cell_type": "code",
   "execution_count": 33,
   "metadata": {
    "vscode": {
     "languageId": "ocaml"
    }
   },
   "outputs": [
    {
     "data": {
      "text/plain": [
       "val pocisti2 : int list -> int list = <fun>\n"
      ]
     },
     "execution_count": 33,
     "metadata": {},
     "output_type": "execute_result"
    },
    {
     "data": {
      "text/plain": [
       "val primer_3_1 : int list = [1; -2; 3]\n"
      ]
     },
     "execution_count": 33,
     "metadata": {},
     "output_type": "execute_result"
    },
    {
     "data": {
      "text/plain": [
       "val primer_3_2 : int list = [3; 5; 0; 7; 0; 8]\n"
      ]
     },
     "execution_count": 33,
     "metadata": {},
     "output_type": "execute_result"
    },
    {
     "data": {
      "text/plain": [
       "val primer_3_3 : int list = []\n"
      ]
     },
     "execution_count": 33,
     "metadata": {},
     "output_type": "execute_result"
    },
    {
     "data": {
      "text/plain": [
       "val primer_3_4 : int list = []\n"
      ]
     },
     "execution_count": 33,
     "metadata": {},
     "output_type": "execute_result"
    }
   ],
   "source": [
    "(*bolj učinkovit algoritem je, da polinom najprej obrneš, z začetka odstraniš ničle in ga potem nazaj obrneš*)\n",
    "let pocisti2 polinom = \n",
    "    (*zapišem pomozno funkcijo, ki je rekurzivna in bo naredila vse delo -> tako se funkcija tudi hitreje izvede, saj gre za repno rekurzijo*)\n",
    "    (*funkcijo pišem, kot da bi za vhodni podatek dobila obrnjen polinom, saj ji bom na koncu v klicu tudi dal obrnjen polinom kot vhodni podatek*)\n",
    "    let rec odstrani_nicle seznam = match seznam with\n",
    "        (*robni primer []*)\n",
    "        | [] -> []\n",
    "        (*če dobim na prvem mestu seznama 0, jo vržem ven*)\n",
    "        | 0 :: xs -> odstrani_nicle xs\n",
    "        (*za prvi element, ki ni več enak 0, funkcija vrne celoten seznam*)\n",
    "        | x :: xs -> seznam\n",
    "    in \n",
    "    (*ko kličem funkcijo za vhodni podatek dam obrnjen polinom, nato pa ga še enkrat obrnem, ko funkcija vrne končen rezultat*)\n",
    "    List.rev(odstrani_nicle (List.rev polinom))\n",
    "\n",
    "let primer_3_1 = pocisti2 [1; -2; 3; 0; 0]\n",
    "(* val primer_3_1 : int list = [1; -2; 3] *)\n",
    "(*še dodatni primeri, da se prepričam, da funkcija res pravilno deluje*)\n",
    "let primer_3_2 = pocisti2 [3; 5; 0; 7; 0; 8; 0; 0; 0]\n",
    "let primer_3_3 = pocisti2 [0; 0; 0]\n",
    "let primer_3_4 = pocisti2 []"
   ]
  },
  {
   "cell_type": "markdown",
   "metadata": {},
   "source": [
    "#### Seštevanje\n",
    " Napišite funkcijo `( +++ ) : polinom -> polinom -> polinom`, ki sešteje dva\n",
    " polinoma."
   ]
  },
  {
   "cell_type": "code",
   "execution_count": null,
   "metadata": {
    "vscode": {
     "languageId": "ocaml"
    }
   },
   "outputs": [
    {
     "data": {
      "text/plain": [
       "val ( +++ ) : int list -> int list -> int list = <fun>\n"
      ]
     },
     "execution_count": 34,
     "metadata": {},
     "output_type": "execute_result"
    },
    {
     "data": {
      "text/plain": [
       "val primer_3_2 : int list = [2; 0; 3]\n"
      ]
     },
     "execution_count": 34,
     "metadata": {},
     "output_type": "execute_result"
    },
    {
     "data": {
      "text/plain": [
       "val primer_3_3 : int list = [2]\n"
      ]
     },
     "execution_count": 34,
     "metadata": {},
     "output_type": "execute_result"
    }
   ],
   "source": [
    "(*pri vračanju rezultata kličem že zgoraj definirano funkcijo 'pocisti2', da se znebi odvečnih ničel v polinomu*)\n",
    "let rec ( +++ ) p1 p2 = match (p1, p2) with\n",
    "  | ([], _) -> p2\n",
    "  | (_, []) -> p1\n",
    "  | (x1 :: xs1, x2 :: xs2) -> pocisti ((x1 + x2) ::  ( +++ )  xs1 xs2)\n",
    "\n",
    "let primer_3_2 = [1; -2; 3] +++ [1; 2]\n",
    "(* val primer_3_2 : int list = [2; 0; 3] *)\n",
    "\n",
    "let primer_3_3 = [1; -2; 3] +++ [1; 2; -3]\n",
    "(* val primer_3_3 : int list = [2] *)"
   ]
  },
  {
   "cell_type": "markdown",
   "metadata": {},
   "source": [
    "#### Množenje\n",
    "Napišite funkcijo `( *** ) : polinom -> polinom -> polinom`, ki zmnoži dva\n",
    " polinoma."
   ]
  },
  {
   "cell_type": "code",
   "execution_count": 49,
   "metadata": {
    "vscode": {
     "languageId": "ocaml"
    }
   },
   "outputs": [
    {
     "data": {
      "text/plain": [
       "val koeficient_krat_polinom : int list -> int -> int -> int list = <fun>\n"
      ]
     },
     "execution_count": 49,
     "metadata": {},
     "output_type": "execute_result"
    },
    {
     "data": {
      "text/plain": [
       "val ( *** ) : int list -> int list -> int list = <fun>\n"
      ]
     },
     "execution_count": 49,
     "metadata": {},
     "output_type": "execute_result"
    },
    {
     "data": {
      "text/plain": [
       "val primer_3_4 : int list = [4; 4]\n"
      ]
     },
     "execution_count": 49,
     "metadata": {},
     "output_type": "execute_result"
    },
    {
     "data": {
      "text/plain": [
       "val primer_3_5 : int list = [2; -2]\n"
      ]
     },
     "execution_count": 49,
     "metadata": {},
     "output_type": "execute_result"
    }
   ],
   "source": [
    "(*napišem pomožno funkcijo 'koeficient_krat_polinom', ki polinom pomnoži s koeficientom*)\n",
    "(*funkcija bo koristna, ker bom potem pomnožil vse koeficiente prvega polinoma s koeficienti*)\n",
    "(*drugega polinoma in jih nato seštel s funkcijo '+++'*)\n",
    "let rec koeficient_krat_polinom polinom koeficient stopnja = \n",
    "  if stopnja = 0 then\n",
    "    List.map (fun el -> koeficient * el) polinom\n",
    "  else\n",
    "    0 :: koeficient_krat_polinom polinom koeficient (stopnja - 1)\n",
    "\n",
    "let rec ( *** ) p1 p2 = match p1 with\n",
    "    | [] -> []\n",
    "    | x :: xs -> \n",
    "      let zmnozek = koeficient_krat_polinom p2 x 0 in\n",
    "      ( +++ ) zmnozek (xs *** p2)\n",
    "\n",
    "let primer_3_4 = [1; 1] *** [1; 1] *** [1; 1]\n",
    "(* val primer_3_4 : int list = [1; 3; 3; 1] *)\n",
    "\n",
    "let primer_3_5 = [1; 1] *** [1; -1]\n",
    "(* val primer_3_5 : int list = [1; 0; -1] *)\n"
   ]
  },
  {
   "cell_type": "markdown",
   "metadata": {},
   "source": [
    "#### Izračun vrednosti v točki\n",
    "Napišite funkcijo `vrednost : polinom -> int -> int`, ki izračuna vrednost\n",
    " polinoma v danem argumentu."
   ]
  },
  {
   "cell_type": "code",
   "execution_count": 39,
   "metadata": {
    "vscode": {
     "languageId": "ocaml"
    }
   },
   "outputs": [
    {
     "data": {
      "text/plain": [
       "val vrednost : int list -> int -> int = <fun>\n"
      ]
     },
     "execution_count": 39,
     "metadata": {},
     "output_type": "execute_result"
    },
    {
     "data": {
      "text/plain": [
       "val primer_3_6 : int = 9\n"
      ]
     },
     "execution_count": 39,
     "metadata": {},
     "output_type": "execute_result"
    },
    {
     "data": {
      "text/plain": [
       "val primer_3_7 : int = 2\n"
      ]
     },
     "execution_count": 39,
     "metadata": {},
     "output_type": "execute_result"
    },
    {
     "data": {
      "text/plain": [
       "val primer_3_8 : int = 0\n"
      ]
     },
     "execution_count": 39,
     "metadata": {},
     "output_type": "execute_result"
    }
   ],
   "source": [
    "let rec vrednost polinom y = match (polinom, y) with\n",
    "  (*List.hd vrne prvi element seznama, v tem primeru konstanto*)\n",
    "  | (_, 0) -> List.hd polinom\n",
    "  (*če je polinom enak 0, bo tudi njegova vrednost v katerikoli točki enaka 0*)\n",
    "  | ([], _) -> 0\n",
    "  (*konstanta polinoma x se prišteje, ostali koeficienti polinoma pa se pomnožijo z y na primerno potenco*)\n",
    "  | (x :: xs, y) -> x + y * (vrednost xs y)\n",
    "\n",
    "let primer_3_6 = vrednost [1; -2; 3] 2\n",
    "(* val primer_3_6 : int = 9 *)\n",
    "let primer_3_7 = vrednost [2; 3; 4] 0\n",
    "let primer_3_8 = vrednost [] 7"
   ]
  },
  {
   "cell_type": "markdown",
   "metadata": {},
   "source": [
    "#### Odvajanje\n",
    "Napišite funkcijo `odvod : polinom -> polinom`, ki izračuna odvod polinoma."
   ]
  },
  {
   "cell_type": "code",
   "execution_count": 51,
   "metadata": {
    "vscode": {
     "languageId": "ocaml"
    }
   },
   "outputs": [
    {
     "data": {
      "text/plain": [
       "val odvod : int list -> int list = <fun>\n"
      ]
     },
     "execution_count": 51,
     "metadata": {},
     "output_type": "execute_result"
    },
    {
     "data": {
      "text/plain": [
       "val primer_3_7 : int list = [-2; 6]\n"
      ]
     },
     "execution_count": 51,
     "metadata": {},
     "output_type": "execute_result"
    }
   ],
   "source": [
    "let odvod polinom = match polinom with\n",
    "  | [] -> []\n",
    "  | x :: xs -> \n",
    "    (*pomozna funkcija vsak koeficient pomnoži z ustrezno potenco, na katero nastopa x v polinomu*)\n",
    "    let rec pomozna p n = match p with\n",
    "      | [] -> []\n",
    "      | x :: xs -> (x * n) :: pomozna xs (n + 1)\n",
    "  in pomozna xs 1\n",
    "\n",
    "\n",
    "let primer_3_7 = odvod [1; -2; 3]\n",
    "(* val primer_3_7 : int list = [-2; 6] *)"
   ]
  },
  {
   "cell_type": "markdown",
   "metadata": {},
   "source": [
    "#### Lep izpis\n",
    "Napišite funkcijo `izpis : polinom -> string`, ki polinom lepo izpiše. Na\n",
    " primer, `izpis [1; -2; 3]` vrne `\"3 x^2 - 2 x + 1\"` oziroma še bolje kot `\"3 x²\n",
    " - 2 x + 1\"`. Pozorni bodite, da izpis začnete z vodilnim členom."
   ]
  },
  {
   "cell_type": "code",
   "execution_count": null,
   "metadata": {
    "vscode": {
     "languageId": "ocaml"
    }
   },
   "outputs": [],
   "source": []
  },
  {
   "cell_type": "markdown",
   "metadata": {},
   "source": [
    "#### Samodejno odvajanje\n",
    " Ob razmahu strojnega učenja, ki optimalno rešitev išče s pomočjo gradientnega\n",
    " spusta, si želimo čim bolj enostavno računati odvode. Odvod funkcije $f$ v\n",
    " točki $x_0$ lahko seveda ocenimo tako, da v\n",
    "\n",
    " $$\\frac{f (x_0 + h) - f(x_0)}{h}$$\n",
    "\n",
    " vstavimo dovolj majhno število $h$."
   ]
  },
  {
   "cell_type": "code",
   "execution_count": 52,
   "metadata": {
    "vscode": {
     "languageId": "ocaml"
    }
   },
   "outputs": [
    {
     "data": {
      "text/plain": [
       "val priblizek_odvoda : (float -> float) -> float -> float -> float = <fun>\n"
      ]
     },
     "execution_count": 52,
     "metadata": {},
     "output_type": "execute_result"
    },
    {
     "data": {
      "text/plain": [
       "val primer_4_1 : float list =\n",
       "  [2.48914386298364931; 2.42384618742050861; 2.41778190719976749;\n",
       "   2.41717997997881184; 2.41711983210990411]\n"
      ]
     },
     "execution_count": 52,
     "metadata": {},
     "output_type": "execute_result"
    }
   ],
   "source": [
    "let priblizek_odvoda f x0 h =\n",
    "  (f (x0 +. h) -. f x0) /. h\n",
    "(* val priblizek_odvoda : (float -> float) -> float -> float -> float = <fun> *)\n",
    "\n",
    "let primer_4_1 =\n",
    "  let f x = sin x +. cos x +. exp x in\n",
    "  List.map (priblizek_odvoda f 1.) [0.1; 0.01; 0.001; 0.0001; 0.00001]\n",
    "(* val primer_4_1 : float list =\n",
    "  [2.48914386298364931; 2.42384618742050861; 2.41778190719976749;\n",
    "   2.41717997997881184; 2.41711983210990411] *)"
   ]
  },
  {
   "cell_type": "markdown",
   "metadata": {},
   "source": [
    "Pri samodejnem odvajanju izkoristimo to, da poznamo odvode elementarnih\n",
    " funkcij, odvode sestavljenih funkcij pa lahko izračunamo iz posameznih odvodov.\n",
    " Tako bomo vsako funkcijo predstavili s parom: prvotno funkcijo in njenim\n",
    " odvodom."
   ]
  },
  {
   "cell_type": "code",
   "execution_count": 60,
   "metadata": {
    "vscode": {
     "languageId": "ocaml"
    }
   },
   "outputs": [
    {
     "data": {
      "text/plain": [
       "type odvedljiva = (float -> float) * (float -> float)\n"
      ]
     },
     "execution_count": 60,
     "metadata": {},
     "output_type": "execute_result"
    },
    {
     "data": {
      "text/plain": [
       "val sinus : odvedljiva = (<fun>, <fun>)\n"
      ]
     },
     "execution_count": 60,
     "metadata": {},
     "output_type": "execute_result"
    },
    {
     "data": {
      "text/plain": [
       "val kosinus : odvedljiva = (<fun>, <fun>)\n"
      ]
     },
     "execution_count": 60,
     "metadata": {},
     "output_type": "execute_result"
    },
    {
     "data": {
      "text/plain": [
       "val eksp : odvedljiva = (<fun>, <fun>)\n"
      ]
     },
     "execution_count": 60,
     "metadata": {},
     "output_type": "execute_result"
    },
    {
     "data": {
      "text/plain": [
       "val ( ++. ) : odvedljiva -> odvedljiva -> odvedljiva = <fun>\n"
      ]
     },
     "execution_count": 60,
     "metadata": {},
     "output_type": "execute_result"
    },
    {
     "data": {
      "text/plain": [
       "val primer_4_2 : float = 2.41711314951928813\n"
      ]
     },
     "execution_count": 60,
     "metadata": {},
     "output_type": "execute_result"
    }
   ],
   "source": [
    "type odvedljiva = (float -> float) * (float -> float)\n",
    "\n",
    "let sinus : odvedljiva = (sin, cos)\n",
    "let kosinus : odvedljiva = (cos, (fun x -> -. sin x))\n",
    "let eksp : odvedljiva = (exp, exp)\n",
    "let ( ++. ) : odvedljiva -> odvedljiva -> odvedljiva =\n",
    "  (* pozorni bodite, da anonimni funkciji v paru date med oklepaje *)\n",
    "  fun (f, f') (g, g') -> ((fun x -> f x +. g x), (fun x -> f' x +. g' x))\n",
    "(* val sinus : odvedljiva = (<fun>, <fun>) *)\n",
    "(* val kosinus : odvedljiva = (<fun>, <fun>) *)\n",
    "(* val eksp : odvedljiva = (<fun>, <fun>) *)\n",
    "(* val ( ++. ) : odvedljiva -> odvedljiva -> odvedljiva = <fun> *)\n",
    "\n",
    "let primer_4_2 =\n",
    "  let (_, f') = sinus ++. kosinus ++. eksp in\n",
    "  f' 1.\n",
    "(* val primer_4_2 : float = 2.41711314951928813 *)"
   ]
  },
  {
   "cell_type": "markdown",
   "metadata": {},
   "source": [
    "#### Vrednost odvoda\n",
    "Napišite funkciji `vrednost : odvedljiva -> float -> float` in `odvod :\n",
    " odvedljiva -> float -> float`, ki izračunata vrednost funkcije in njenega\n",
    " odvoda v danem argumentu."
   ]
  },
  {
   "cell_type": "code",
   "execution_count": 61,
   "metadata": {
    "vscode": {
     "languageId": "ocaml"
    }
   },
   "outputs": [
    {
     "data": {
      "text/plain": [
       "val vrednost : ('a -> 'b) * 'c -> 'a -> 'b = <fun>\n"
      ]
     },
     "execution_count": 61,
     "metadata": {},
     "output_type": "execute_result"
    },
    {
     "data": {
      "text/plain": [
       "val odvod : 'a * ('b -> 'c) -> 'b -> 'c = <fun>\n"
      ]
     },
     "execution_count": 61,
     "metadata": {},
     "output_type": "execute_result"
    }
   ],
   "source": [
    "let vrednost (f, _) x = f x\n",
    "\n",
    "let odvod (_, f') x = f' x"
   ]
  },
  {
   "cell_type": "markdown",
   "metadata": {},
   "source": [
    "#### Osnovne funkcije\n",
    " Napišite funkciji `konstanta : float -> odvedljiva` in `identiteta :\n",
    " odvedljiva`, ki predstavljata konstantno in identično funkcijo."
   ]
  },
  {
   "cell_type": "code",
   "execution_count": 62,
   "metadata": {
    "vscode": {
     "languageId": "ocaml"
    }
   },
   "outputs": [
    {
     "data": {
      "text/plain": [
       "val konstanta : float -> odvedljiva = <fun>\n"
      ]
     },
     "execution_count": 62,
     "metadata": {},
     "output_type": "execute_result"
    },
    {
     "data": {
      "text/plain": [
       "val identiteta : odvedljiva = (<fun>, <fun>)\n"
      ]
     },
     "execution_count": 62,
     "metadata": {},
     "output_type": "execute_result"
    }
   ],
   "source": [
    "(*konstantna funkcija slika karkoli v konstanto c, njen odvod pa je enak 0*)\n",
    "let konstanta c : odvedljiva = \n",
    "  ((fun _ -> c), (fun _ -> 0.0))\n",
    "\n",
    "(*identiteta preslika element samega vase, njen odvod pa je enak 1*)\n",
    "let identiteta : odvedljiva =\n",
    "  ((fun x -> x), (fun _ -> 1.0)) "
   ]
  },
  {
   "cell_type": "markdown",
   "metadata": {},
   "source": [
    "#### Produkt in kvocient\n",
    "Napišite funkciji `( **. ) : odvedljiva -> odvedljiva -> odvedljiva` in `( //.\n",
    " ) : odvedljiva -> odvedljiva -> odvedljiva`, ki predstavljata produkt in\n",
    " kvocient dveh odvedljivih funkcij."
   ]
  },
  {
   "cell_type": "code",
   "execution_count": 63,
   "metadata": {
    "vscode": {
     "languageId": "ocaml"
    }
   },
   "outputs": [
    {
     "data": {
      "text/plain": [
       "val ( **. ) :\n",
       "  ('a -> float) * ('a -> float) ->\n",
       "  ('a -> float) * ('a -> float) -> ('a -> float) * ('a -> float) = <fun>\n"
      ]
     },
     "execution_count": 63,
     "metadata": {},
     "output_type": "execute_result"
    },
    {
     "data": {
      "text/plain": [
       "val ( //. ) :\n",
       "  ('a -> float) * ('a -> float) ->\n",
       "  ('a -> float) * ('a -> float) -> ('a -> float) * ('a -> float) = <fun>\n"
      ]
     },
     "execution_count": 63,
     "metadata": {},
     "output_type": "execute_result"
    },
    {
     "data": {
      "text/plain": [
       "val kvadrat : (float -> float) * (float -> float) = (<fun>, <fun>)\n"
      ]
     },
     "execution_count": 63,
     "metadata": {},
     "output_type": "execute_result"
    }
   ],
   "source": [
    "let ( **. ) (f, f') (g, g') = \n",
    "  ((fun x -> (f x) *. (g x)), (fun x -> (f' x) *. (g x) +. (f x) *. (g' x)))\n",
    "\n",
    "let ( //. ) (f, f') (g, g') =\n",
    "  ((fun x -> (f x) /. (g x)), (fun x -> ((f' x) *. (g x) -. (f x) *. (g' x)) /. (g x) *. (g x)))\n",
    "\n",
    "let kvadrat = identiteta **. identiteta\n",
    "(* val kvadrat : odvedljiva = (<fun>, <fun>) *)"
   ]
  },
  {
   "cell_type": "markdown",
   "metadata": {},
   "source": [
    "#### Kompozitum\n",
    "Napišite funkcijo `( @@. ) : odvedljiva -> odvedljiva -> odvedljiva`, ki\n",
    " predstavlja kompozitum dveh odvedljivih funkcij."
   ]
  },
  {
   "cell_type": "code",
   "execution_count": 67,
   "metadata": {
    "vscode": {
     "languageId": "ocaml"
    }
   },
   "outputs": [
    {
     "data": {
      "text/plain": [
       "val ( @@. ) :\n",
       "  ('a -> 'b) * ('a -> float) ->\n",
       "  ('c -> 'a) * ('c -> float) -> ('c -> 'b) * ('c -> float) = <fun>\n"
      ]
     },
     "execution_count": 67,
     "metadata": {},
     "output_type": "execute_result"
    },
    {
     "ename": "error",
     "evalue": "compile_error",
     "output_type": "error",
     "traceback": [
      "File \"[67]\", line 4, characters 36-39:\n4 | let vedno_ena = (kvadrat @@. sinus) ++. (kvadrat @@. kosinus) \n                                        ^^^\nError: Unbound value ++.\nHint: Did you mean +. or ~+.?\n"
     ]
    }
   ],
   "source": [
    "let ( @@. ) (f, f') (g, g') = \n",
    "  ((fun x -> f (g x)), (fun x -> f' (g x) *. g' x))\n",
    "\n",
    "let vedno_ena = (kvadrat @@. sinus) ++. (kvadrat @@. kosinus) \n",
    "(* val vedno_ena : odvedljiva = (<fun>, <fun>) *)\n",
    "\n",
    "let primer_4_3 = vrednost vedno_ena 12345. \n",
    "(* val primer_4_3 : float = 0.999999999999999889 *)\n",
    "\n",
    "let primer_4_4 = odvod vedno_ena 12345. \n",
    "(* val primer_4_4 : float = 0. *)"
   ]
  },
  {
   "cell_type": "markdown",
   "metadata": {},
   "source": [
    "### 17. Substitucijska šifra\n",
    "Substitucijska šifra je preprosta šifra, pri kateri črke abecede med seboj\n",
    " permutiramo. Na primer, če bi (angleško) abecedo permutirali kot\n",
    "\n",
    " ```\n",
    " A B C D E F G H I J K L M N O P Q R S T U V W X Y Z\n",
    " T H E Q U I C K B R W N F X J M P S O V L A Z Y D G\n",
    " ```\n",
    "\n",
    " bi besedo `HELLO` šifrirali kot `KUNNJ`. Ključe, s katerimi šifriramo besedila\n",
    " bomo predstavili kar z nizi črk, v katere se slikajo črke abecede."
   ]
  },
  {
   "cell_type": "code",
   "execution_count": 51,
   "metadata": {
    "vscode": {
     "languageId": "ocaml"
    }
   },
   "outputs": [
    {
     "data": {
      "text/plain": [
       "val quick_brown_fox : string = \"THEQUICKBRWNFXJMPSOVLAZYDG\"\n"
      ]
     },
     "execution_count": 51,
     "metadata": {},
     "output_type": "execute_result"
    },
    {
     "data": {
      "text/plain": [
       "val rot13 : string = \"NOPQRSTUVWXYZABCDEFGHIJKLM\"\n"
      ]
     },
     "execution_count": 51,
     "metadata": {},
     "output_type": "execute_result"
    }
   ],
   "source": [
    "let quick_brown_fox = \"THEQUICKBRWNFXJMPSOVLAZYDG\"\n",
    "let rot13 = \"NOPQRSTUVWXYZABCDEFGHIJKLM\""
   ]
  },
  {
   "cell_type": "markdown",
   "metadata": {},
   "source": [
    "Včasih bomo v primerih uporabljali tudi krajše ključe, a vedno lahko\n",
    " predpostavite, da bodo ključi permutacije začetnega dela abecede. Prav tako si\n",
    " pri delu lahko pomagate s funkcijama `indeks` in `crka`:"
   ]
  },
  {
   "cell_type": "code",
   "execution_count": 52,
   "metadata": {
    "vscode": {
     "languageId": "ocaml"
    }
   },
   "outputs": [
    {
     "data": {
      "text/plain": [
       "val indeks : char -> int = <fun>\n"
      ]
     },
     "execution_count": 52,
     "metadata": {},
     "output_type": "execute_result"
    },
    {
     "data": {
      "text/plain": [
       "val crka : int -> char = <fun>\n"
      ]
     },
     "execution_count": 52,
     "metadata": {},
     "output_type": "execute_result"
    }
   ],
   "source": [
    "let indeks c = Char.code c - Char.code 'A'\n",
    "let crka i = Char.chr (i + Char.code 'A') "
   ]
  },
  {
   "cell_type": "code",
   "execution_count": 53,
   "metadata": {
    "vscode": {
     "languageId": "ocaml"
    }
   },
   "outputs": [
    {
     "data": {
      "text/plain": [
       "- : int = 1\n"
      ]
     },
     "execution_count": 53,
     "metadata": {},
     "output_type": "execute_result"
    }
   ],
   "source": [
    "Char.code 'B' - Char.code 'A'"
   ]
  },
  {
   "cell_type": "markdown",
   "metadata": {},
   "source": [
    "#### Šifriranje\n",
    " Napišite funkcijo `sifriraj : string -> string -> string`, ki besedilo šifrira\n",
    " z danim ključem. Vse znake, ki niso velike tiskane črke, pustimo pri miru."
   ]
  },
  {
   "cell_type": "code",
   "execution_count": 54,
   "metadata": {
    "vscode": {
     "languageId": "ocaml"
    }
   },
   "outputs": [
    {
     "data": {
      "text/plain": [
       "val niz_v_seznam_znakov : string -> char list = <fun>\n"
      ]
     },
     "execution_count": 54,
     "metadata": {},
     "output_type": "execute_result"
    },
    {
     "data": {
      "text/plain": [
       "val sifriraj : string -> string -> string = <fun>\n"
      ]
     },
     "execution_count": 54,
     "metadata": {},
     "output_type": "execute_result"
    },
    {
     "data": {
      "text/plain": [
       "val primer_5_1 : string = \"KUNNJ, ZJSNQ!\"\n"
      ]
     },
     "execution_count": 54,
     "metadata": {},
     "output_type": "execute_result"
    },
    {
     "data": {
      "text/plain": [
       "val primer_5_2 : string = \"IRAV, IVQV, IVPV\"\n"
      ]
     },
     "execution_count": 54,
     "metadata": {},
     "output_type": "execute_result"
    },
    {
     "data": {
      "text/plain": [
       "val primer_5_3 : string = \"VENI, VIDI, VICI\"\n"
      ]
     },
     "execution_count": 54,
     "metadata": {},
     "output_type": "execute_result"
    }
   ],
   "source": [
    "(*pomozna funkcija, ki pretvori string v char list*)\n",
    "let niz_v_seznam_znakov besedilo = List.init (String.length besedilo) (String.get besedilo)\n",
    "\n",
    "let rec sifriraj kljuc besedilo = \n",
    "  (*najprej pretvorim niz v seznam znakov, ki jih vsebuje*)\n",
    "  match niz_v_seznam_znakov besedilo with\n",
    "    | [] -> \"\"\n",
    "    | x :: xs -> match x with\n",
    "      (*String.concat je vgrajena funkcija s katero pretvorim char list 'xs' nazaj v string*)\n",
    "      | '?' -> \"?\" ^ (sifriraj kljuc (String.concat \"\" (List.map (String.make 1) xs)))\n",
    "      | '.' -> \".\" ^ (sifriraj kljuc (String.concat \"\" (List.map (String.make 1) xs)))\n",
    "      | '!' -> \"!\" ^ (sifriraj kljuc (String.concat \"\" (List.map (String.make 1) xs)))\n",
    "      | ',' -> \",\" ^ (sifriraj kljuc (String.concat \"\" (List.map (String.make 1) xs)))\n",
    "      | ' ' -> \" \" ^ (sifriraj kljuc (String.concat \"\" (List.map (String.make 1) xs)))\n",
    "      (*dobim indeks x-a v abecedi in nato povlečem znak na istem indeksu iz niza 'kljuc'*)\n",
    "      (*ker pa mi ta klic vrne rezultat tipa char, ga pretvorim nazaj v string z vgrajeno funkcijo String.make*)\n",
    "      | x -> String.make 1 (String.get kljuc (indeks x)) ^ (sifriraj kljuc (String.concat \"\" (List.map (String.make 1) xs)))\n",
    "\n",
    "let primer_5_1 = sifriraj quick_brown_fox \"HELLO, WORLD!\"\n",
    "(* val primer_5_1 : string = \"KUNNJ, ZJSNQ!\" *)\n",
    "let primer_5_2 = \"VENI, VIDI, VICI\" |> sifriraj rot13\n",
    "(* val primer_5_2 : string = \"IRAV, IVQV, IVPV\" *)\n",
    "let primer_5_3 = \"VENI, VIDI, VICI\" |> sifriraj rot13 |> sifriraj rot13\n",
    "(* val primer_5_3 : string = \"VENI, VIDI, VICI\" *)\n"
   ]
  },
  {
   "cell_type": "markdown",
   "metadata": {},
   "source": [
    "#### Inverzni ključ\n",
    "Napišite funkcijo `inverz : string -> string`, ki iz ključa izračuna njegov\n",
    " inverz."
   ]
  },
  {
   "cell_type": "code",
   "execution_count": 66,
   "metadata": {
    "vscode": {
     "languageId": "ocaml"
    }
   },
   "outputs": [
    {
     "ename": "error",
     "evalue": "compile_error",
     "output_type": "error",
     "traceback": [
      "File \"[66]\", line 8, characters 0-3:\n8 | let inverz kljuc = \n    ^^^\nError: Syntax error\n"
     ]
    }
   ],
   "source": [
    "let invers kljuc = \n",
    "  let abeceda = \"ABCDEFGHIJKLMNOPQRSTUVXYWZ\" in\n",
    "  let rec pomozna indeks_abeceda = \n",
    "    let i = String.index_opt kljuc (String.get abeceda indeks_abeceda) in\n",
    "    let inverzo = (String.get abeceda i) ^ (pomozna (indeks_abeceda + 1)) in\n",
    "  pomozna 0\n",
    "\n",
    "let inverz kljuc = \n",
    "  let abeceda = \"ABCDEFGHIJKLMNOPQRSTUVXYWZ\" in\n",
    "  let rec pomozna indeks_abeceda =\n",
    "    if indeks_abeceda >= String.length abeceda then \"\"\n",
    "    else\n",
    "      match String.index_opt kljuc (String.get abeceda indeks_abeceda) with\n",
    "      | Some i -> \n",
    "          let inverzo = (String.make 1 (String.get abeceda i)) ^ (pomozna (indeks_abeceda + 1)) in\n",
    "          inverzo\n",
    "      | None -> pomozna (indeks_abeceda + 1)\n",
    "  in\n",
    "  pomozna 0\n",
    "\n",
    "\n",
    "let primer_5_4 = inverz quick_brown_fox\n",
    "(* val primer_5_4 : string = \"VIGYCMZBFOHUPLSQDJRAETKNXW\" *)\n",
    "\n",
    "let primer_5_5 = inverz rot13\n",
    "(* val primer_5_5 : string = \"NOPQRSTUVWXYZABCDEFGHIJKLM\" *)\n",
    "\n",
    "let primer_5_6 = inverz \"BCDEA\"\n",
    "(* val primer_5_6 : string = \"EABCD\" *)"
   ]
  },
  {
   "cell_type": "markdown",
   "metadata": {},
   "source": [
    "### Ugibanje ključa\n",
    "Včasih seveda ne poznamo ključa, a vemo, da je besedilo v angleščini. Tako\n",
    " lahko ključ poskusimo uganiti tako, da šifrirane besede paroma primerjamo z\n",
    " besedami iz slovarja, ki smo si ga sposodili [s\n",
    " spleta](https://gist.github.com/deekayen/4148741).\n",
    "\n",
    " Sestavite vrednost `slovar : string list`, ki vsebuje vse besede iz slovarja,\n",
    " pretvorjene v velike tiskane črke."
   ]
  },
  {
   "cell_type": "code",
   "execution_count": 49,
   "metadata": {
    "vscode": {
     "languageId": "ocaml"
    }
   },
   "outputs": [
    {
     "data": {
      "text/plain": [
       "val besede : string =\n",
       "  \"the of to and a in is it you that he was for on are with as i his they be at one have this from or had by word but what some we can out other were all there when up use your how said an each she which do their time if will way about many then them write would like so these her long make thing see h\"... (* string length 5837; truncated *)\n"
      ]
     },
     "execution_count": 49,
     "metadata": {},
     "output_type": "execute_result"
    },
    {
     "data": {
      "text/plain": [
       "val slovar : string list =\n",
       "  [\"THE\"; \"OF\"; \"TO\"; \"AND\"; \"A\"; \"IN\"; \"IS\"; \"IT\"; \"YOU\"; \"THAT\"; \"HE\";\n",
       "   \"WAS\"; \"FOR\"; \"ON\"; \"ARE\"; \"WITH\"; \"AS\"; \"I\"; \"HIS\"; \"THEY\"; \"BE\"; \"AT\";\n",
       "   \"ONE\"; \"HAVE\"; \"THIS\"; \"FROM\"; \"OR\"; \"HAD\"; \"BY\"; \"WORD\"; \"BUT\"; \"WHAT\";\n",
       "   \"SOME\"; \"WE\"; \"CAN\"; \"OUT\"; \"OTHER\"; \"WERE\"; \"ALL\"; \"THERE\"; \"WHEN\"; \"UP\";\n",
       "   \"USE\"; \"YOUR\"; \"HOW\"; \"SAID\"; \"AN\"; \"EACH\"; \"SHE\"; \"WHICH\"; \"DO\"; \"THEIR\";\n",
       "   \"TIME\"; \"IF\"; \"WILL\"; \"WAY\"; \"ABOUT\"; \"MANY\"; \"THEN\"; \"THEM\"; \"WRITE\";\n",
       "   \"WOULD\"; \"LIKE\"; \"SO\"; \"THESE\"; \"HER\"; \"LONG\"; \"MAKE\"; \"THING\"; \"SEE\";\n",
       "   \"HIM\"; \"TWO\"; \"HAS\"; \"LOOK\"; \"MORE\"; \"DAY\"; \"COULD\"; \"GO\"; \"COME\"; \"DID\";\n",
       "   \"NUMBER\"; \"SOUND\"; \"NO\"; \"MOST\"; \"PEOPLE\"; \"MY\"; \"OVER\"; \"KNOW\"; \"WATER\";\n",
       "   \"THAN\"; \"CALL\"; \"FIRST\"; \"WHO\"; \"MAY\"; \"DOWN\"; \"SIDE\"; \"BEEN\"; \"NOW\";\n",
       "   \"FIND\"; \"ANY\"; \"NEW\"; \"WORK\"; \"PART\"; \"TAKE\"; \"GET\"; \"PLACE\"; \"MADE\";\n",
       "   \"LIVE\"; \"WHERE\"; \"AFTER\"; \"BACK\"; \"LITTLE\"; \"ONLY\"; \"ROUND\"; \"MAN\";\n",
       "   \"YEAR\"; \"CAME\"; \"SHOW\"; \"EVERY\"; \"GOOD\"; \"ME\"; \"GIVE\"; \"OUR\"; \"UNDER\";\n",
       "   \"NAME\"; \"VERY\"; \"THROUGH\"; \"JUST\"; \"FORM\"; \"SENTENCE\"; \"GREAT\"; \"THINK\";\n",
       "   \"SAY\"; \"HELP\"; \"LOW\"; \"LINE\"; \"DIFFER\"; \"TURN\"; \"CAUSE\"; \"MUCH\"; \"MEAN\";\n",
       "   \"BEFORE\"; \"MOVE\"; \"RIGHT\"; \"BOY\"; \"OLD\"; \"TOO\"; \"SAME\"; \"TELL\"; \"DOES\";\n",
       "   \"SET\"; \"THREE\"; \"WANT\"; \"AIR\"; \"WELL\"; \"ALSO\"; \"PLAY\"; \"SMALL\"; \"END\";\n",
       "   \"PUT\"; \"HOME\"; \"READ\"; \"HAND\"; \"PORT\"; \"LARGE\"; \"SPELL\"; \"ADD\"; \"EVEN\";\n",
       "   \"LAND\"; \"HERE\"; \"MUST\"; \"BIG\"; \"HIGH\"; \"SUCH\"; \"FOLLOW\"; \"ACT\"; \"WHY\";\n",
       "   \"ASK\"; \"MEN\"; \"CHANGE\"; \"WENT\"; \"LIGHT\"; \"KIND\"; \"OFF\"; \"NEED\"; \"HOUSE\";\n",
       "   \"PICTURE\"; \"TRY\"; \"US\"; \"AGAIN\"; \"ANIMAL\"; \"POINT\"; \"MOTHER\"; \"WORLD\";\n",
       "   \"NEAR\"; \"BUILD\"; \"SELF\"; \"EARTH\"; \"FATHER\"; \"HEAD\"; \"STAND\"; \"OWN\";\n",
       "   \"PAGE\"; \"SHOULD\"; \"COUNTRY\"; \"FOUND\"; \"ANSWER\"; \"SCHOOL\"; \"GROW\"; \"STUDY\";\n",
       "   \"STILL\"; \"LEARN\"; \"PLANT\"; \"COVER\"; \"FOOD\"; \"SUN\"; \"FOUR\"; \"BETWEEN\";\n",
       "   \"STATE\"; \"KEEP\"; \"EYE\"; \"NEVER\"; \"LAST\"; \"LET\"; \"THOUGHT\"; \"CITY\"; \"TREE\";\n",
       "   \"CROSS\"; \"FARM\"; \"HARD\"; \"START\"; \"MIGHT\"; \"STORY\"; \"SAW\"; \"FAR\"; \"SEA\";\n",
       "   \"DRAW\"; \"LEFT\"; \"LATE\"; \"RUN\"; \"DON'T\"; \"WHILE\"; \"PRESS\"; \"CLOSE\";\n",
       "   \"NIGHT\"; \"REAL\"; \"LIFE\"; \"FEW\"; \"NORTH\"; \"OPEN\"; \"SEEM\"; \"TOGETHER\";\n",
       "   \"NEXT\"; \"WHITE\"; \"CHILDREN\"; \"BEGIN\"; \"GOT\"; \"WALK\"; \"EXAMPLE\"; \"EASE\";\n",
       "   \"PAPER\"; \"GROUP\"; \"ALWAYS\"; \"MUSIC\"; \"THOSE\"; \"BOTH\"; \"MARK\"; \"OFTEN\";\n",
       "   \"LETTER\"; \"UNTIL\"; \"MILE\"; \"RIVER\"; \"CAR\"; \"FEET\"; \"CARE\"; \"SECOND\";\n",
       "   \"BOOK\"; \"CARRY\"; \"TOOK\"; \"SCIENCE\"; \"EAT\"; \"ROOM\"; \"FRIEND\"; \"BEGAN\";\n",
       "   \"IDEA\"; \"FISH\"; \"MOUNTAIN\"; \"STOP\"; \"ONCE\"; \"BASE\"; \"HEAR\"; \"HORSE\";\n",
       "   \"CUT\"; \"SURE\"; \"WATCH\"; \"COLOR\"; \"FACE\"; \"WOOD\"; \"MAIN\"; ...]\n"
      ]
     },
     "execution_count": 49,
     "metadata": {},
     "output_type": "execute_result"
    },
    {
     "data": {
      "text/plain": [
       "val primer_5_7 : string list =\n",
       "  [\"THE\"; \"OF\"; \"TO\"; \"AND\"; \"A\"; \"IN\"; \"IS\"; \"IT\"; \"YOU\"; \"THAT\"; \"HE\";\n",
       "   \"WAS\"; \"FOR\"; \"ON\"; \"ARE\"; \"WITH\"; \"AS\"; \"I\"; \"HIS\"; \"THEY\"; \"BE\"; \"AT\";\n",
       "   \"ONE\"; \"HAVE\"; \"THIS\"; \"FROM\"; \"OR\"; \"HAD\"; \"BY\"; \"WORD\"; \"BUT\"; \"WHAT\";\n",
       "   \"SOME\"; \"WE\"; \"CAN\"; \"OUT\"; \"OTHER\"; \"WERE\"; \"ALL\"; \"THERE\"; \"WHEN\"; \"UP\"]\n"
      ]
     },
     "execution_count": 49,
     "metadata": {},
     "output_type": "execute_result"
    },
    {
     "data": {
      "text/plain": [
       "val primer_5_8 : string = \"MEASURE\"\n"
      ]
     },
     "execution_count": 49,
     "metadata": {},
     "output_type": "execute_result"
    }
   ],
   "source": [
    "let besede = \"the of to and a in is it you that he was for on are with as i his they be at one have this from or had by word but what some we can out other were all there when up use your how said an each she which do their time if will way about many then them write would like so these her long make thing see him two has look more day could go come did number sound no most people my over know water than call first who may down side been now find any new work part take get place made live where after back little only round man year came show every good me give our under name very through just form sentence great think say help low line differ turn cause much mean before move right boy old too same tell does set three want air well also play small end put home read hand port large spell add even land here must big high such follow act why ask men change went light kind off need house picture try us again animal point mother world near build self earth father head stand own page should country found answer school grow study still learn plant cover food sun four between state keep eye never last let thought city tree cross farm hard start might story saw far sea draw left late run don't while press close night real life few north open seem together next white children begin got walk example ease paper group always music those both mark often letter until mile river car feet care second book carry took science eat room friend began idea fish mountain stop once base hear horse cut sure watch color face wood main enough plain girl usual young ready above ever red list though feel talk bird soon body dog family direct pose leave song measure door product black short numeral class wind question happen complete ship area half rock order fire south problem piece told knew pass since top whole king space heard best hour better true . during hundred five remember step early hold west ground interest reach fast verb sing listen six table travel less morning ten simple several vowel toward war lay against pattern slow center love person money serve appear road map rain rule govern pull cold notice voice unit power town fine certain fly fall lead cry dark machine note wait plan figure star box noun field rest correct able pound done beauty drive stood contain front teach week final gave green oh quick develop ocean warm free minute strong special mind behind clear tail produce fact street inch multiply nothing course stay wheel full force blue object decide surface deep moon island foot system busy test record boat common gold possible plane stead dry wonder laugh thousand ago ran check game shape equate hot miss brought heat snow tire bring yes distant fill east paint language among grand ball yet wave drop heart am present heavy dance engine position arm wide sail material size vary settle speak weight general ice matter circle pair include divide syllable felt perhaps pick sudden count square reason length represent art subject region energy hunt probable bed brother egg ride cell believe fraction forest sit race window store summer train sleep prove lone leg exercise wall catch mount wish sky board joy winter sat written wild instrument kept glass grass cow job edge sign visit past soft fun bright gas weather month million bear finish happy hope flower clothe strange gone jump baby eight village meet root buy raise solve metal whether push seven paragraph third shall held hair describe cook floor either result burn hill safe cat century consider type law bit coast copy phrase silent tall sand soil roll temperature finger industry value fight lie beat excite natural view sense ear else quite broke case middle kill son lake moment scale loud spring observe child straight consonant nation dictionary milk speed method organ pay age section dress cloud surprise quiet stone tiny climb cool design poor lot experiment bottom key iron single stick flat twenty skin smile crease hole trade melody trip office receive row mouth exact symbol die least trouble shout except wrote seed tone join suggest clean break lady yard rise bad blow oil blood touch grew cent mix team wire cost lost brown wear garden equal sent choose fell fit flow fair bank collect save control decimal gentle woman captain practice separate difficult doctor please protect noon whose locate ring character insect caught period indicate radio spoke atom human history effect electric expect crop modern element hit student corner party supply bone rail imagine provide agree thus capital won't chair danger fruit rich thick soldier process operate guess necessary sharp wing create neighbor wash bat rather crowd corn compare poem string bell depend meat rub tube famous dollar stream fear sight thin triangle planet hurry chief colony clock mine tie enter major fresh search send yellow gun allow print dead spot desert suit current lift rose continue block chart hat sell success company subtract event particular deal swim term opposite wife shoe shoulder spread arrange camp invent cotton born determine quart nine truck noise level chance gather shop stretch throw shine property column molecule select wrong gray repeat require broad prepare salt nose plural anger claim continent oxygen sugar death pretty skill women season solution magnet silver thank branch match suffix especially fig afraid huge sister steel discuss forward similar guide experience score apple bought led pitch coat mass card band rope slip win dream evening condition feed tool total basic smell valley nor double seat arrive master track parent shore division sheet substance favor connect post spend chord fat glad original share station dad bread charge proper bar offer segment slave duck instant market degree populate chick dear enemy reply drink occur support speech nature range steam motion path liquid log meant quotient teeth shell neck\"\n",
    "\n",
    "let slovar = String.split_on_char ' ' besede |> List.map String.uppercase_ascii\n",
    "\n",
    "let primer_5_7 = take 42 slovar\n",
    "let primer_5_8 = List.nth slovar 321 \n",
    "(* val primer_5_8 : string = \"MEASURE\" *)"
   ]
  },
  {
   "cell_type": "markdown",
   "metadata": {},
   "source": [
    "### Razširjanje ključa s črko\n",
    "Med ugibanjem seveda ne bomo poznali celotnega ključa. V tem primeru bomo za\n",
    " neznane črke uporabili znak `_`. Na primer, če bi vedeli, da je črka `A` v\n",
    " besedilu šifrirana kot `X`, črka `C` pa kot `Y`, bi ključ zapisali kot\n",
    " `\"X_Y_______________________\"`.\n",
    "\n",
    " Napišite funkcijo `dodaj_zamenjavo : string -> char * char -> string option`,\n",
    " ki sprejme ključ ter ga poskusi razširiti z zamenjavo dane črke. Funkcija naj\n",
    " vrne `None`, če razširitev vodi v ključ, ki ni bijektiven (torej če ima črka že\n",
    " dodeljeno drugo zamenjavo ali če smo isto zamenjavo dodelili dvema različnima\n",
    " črkama)."
   ]
  },
  {
   "cell_type": "code",
   "execution_count": null,
   "metadata": {
    "vscode": {
     "languageId": "ocaml"
    }
   },
   "outputs": [],
   "source": [
    "let dodaj_zamenjavo _ _ = ()\n",
    "\n",
    "let primer_5_9 = dodaj_zamenjavo \"AB__E\" ('C', 'X')\n",
    "(* val primer_5_9 : string option = Some \"ABX_E\" *)\n",
    "\n",
    "let primer_5_10 = dodaj_zamenjavo \"ABX_E\" ('C', 'X')\n",
    "(* val primer_5_10 : string option = Some \"ABX_E\" *)\n",
    "\n",
    "let primer_5_11 = dodaj_zamenjavo \"ABY_E\" ('C', 'E')\n",
    "(* val primer_5_11 : string option = None *)"
   ]
  },
  {
   "cell_type": "markdown",
   "metadata": {},
   "source": [
    "### Razširjanje ključa z besedo\n",
    "S pomočjo funkcije `dodaj_zamenjavo` sestavite še funkcijo `dodaj_zamenjave :\n",
    " string -> string * string -> string option`, ki ključ razširi z zamenjavami, ki\n",
    " prvo besedo preslikajo v drugo."
   ]
  },
  {
   "cell_type": "code",
   "execution_count": null,
   "metadata": {
    "vscode": {
     "languageId": "ocaml"
    }
   },
   "outputs": [],
   "source": [
    "let dodaj_zamenjave _ _ = ()\n",
    "\n",
    "let primer_5_12 = dodaj_zamenjave \"__________________________\" (\"HELLO\", \"KUNNJ\")\n",
    "(* val primer_5_12 : string option = Some \"____U__K___N__J___________\" *)\n",
    "\n",
    "let primer_5_13 = dodaj_zamenjave \"ABCDU_____________________\" (\"HELLO\", \"KUNNJ\")\n",
    "(* val primer_5_13 : string option = Some \"ABCDU__K___N__J___________\" *)\n",
    "\n",
    "let primer_5_14 = dodaj_zamenjave \"ABCDE_____________________\" (\"HELLO\", \"KUNNJ\")\n",
    "(* val primer_5_14 : string option = None *)"
   ]
  },
  {
   "cell_type": "markdown",
   "metadata": {},
   "source": [
    "### Vse možne razširitve\n",
    "Sestavite funkcijo `mozne_razsiritve : string -> string -> string list ->\n",
    " string list`, ki vzame ključ, šifrirano besedo ter slovar vseh možnih besed,\n",
    " vrne pa seznam vseh možnih razširitev ključa, ki šifrirano besedo slikajo v eno\n",
    " od besed v slovarju."
   ]
  },
  {
   "cell_type": "code",
   "execution_count": null,
   "metadata": {
    "vscode": {
     "languageId": "ocaml"
    }
   },
   "outputs": [],
   "source": [
    "let mozne_razsiritve _ _ _ = []\n",
    "\n",
    "let primer_5_15 =\n",
    "  slovar\n",
    "  |> mozne_razsiritve (String.make 26 '_') \"KUNNJ\"\n",
    "  |> List.map (fun kljuc -> (kljuc, sifriraj kljuc \"KUNNJ\"))\n",
    "(* val primer_5_15 : (string * string) list =\n",
    "  [(\"_________YC__R______A_____\", \"CARRY\");\n",
    "   (\"_________DS__O______T_____\", \"STOOD\");\n",
    "   (\"_________NG__E______R_____\", \"GREEN\");\n",
    "   (\"_________LW__E______H_____\", \"WHEEL\");\n",
    "   (\"_________PS__E______L_____\", \"SLEEP\");\n",
    "   (\"_________YH__P______A_____\", \"HAPPY\");\n",
    "   (\"_________RF__O______L_____\", \"FLOOR\");\n",
    "   (\"_________DS__E______P_____\", \"SPEED\");\n",
    "   (\"_________DB__O______L_____\", \"BLOOD\");\n",
    "   (\"_________YH__R______U_____\", \"HURRY\");\n",
    "   (\"_________LS__E______T_____\", \"STEEL\");\n",
    "   (\"_________TS__E______H_____\", \"SHEET\")] *)"
   ]
  },
  {
   "cell_type": "markdown",
   "metadata": {},
   "source": [
    "### Odšifriranje\n",
    "Napišite funkcijo `odsifriraj : string -> string option`, ki sprejme šifrirano\n",
    " besedilo in s pomočjo slovarja besed ugane odšifrirano besedilo. Funkcija naj\n",
    " vrne `None`, če ni mogoče najti nobenega ustreznega ključa."
   ]
  },
  {
   "cell_type": "code",
   "execution_count": null,
   "metadata": {
    "vscode": {
     "languageId": "ocaml"
    }
   },
   "outputs": [
    {
     "ename": "error",
     "evalue": "compile_error",
     "output_type": "error",
     "traceback": [
      "File \"[55]\", line 1, characters 41-59:\n1 | let odsifriraj : string -> string option zasifrirana_beseda = ()\n                                             ^^^^^^^^^^^^^^^^^^\nError: Unbound type constructor zasifrirana_beseda\n"
     ]
    }
   ],
   "source": [
    "let odsifriraj zasifrirana_beseda = ()\n",
    "\n",
    "let primer_5_16 = sifriraj quick_brown_fox \"THIS IS A VERY HARD PROBLEM\"\n",
    "(* val primer_5_16 : string = \"VKBO BO T AUSD KTSQ MSJHNUF\" *)\n",
    "\n",
    "let primer_5_17 = odsifriraj \"VKBO BO T AUSD KTSQ MSJHNUF\"\n",
    "(* val primer_5_17 : string option = Some \"THIS IS A VERY HARD PROBLEM\" *)"
   ]
  }
 ],
 "metadata": {
  "kernelspec": {
   "display_name": "OCaml 4.14",
   "language": "OCaml",
   "name": "ocaml-jupyter"
  },
  "language_info": {
   "codemirror_mode": "text/x-ocaml",
   "file_extension": ".ml",
   "mimetype": "text/x-ocaml",
   "name": "OCaml",
   "nbconverter_exporter": null,
   "pygments_lexer": "OCaml",
   "version": "4.14.2"
  }
 },
 "nbformat": 4,
 "nbformat_minor": 2
}
