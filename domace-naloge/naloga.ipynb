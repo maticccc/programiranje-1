{
 "cells": [
  {
   "cell_type": "markdown",
   "metadata": {},
   "source": [
    "# 1. DOMAČA NALOGA\n",
    "#### 2024 / 25\n",
    "##### Matic Curk"
   ]
  },
  {
   "cell_type": "markdown",
   "metadata": {},
   "source": [
    "### 1. Števke\n",
    "Napišite funkcijo `stevke : int -> int -> int list`, ki sprejme pozitivni celi\n",
    " števili $b$ in $n$ ter vrne seznam števk števila $n$ v bazi $b$. Pri tem tudi\n",
    " za baze, ki so večje od $10$, uporabimo števke od $0$ do $b - 1$."
   ]
  },
  {
   "cell_type": "code",
   "execution_count": 229,
   "metadata": {
    "vscode": {
     "languageId": "ocaml"
    }
   },
   "outputs": [
    {
     "data": {
      "text/plain": [
       "val stevke : int -> int -> int list = <fun>\n"
      ]
     },
     "execution_count": 229,
     "metadata": {},
     "output_type": "execute_result"
    },
    {
     "data": {
      "text/plain": [
       "val primer_1_1 : int list = [0; 1; 2; 3; 4; 5]\n"
      ]
     },
     "execution_count": 229,
     "metadata": {},
     "output_type": "execute_result"
    },
    {
     "data": {
      "text/plain": [
       "val primer_1_2 : int list = [0; 1; 0; 1; 0; 1; 0]\n"
      ]
     },
     "execution_count": 229,
     "metadata": {},
     "output_type": "execute_result"
    },
    {
     "data": {
      "text/plain": [
       "val primer_1_3 : int list = [0; 3; 14; 15; 9]\n"
      ]
     },
     "execution_count": 229,
     "metadata": {},
     "output_type": "execute_result"
    },
    {
     "data": {
      "text/plain": [
       "val test1 : int list = [0]\n"
      ]
     },
     "execution_count": 229,
     "metadata": {},
     "output_type": "execute_result"
    }
   ],
   "source": [
    "let rec stevke b n = match n with\n",
    "  | 0 -> [0]\n",
    "  (*števke dodajam na konec seznama*)\n",
    "  | n -> stevke b (n / b) @ [n mod b]\n",
    "\n",
    "let primer_1_1 = stevke 10 12345\n",
    "(* val primer_1_1 : int list = [1; 2; 3; 4; 5] *)\n",
    "\n",
    "let primer_1_2 = stevke 2 42\n",
    "(* val primer_1_2 : int list = [1; 0; 1; 0; 1; 0] *)\n",
    "\n",
    "let primer_1_3 = stevke 16 (3 * 16 * 16 * 16 + 14 * 16 * 16 + 15 * 16 + 9)\n",
    "(* val primer_1_3 : int list = [3; 14; 15; 9] *)\n",
    "\n",
    "(*robni primer*)\n",
    "let test1 = stevke 2 0"
   ]
  },
  {
   "cell_type": "markdown",
   "metadata": {},
   "source": [
    "### 2. Začetek seznama\n",
    "Napišite funkcijo `take : int -> 'a list -> 'a list`, ki sprejme naravno\n",
    " število in vrne ustrezno število elementov z začetka danega seznama. Če je\n",
    " podani seznam krajši od zahtevane dolžine, naj funkcija vrne kar celoten\n",
    " seznam."
   ]
  },
  {
   "cell_type": "code",
   "execution_count": 230,
   "metadata": {
    "vscode": {
     "languageId": "ocaml"
    }
   },
   "outputs": [
    {
     "data": {
      "text/plain": [
       "val take : int -> 'a list -> 'a list = <fun>\n"
      ]
     },
     "execution_count": 230,
     "metadata": {},
     "output_type": "execute_result"
    },
    {
     "data": {
      "text/plain": [
       "val primer_1_4 : int list = [1; 2; 3]\n"
      ]
     },
     "execution_count": 230,
     "metadata": {},
     "output_type": "execute_result"
    },
    {
     "data": {
      "text/plain": [
       "val primer_1_5 : int list = [1; 2; 3; 4; 5]\n"
      ]
     },
     "execution_count": 230,
     "metadata": {},
     "output_type": "execute_result"
    },
    {
     "data": {
      "text/plain": [
       "val test2 : int list = []\n"
      ]
     },
     "execution_count": 230,
     "metadata": {},
     "output_type": "execute_result"
    },
    {
     "data": {
      "text/plain": [
       "val test3 : 'a list = []\n"
      ]
     },
     "execution_count": 230,
     "metadata": {},
     "output_type": "execute_result"
    }
   ],
   "source": [
    "let rec take n seznam = match (n, seznam) with\n",
    "  | (0, _) -> []\n",
    "  | (_, []) -> []\n",
    "  | (n, x :: xs) -> x :: take (n - 1) xs\n",
    "\n",
    "let primer_1_4 = take 3 [1; 2; 3; 4; 5]\n",
    "(* val primer_1_4 : int list = [1; 2; 3] *)\n",
    "\n",
    "let primer_1_5 = take 10 [1; 2; 3; 4; 5]\n",
    "(* val primer_1_5 : int list = [1; 2; 3; 4; 5] *)\n",
    "\n",
    "(*robna primera*)\n",
    "let test2 = take 0 [1; 10; 100; 1000]\n",
    "let test3 = take 3 []"
   ]
  },
  {
   "cell_type": "markdown",
   "metadata": {},
   "source": [
    "### 3. Odstranjevanje ujemajočih\n",
    " Napišite funkcijo `drop_while : ('a -> bool) -> 'a list -> 'a list`, ki z\n",
    " začetka seznama odstrani vse elemente, ki zadoščajo danemu predikatu. Ko najde\n",
    " element, ki predikatu ne zadošča, vrne preostanek seznama."
   ]
  },
  {
   "cell_type": "code",
   "execution_count": 231,
   "metadata": {
    "vscode": {
     "languageId": "ocaml"
    }
   },
   "outputs": [
    {
     "data": {
      "text/plain": [
       "val drop_while : ('a -> bool) -> 'a list -> 'a list = <fun>\n"
      ]
     },
     "execution_count": 231,
     "metadata": {},
     "output_type": "execute_result"
    },
    {
     "data": {
      "text/plain": [
       "val primer_1_6 : int list = [5; 9; 2; 6; 5; 3; 5]\n"
      ]
     },
     "execution_count": 231,
     "metadata": {},
     "output_type": "execute_result"
    },
    {
     "data": {
      "text/plain": [
       "val primer_1_7 : int list = [9; 8; 7; 6; 5; 4; 3; 2; 1; 0]\n"
      ]
     },
     "execution_count": 231,
     "metadata": {},
     "output_type": "execute_result"
    }
   ],
   "source": [
    "let rec drop_while predikat seznam = match seznam with\n",
    "  | [] -> []\n",
    "  | x :: xs -> if predikat x then drop_while predikat xs else x :: xs\n",
    "\n",
    "let primer_1_6 = drop_while (fun x -> x < 5) [3; 1; 4; 1; 5; 9; 2; 6; 5; 3; 5]\n",
    "(* val primer_1_6 : int list = [5; 9; 2; 6; 5; 3; 5] *)\n",
    "\n",
    "let primer_1_7 = drop_while (fun x -> x < 5) [9; 8; 7; 6; 5; 4; 3; 2; 1; 0]\n",
    "(* val primer_1_7 : int list = [9; 8; 7; 6; 5; 4; 3; 2; 1; 0] *)\n"
   ]
  },
  {
   "cell_type": "markdown",
   "metadata": {},
   "source": [
    "### 4. Funkcija 'filter_mapi'\n",
    "Napišite funkcijo `filter_mapi : (int -> 'a -> 'b option) -> 'a list -> 'b\n",
    " list`, ki deluje tako kot `List.filter_map`, le da funkcija poleg elementov dobi\n",
    " še njihove indekse."
   ]
  },
  {
   "cell_type": "code",
   "execution_count": 232,
   "metadata": {
    "vscode": {
     "languageId": "ocaml"
    }
   },
   "outputs": [
    {
     "data": {
      "text/plain": [
       "val filter_mapi : (int -> 'a -> 'b option) -> 'a list -> 'b list = <fun>\n"
      ]
     },
     "execution_count": 232,
     "metadata": {},
     "output_type": "execute_result"
    },
    {
     "data": {
      "text/plain": [
       "val primer_1_8 : int list = [1; 9; 25; 49; 81]\n"
      ]
     },
     "execution_count": 232,
     "metadata": {},
     "output_type": "execute_result"
    }
   ],
   "source": [
    "let filter_mapi predikat seznam = \n",
    "  let rec aux i = function\n",
    "    | [] -> []\n",
    "    | x :: xs -> match predikat i x with\n",
    "      | Some(y) -> y :: aux (i + 1) xs\n",
    "      | None -> aux (i + 1) xs\n",
    "in aux 0 seznam\n",
    "\n",
    "let primer_1_8 =\n",
    "  filter_mapi\n",
    "    (fun i x -> if i mod 2 = 0 then Some (x * x) else None)\n",
    "    [1; 2; 3; 4; 5; 6; 7; 8; 9]\n",
    "(* val primer_1_8 : int list = [1; 9; 25; 49; 81] *)"
   ]
  },
  {
   "cell_type": "markdown",
   "metadata": {},
   "source": [
    "### 5. Izomorfizmi množic\n",
    "Na predavanjih smo videli, da funkciji `curry : ('a * 'b -> 'c) -> ('a -> ('b\n",
    " -> 'c))` in `uncurry : ('a -> ('b -> 'c)) -> ('a * 'b -> 'c)` predstavljata\n",
    " izomorfizem množic $C^{A \\times B} \\cong (C^B)^A$, če kartezični produkt\n",
    " predstavimo s produktnim, eksponent pa s funkcijskim tipom.\n",
    "\n",
    " Podobno velja tudi za ostale znane izomorfizme, če disjunktno unijo\n",
    "   $$A + B = \\{ \\mathrm{in}_1(a) \\mid a \\in A \\} \\cup \\{ \\mathrm{in}_2(b) \\mid b\n",
    " \\in B \\}$$\n",
    " predstavimo s tipom `('a, 'b) sum`, definiranim z:"
   ]
  },
  {
   "cell_type": "code",
   "execution_count": 233,
   "metadata": {
    "vscode": {
     "languageId": "ocaml"
    }
   },
   "outputs": [
    {
     "data": {
      "text/plain": [
       "type ('a, 'b) sum = In1 of 'a | In2 of 'b\n"
      ]
     },
     "execution_count": 233,
     "metadata": {},
     "output_type": "execute_result"
    }
   ],
   "source": [
    "type ('a, 'b) sum = In1 of 'a | In2 of 'b"
   ]
  },
  {
   "cell_type": "markdown",
   "metadata": {},
   "source": [
    "Pišemo In1 of 'a namesto samo In1 , da vemo iz katere množice je ta element."
   ]
  },
  {
   "cell_type": "markdown",
   "metadata": {},
   "source": [
    "Napišite pare funkcij `phi1` & `psi1`, …, `phi7` & `psi7`, ki predstavljajo\n",
    " spodnje izomorfizme množic. Tega, da so si funkcije inverzne, ni treba\n",
    " dokazovati."
   ]
  },
  {
   "cell_type": "markdown",
   "metadata": {},
   "source": [
    "Komentar: za izomorfizem rabiš napisat funkcijo iz leve v desno in pa iz desne v levo.\n",
    "Produkti so že definirani v OCamlu, vsote pa smo definirali zgoraj s tipom sum."
   ]
  },
  {
   "cell_type": "markdown",
   "metadata": {},
   "source": [
    "1. ### $A \\times B \\cong B \\times A$"
   ]
  },
  {
   "cell_type": "code",
   "execution_count": 234,
   "metadata": {
    "vscode": {
     "languageId": "ocaml"
    }
   },
   "outputs": [
    {
     "data": {
      "text/plain": [
       "val phi1 : 'a * 'b -> 'b * 'a = <fun>\n"
      ]
     },
     "execution_count": 234,
     "metadata": {},
     "output_type": "execute_result"
    },
    {
     "data": {
      "text/plain": [
       "val psi1 : 'b * 'a -> 'a * 'b = <fun>\n"
      ]
     },
     "execution_count": 234,
     "metadata": {},
     "output_type": "execute_result"
    }
   ],
   "source": [
    "let phi1 : 'a * 'b -> 'b * 'a = function\n",
    "  | (a, b) -> (b, a)\n",
    "\n",
    "\n",
    "let psi1 : 'b * 'a -> 'a * 'b = function\n",
    "  | (b, a) -> (a, b)"
   ]
  },
  {
   "cell_type": "markdown",
   "metadata": {},
   "source": [
    "2. ### $A + B \\cong B + A$"
   ]
  },
  {
   "cell_type": "code",
   "execution_count": 235,
   "metadata": {
    "vscode": {
     "languageId": "ocaml"
    }
   },
   "outputs": [
    {
     "data": {
      "text/plain": [
       "val phi2 : ('a, 'b) sum -> ('b, 'a) sum = <fun>\n"
      ]
     },
     "execution_count": 235,
     "metadata": {},
     "output_type": "execute_result"
    },
    {
     "data": {
      "text/plain": [
       "val psi2 : ('b, 'a) sum -> ('a, 'b) sum = <fun>\n"
      ]
     },
     "execution_count": 235,
     "metadata": {},
     "output_type": "execute_result"
    }
   ],
   "source": [
    "let phi2: ('a, 'b) sum -> ('b, 'a) sum = function\n",
    "  | In1 a -> In2 a \n",
    "  | In2 b -> In1 b \n",
    "\n",
    "let psi2 : ('b, 'a) sum -> ('a, 'b) sum = function\n",
    "  | In1 b -> In2 b \n",
    "  | In2 a -> In1 a"
   ]
  },
  {
   "cell_type": "markdown",
   "metadata": {},
   "source": [
    "3. ### $A \\times (B \\times C) \\cong (A \\times B) \\times C$"
   ]
  },
  {
   "cell_type": "code",
   "execution_count": 236,
   "metadata": {
    "vscode": {
     "languageId": "ocaml"
    }
   },
   "outputs": [
    {
     "data": {
      "text/plain": [
       "val phi3 : 'a * ('b * 'c) -> ('a * 'b) * 'c = <fun>\n"
      ]
     },
     "execution_count": 236,
     "metadata": {},
     "output_type": "execute_result"
    },
    {
     "data": {
      "text/plain": [
       "val psi3 : ('a * 'b) * 'c -> 'a * ('b * 'c) = <fun>\n"
      ]
     },
     "execution_count": 236,
     "metadata": {},
     "output_type": "execute_result"
    }
   ],
   "source": [
    "let phi3 : 'a * ('b * 'c) -> ('a * 'b) * 'c = function\n",
    "  | (a, (b, c)) -> ((a, b), c)\n",
    "\n",
    "let psi3 : ('a * 'b) * 'c -> 'a * ('b * 'c) = function\n",
    "  | ((a, b), c) -> (a, (b, c))"
   ]
  },
  {
   "cell_type": "markdown",
   "metadata": {},
   "source": [
    "4. ### $A + (B + C) \\cong (A + B) + C$"
   ]
  },
  {
   "cell_type": "code",
   "execution_count": 237,
   "metadata": {
    "vscode": {
     "languageId": "ocaml"
    }
   },
   "outputs": [
    {
     "data": {
      "text/plain": [
       "val phi4 : ('a, ('b, 'c) sum) sum -> (('a, 'b) sum, 'c) sum = <fun>\n"
      ]
     },
     "execution_count": 237,
     "metadata": {},
     "output_type": "execute_result"
    },
    {
     "data": {
      "text/plain": [
       "val psi4 : (('a, 'b) sum, 'c) sum -> ('a, ('b, 'c) sum) sum = <fun>\n"
      ]
     },
     "execution_count": 237,
     "metadata": {},
     "output_type": "execute_result"
    }
   ],
   "source": [
    "let phi4 : ('a, ('b, 'c) sum) sum -> (('a, 'b) sum, 'c) sum = function\n",
    "  | In1 a -> In1 (In1 a)\n",
    "  | In2 (In1 b) -> In1 (In2 b)\n",
    "  | In2 (In2 c) -> In2 c\n",
    "\n",
    "\n",
    "let psi4 : (('a, 'b) sum, 'c) sum -> ('a, ('b, 'c) sum) sum = function\n",
    "  | In1 (In1 a) -> In1 a\n",
    "  | In1 (In2 b) -> In2 (In1 b)\n",
    "  | In2 c -> In2 (In2 c)"
   ]
  },
  {
   "cell_type": "markdown",
   "metadata": {},
   "source": [
    "5. ### $A \\times (B + C) \\cong (A \\times B) + (A \\times C)$"
   ]
  },
  {
   "cell_type": "code",
   "execution_count": 238,
   "metadata": {
    "vscode": {
     "languageId": "ocaml"
    }
   },
   "outputs": [
    {
     "data": {
      "text/plain": [
       "val phi5 : 'a * ('b, 'c) sum -> ('a * 'b, 'a * 'c) sum = <fun>\n"
      ]
     },
     "execution_count": 238,
     "metadata": {},
     "output_type": "execute_result"
    },
    {
     "data": {
      "text/plain": [
       "val psi5 : ('a * 'b, 'a * 'c) sum -> 'a * ('b, 'c) sum = <fun>\n"
      ]
     },
     "execution_count": 238,
     "metadata": {},
     "output_type": "execute_result"
    }
   ],
   "source": [
    "let phi5 : 'a * ('b, 'c) sum -> ('a * 'b, 'a * 'c) sum = function\n",
    "  | (a, In1 b) -> In1 (a , b) \n",
    "  | (a, In2 c) -> In2 (a , c)\n",
    "\n",
    "let psi5 : ('a * 'b, 'a * 'c) sum -> 'a * ('b, 'c) sum = function\n",
    "  | In1 (a, b) -> (a, In1 b)\n",
    "  | In2 (a, c) -> (a, In2 c)  "
   ]
  },
  {
   "cell_type": "markdown",
   "metadata": {},
   "source": [
    "6. ### $A^{B + C} \\cong A^B \\times A^C$"
   ]
  },
  {
   "cell_type": "code",
   "execution_count": 239,
   "metadata": {
    "vscode": {
     "languageId": "ocaml"
    }
   },
   "outputs": [
    {
     "data": {
      "text/plain": [
       "val phi6 : (('a, 'b) sum -> 'c) -> 'a -> 'c * ('b -> 'c) = <fun>\n"
      ]
     },
     "execution_count": 239,
     "metadata": {},
     "output_type": "execute_result"
    },
    {
     "data": {
      "text/plain": [
       "val phi7 : ('a -> 'b) * ('c -> 'b) -> ('a, 'c) sum -> 'b = <fun>\n"
      ]
     },
     "execution_count": 239,
     "metadata": {},
     "output_type": "execute_result"
    }
   ],
   "source": [
    "let phi6 f = (fun b -> f (In1 b), fun c -> f (In2 c))\n",
    "\n",
    "let phi7 (f, g) bpc = match bpc with\n",
    "  (*preverimo, 'če držimo b v roki'*)\n",
    "  | In1 a -> f a\n",
    "  | In2 b -> g b"
   ]
  },
  {
   "cell_type": "markdown",
   "metadata": {},
   "source": [
    "7. ### $(A \\times B)^C \\cong A^C \\times B^C$\n"
   ]
  },
  {
   "cell_type": "code",
   "execution_count": 240,
   "metadata": {
    "vscode": {
     "languageId": "ocaml"
    }
   },
   "outputs": [
    {
     "data": {
      "text/plain": [
       "val phi7 : ('c -> 'a * 'b) -> ('c -> 'a) * ('c -> 'b) = <fun>\n"
      ]
     },
     "execution_count": 240,
     "metadata": {},
     "output_type": "execute_result"
    },
    {
     "data": {
      "text/plain": [
       "val psi7 : ('c -> 'a) * ('c -> 'b) -> 'c -> 'a * 'b = <fun>\n"
      ]
     },
     "execution_count": 240,
     "metadata": {},
     "output_type": "execute_result"
    }
   ],
   "source": [
    "let phi7 (f : 'c -> ('a * 'b)) : ('c -> 'a) * ('c -> 'b) =\n",
    "  (*funkcija f_a(c) vrne prvo komponento funkcije f(c), ki se slika v dva elementa, funkcija f_b(c) pa vrne drugo komponento*)\n",
    "  let f_a c = fst (f c) in\n",
    "  let f_b c = snd (f c) in\n",
    "  (*na koncu vrnem par komponent, kjer sem na vsako posebej apliciral funkcijo f*)\n",
    "  (f_a, f_b)\n",
    "\n",
    "  let psi7 (f_a, f_b : ('c -> 'a) * ('c -> 'b)) : 'c -> ('a * 'b) = fun c -> (f_a c, f_b c)"
   ]
  },
  {
   "cell_type": "markdown",
   "metadata": {},
   "source": [
    "### 6. Polinomi\n",
    "Polinome $a_0 + a_1 x + \\cdots + a_n x^n$ predstavimo s seznami celoštevilskih\n",
    " koeficientov od prostega do vodilnega člena. Na primer, polinom $1 - 2 x + 3\n",
    " x^2$ predstavimo s seznamom `[1; -2; 3]`."
   ]
  },
  {
   "cell_type": "code",
   "execution_count": 241,
   "metadata": {
    "vscode": {
     "languageId": "ocaml"
    }
   },
   "outputs": [
    {
     "data": {
      "text/plain": [
       "type polinom = int list\n"
      ]
     },
     "execution_count": 241,
     "metadata": {},
     "output_type": "execute_result"
    }
   ],
   "source": [
    "type polinom = int list"
   ]
  },
  {
   "cell_type": "markdown",
   "metadata": {},
   "source": [
    "#### Odstranjevanje odvečnih ničel\n",
    "Napišite funkcijo `pocisti : polinom -> polinom`, ki s konca seznama\n",
    " koeficientov odstrani odvečne ničle."
   ]
  },
  {
   "cell_type": "code",
   "execution_count": 242,
   "metadata": {
    "vscode": {
     "languageId": "ocaml"
    }
   },
   "outputs": [
    {
     "data": {
      "text/plain": [
       "val pocisti : int list -> int list = <fun>\n"
      ]
     },
     "execution_count": 242,
     "metadata": {},
     "output_type": "execute_result"
    },
    {
     "data": {
      "text/plain": [
       "val primer_3_1 : int list = [1; -2; 3]\n"
      ]
     },
     "execution_count": 242,
     "metadata": {},
     "output_type": "execute_result"
    },
    {
     "data": {
      "text/plain": [
       "val test4 : int list = [3; 5; 0; 7; 0; 8]\n"
      ]
     },
     "execution_count": 242,
     "metadata": {},
     "output_type": "execute_result"
    },
    {
     "data": {
      "text/plain": [
       "val test5 : int list = []\n"
      ]
     },
     "execution_count": 242,
     "metadata": {},
     "output_type": "execute_result"
    },
    {
     "data": {
      "text/plain": [
       "val test6 : int list = []\n"
      ]
     },
     "execution_count": 242,
     "metadata": {},
     "output_type": "execute_result"
    }
   ],
   "source": [
    "let pocisti polinom = \n",
    "    (*zapišem pomozno funkcijo, ki je rekurzivna in bo naredila vse delo -> tako se funkcija tudi hitreje izvede, saj gre za repno rekurzijo*)\n",
    "    (*funkcijo pišem, kot da bi za vhodni podatek dobila obrnjen polinom, saj ji bom v klicu funkcije tudi dal obrnjen polinom kot vhodni podatek*)\n",
    "    let rec odstrani_nicle seznam = match seznam with\n",
    "        (*robni primer []*)\n",
    "        | [] -> []\n",
    "        (*če dobim na prvem mestu seznama 0, jo vržem ven*)\n",
    "        | 0 :: xs -> odstrani_nicle xs\n",
    "        (*za prvi element, ki ni več enak 0, funkcija vrne celoten seznam*)\n",
    "        | x :: xs -> seznam\n",
    "    in \n",
    "    (*ko kličem funkcijo za vhodni podatek dam obrnjen polinom, nato pa ga še enkrat obrnem, ko funkcija vrne končen rezultat*)\n",
    "    List.rev(odstrani_nicle (List.rev polinom))\n",
    "\n",
    "let primer_3_1 = pocisti [1; -2; 3; 0; 0]\n",
    "(* val primer_3_1 : int list = [1; -2; 3] *)\n",
    "\n",
    "\n",
    "(*še dodatni primeri, da se prepričam, da funkcija res pravilno deluje*)\n",
    "let test4 = pocisti [3; 5; 0; 7; 0; 8; 0; 0; 0]\n",
    "let test5 = pocisti [0; 0; 0]\n",
    "let test6 = pocisti []"
   ]
  },
  {
   "cell_type": "markdown",
   "metadata": {},
   "source": [
    "#### Seštevanje\n",
    " Napišite funkcijo `( +++ ) : polinom -> polinom -> polinom`, ki sešteje dva\n",
    " polinoma."
   ]
  },
  {
   "cell_type": "code",
   "execution_count": 243,
   "metadata": {
    "vscode": {
     "languageId": "ocaml"
    }
   },
   "outputs": [
    {
     "data": {
      "text/plain": [
       "val ( +++ ) : int list -> int list -> int list = <fun>\n"
      ]
     },
     "execution_count": 243,
     "metadata": {},
     "output_type": "execute_result"
    },
    {
     "data": {
      "text/plain": [
       "val primer_3_2 : int list = [2; 0; 3]\n"
      ]
     },
     "execution_count": 243,
     "metadata": {},
     "output_type": "execute_result"
    },
    {
     "data": {
      "text/plain": [
       "val primer_3_3 : int list = [2]\n"
      ]
     },
     "execution_count": 243,
     "metadata": {},
     "output_type": "execute_result"
    }
   ],
   "source": [
    "(*pri vračanju rezultata kličem že zgoraj definirano funkcijo 'pocisti', da se znebi odvečnih ničel v polinomu*)\n",
    "let rec ( +++ ) p1 p2 = match (p1, p2) with\n",
    "  | ([], _) -> p2\n",
    "  | (_, []) -> p1\n",
    "  | (x1 :: xs1, x2 :: xs2) -> pocisti (x1 + x2 ::  ( +++ )  xs1 xs2)\n",
    "\n",
    "let primer_3_2 = [1; -2; 3] +++ [1; 2]\n",
    "(* val primer_3_2 : int list = [2; 0; 3] *)\n",
    "\n",
    "let primer_3_3 = [1; -2; 3] +++ [1; 2; -3]\n",
    "(* val primer_3_3 : int list = [2] *)"
   ]
  },
  {
   "cell_type": "markdown",
   "metadata": {},
   "source": [
    "#### Množenje\n",
    "Napišite funkcijo `( *** ) : polinom -> polinom -> polinom`, ki zmnoži dva\n",
    " polinoma."
   ]
  },
  {
   "cell_type": "code",
   "execution_count": 244,
   "metadata": {
    "vscode": {
     "languageId": "ocaml"
    }
   },
   "outputs": [
    {
     "data": {
      "text/plain": [
       "val ( *** ) : int list -> int list -> int list = <fun>\n"
      ]
     },
     "execution_count": 244,
     "metadata": {},
     "output_type": "execute_result"
    },
    {
     "data": {
      "text/plain": [
       "val primer_3_4 : int list = [1; 3; 3; 1]\n"
      ]
     },
     "execution_count": 244,
     "metadata": {},
     "output_type": "execute_result"
    },
    {
     "data": {
      "text/plain": [
       "val primer_3_5 : int list = [1; 0; -1]\n"
      ]
     },
     "execution_count": 244,
     "metadata": {},
     "output_type": "execute_result"
    },
    {
     "data": {
      "text/plain": [
       "val test8 : int list = [0; 4; 8; 3]\n"
      ]
     },
     "execution_count": 244,
     "metadata": {},
     "output_type": "execute_result"
    },
    {
     "data": {
      "text/plain": [
       "val test9 : int list = []\n"
      ]
     },
     "execution_count": 244,
     "metadata": {},
     "output_type": "execute_result"
    },
    {
     "data": {
      "text/plain": [
       "val test10 : int list = []\n"
      ]
     },
     "execution_count": 244,
     "metadata": {},
     "output_type": "execute_result"
    },
    {
     "data": {
      "text/plain": [
       "val test11 : int list =\n",
       "  [16; 224; 790; 1789; 2759; 3871; 5254; 4479; 3859; 2697; 272]\n"
      ]
     },
     "execution_count": 244,
     "metadata": {},
     "output_type": "execute_result"
    }
   ],
   "source": [
    "(*funkcija bo pomnožila vsak člen iz prvega polinoma z drugim polinomom in nato dobljene produkte seštela*)\n",
    "\n",
    "let ( *** ) p1 p2 = \n",
    "  (*notranja funkcija zmnozi pomnoži vsak člen polinoma p s konstanto y*)\n",
    "  let rec zmnozi y p = match p with\n",
    "    | [] -> []\n",
    "    | x :: xs -> (y * x) :: (zmnozi y xs) in\n",
    "    match p1 with\n",
    "    (*če je vhodni polinom prazen seznam, funkcija vrne prazen seznam*)\n",
    "    | [] -> []\n",
    "  (*sicer pa vsak člen polinoma p2 pomnoži najprej s prvim členom polinoma p1, nato pa rekurzivno izračuna preostanek produktov ostalih členov p1 s polinomom p2*)\n",
    "  | x :: xs -> \n",
    "    let produkt = zmnozi x p2 in\n",
    "    let preostanek = ( *** ) xs p2 in\n",
    "    (*v zadnjem klicu seštejem koeficiente iz prvotnega produkta in ostale koeficiente iz preostanka*)\n",
    "    (*vsakemu produktu iz preostanka dodam 0 na začetek seznama -> to je potrebno, ker se ko množim z vsakim naslednjim koeficientom iz p1, stopnja poveča za eno potenco*)\n",
    "    pocisti(( +++ ) produkt (0 :: preostanek))\n",
    "    (*na koncu kličem še funkcijo pocisti, ki se znebi vseh odvečnih ničel*)\n",
    "\n",
    "\n",
    "let primer_3_4 = [1; 1] *** [1; 1] *** [1; 1]\n",
    "(* val primer_3_4 : int list = [1; 3; 3; 1] *)\n",
    "\n",
    "let primer_3_5 = [1; 1] *** [1; -1]\n",
    "(* val primer_3_5 : int list = [1; 0; -1] *)\n",
    "\n",
    "(*še par primerov*)\n",
    "let test8 = [0; 2; 3] *** [2; 1]\n",
    "(* val test8 : int list = [0; 4; 8; 3]*)\n",
    "let test9 = [0; 0; 0] *** [2; 6]\n",
    "(* val test9 : int list = []*)\n",
    "let test10 = [] *** [2; 8; 9; 6] *** [13; 2]\n",
    "(* val test10 : int list = []*)\n",
    "let test11 = [1; 10; 0; 6; 17] *** [2; 5; 9; 1] *** [8; 12; 9; 16]\n",
    "\n",
    "\n"
   ]
  },
  {
   "cell_type": "markdown",
   "metadata": {},
   "source": [
    "#### Izračun vrednosti v točki\n",
    "Napišite funkcijo `vrednost : polinom -> int -> int`, ki izračuna vrednost\n",
    " polinoma v danem argumentu."
   ]
  },
  {
   "cell_type": "code",
   "execution_count": 245,
   "metadata": {
    "vscode": {
     "languageId": "ocaml"
    }
   },
   "outputs": [
    {
     "data": {
      "text/plain": [
       "val vrednost : int list -> int -> int = <fun>\n"
      ]
     },
     "execution_count": 245,
     "metadata": {},
     "output_type": "execute_result"
    },
    {
     "data": {
      "text/plain": [
       "val primer_3_6 : int = 9\n"
      ]
     },
     "execution_count": 245,
     "metadata": {},
     "output_type": "execute_result"
    },
    {
     "data": {
      "text/plain": [
       "val test12 : int = 2\n"
      ]
     },
     "execution_count": 245,
     "metadata": {},
     "output_type": "execute_result"
    },
    {
     "data": {
      "text/plain": [
       "val test13 : int = 0\n"
      ]
     },
     "execution_count": 245,
     "metadata": {},
     "output_type": "execute_result"
    }
   ],
   "source": [
    "let rec vrednost polinom y = match (polinom, y) with\n",
    "  (*List.hd vrne prvi element seznama, v tem primeru konstanto*)\n",
    "  | (_, 0) -> List.hd polinom\n",
    "  (*če je polinom enak 0, bo tudi njegova vrednost v katerikoli točki enaka 0*)\n",
    "  | ([], _) -> 0\n",
    "  (*konstanta polinoma x se prišteje, ostali koeficienti polinoma pa se pomnožijo z y na primerno potenco*)\n",
    "  | (x :: xs, y) -> x + y * (vrednost xs y)\n",
    "\n",
    "let primer_3_6 = vrednost [1; -2; 3] 2\n",
    "(* val primer_3_6 : int = 9 *)\n",
    "\n",
    "(*še dva robna primera*)\n",
    "let test12 = vrednost [2; 3; 4] 0\n",
    "let test13 = vrednost [] 7"
   ]
  },
  {
   "cell_type": "markdown",
   "metadata": {},
   "source": [
    "#### Odvajanje\n",
    "Napišite funkcijo `odvod : polinom -> polinom`, ki izračuna odvod polinoma."
   ]
  },
  {
   "cell_type": "code",
   "execution_count": 246,
   "metadata": {
    "vscode": {
     "languageId": "ocaml"
    }
   },
   "outputs": [
    {
     "data": {
      "text/plain": [
       "val odvod : int list -> int list = <fun>\n"
      ]
     },
     "execution_count": 246,
     "metadata": {},
     "output_type": "execute_result"
    },
    {
     "data": {
      "text/plain": [
       "val primer_3_7 : int list = [-2; 6]\n"
      ]
     },
     "execution_count": 246,
     "metadata": {},
     "output_type": "execute_result"
    }
   ],
   "source": [
    "let odvod polinom = match polinom with\n",
    "  | [] -> []\n",
    "  | x :: xs -> \n",
    "    (*pomozna funkcija vsak koeficient pomnoži z ustrezno potenco, na katero nastopa x v polinomu*)\n",
    "    let rec pomozna p n = match p with\n",
    "      | [] -> []\n",
    "      | x :: xs -> (x * n) :: pomozna xs (n + 1)\n",
    "  in pomozna xs 1\n",
    "\n",
    "\n",
    "let primer_3_7 = odvod [1; -2; 3]\n",
    "(* val primer_3_7 : int list = [-2; 6] *)"
   ]
  },
  {
   "cell_type": "markdown",
   "metadata": {},
   "source": [
    "#### Lep izpis\n",
    "Napišite funkcijo `izpis : polinom -> string`, ki polinom lepo izpiše. Na\n",
    " primer, `izpis [1; -2; 3]` vrne `\"3 x^2 - 2 x + 1\"` oziroma še bolje kot `\"3 x²\n",
    " - 2 x + 1\"`. Pozorni bodite, da izpis začnete z vodilnim členom."
   ]
  },
  {
   "cell_type": "code",
   "execution_count": 247,
   "metadata": {
    "vscode": {
     "languageId": "ocaml"
    }
   },
   "outputs": [
    {
     "data": {
      "text/plain": [
       "val izpis : int list -> string = <fun>\n"
      ]
     },
     "execution_count": 247,
     "metadata": {},
     "output_type": "execute_result"
    },
    {
     "data": {
      "text/plain": [
       "val test14 : string = \"3 x^2 - 2 x + 1\"\n"
      ]
     },
     "execution_count": 247,
     "metadata": {},
     "output_type": "execute_result"
    },
    {
     "data": {
      "text/plain": [
       "val test15 : string =\n",
       "  \"11 x^9 - 10 x^8 + 9 x^7 + 8 x^6 + 7 x^5 - 6 x^4 + 5 x^3 - 4 x^2 + 3 x + 2\"\n"
      ]
     },
     "execution_count": 247,
     "metadata": {},
     "output_type": "execute_result"
    }
   ],
   "source": [
    "let izpis polinom = \n",
    "  (*pomožna funkcija vzame tri argumente: polinom (ki bo obrnjen), niz (ki bo prazen) in acc (ki bo najprej enak dolžini seznama - 1)*)\n",
    "  let rec pomozna p niz acc = match p with\n",
    "    (*če je seznam prazen naj vrne do takrat zgrajen niz*)\n",
    "    | [] -> str\n",
    "    (*za primer, ko je v seznamu le en element*)\n",
    "    | [x] -> \n",
    "      (*ker je to konstanta, x nastopa na potenco 0 in ga ne dodam*)\n",
    "      (*ločim primere, ko je koeficient pozitiven ali negativen*)\n",
    "      if x > 0 then niz ^ \" + \" ^ string_of_int x else \n",
    "        niz ^ \" - \" ^ string_of_int (abs x)\n",
    "    (*še za splošen primer*)\n",
    "    | x :: xs ->\n",
    "      (*definiram prva_potenca za konstanto*)\n",
    "      let prva_potenca = if acc == 1 then \"x\" else \"x^\" ^ string_of_int acc in\n",
    "      (*spet ločim primera, ko je x pozitiven ali negativen; pri vsakem pa še primera, ko je niz prazen ali pa ko je bilo vanj že kaj zapisano*)\n",
    "      let str = if x > 0 then\n",
    "        if niz = \"\" then string_of_int x ^ \" \" ^ prva_potenca else \n",
    "          niz ^ \" + \" ^ string_of_int x ^ \" \" ^ prva_potenca\n",
    "      else\n",
    "        if niz = \"\" then \" - \" ^ string_of_int (abs x) ^ \" \" ^ prva_potenca else \n",
    "          niz ^ \" - \" ^ string_of_int (abs x) ^ \" \" ^ prva_potenca in\n",
    "    (*v vsakem naslednjem klicu funkcije zmanjšam akumulator za ena, da se bodo potence v zapisu ustrezno nižale*)\n",
    "    pomozna xs str (acc - 1) in\n",
    "  (*kot argumente funkcije pomozna ustavim: (1) obrnjen vhodni polinom, (2) prazen string, (3) dolžino seznama, zmanjšano za 1*)\n",
    "  pomozna (List.rev (pocisti polinom)) \"\" (List.length (pocisti polinom) - 1) \n",
    "\n",
    "let test14 = izpis [1; -2; 3]\n",
    "(*val test14 : string = \"3 x^2 - 2 x + 1\"*)\n",
    "\n",
    "let test15 = izpis [2; 3; -4; 5; -6; 7; 8; 9; -10; 11]\n",
    "(*val test15 : string =\n",
    "  \"11 x^9 - 10 x^8 + 9 x^7 + 8 x^6 + 7 x^5 - 6 x^4 + 5 x^3 - 4 x^2 + 3 x + 2\"*)"
   ]
  },
  {
   "cell_type": "markdown",
   "metadata": {},
   "source": [
    "#### Samodejno odvajanje\n",
    " Ob razmahu strojnega učenja, ki optimalno rešitev išče s pomočjo gradientnega\n",
    " spusta, si želimo čim bolj enostavno računati odvode. Odvod funkcije $f$ v\n",
    " točki $x_0$ lahko seveda ocenimo tako, da v\n",
    "\n",
    " $$\\frac{f (x_0 + h) - f(x_0)}{h}$$\n",
    "\n",
    " vstavimo dovolj majhno število $h$."
   ]
  },
  {
   "cell_type": "code",
   "execution_count": 248,
   "metadata": {
    "vscode": {
     "languageId": "ocaml"
    }
   },
   "outputs": [
    {
     "data": {
      "text/plain": [
       "val priblizek_odvoda : (float -> float) -> float -> float -> float = <fun>\n"
      ]
     },
     "execution_count": 248,
     "metadata": {},
     "output_type": "execute_result"
    },
    {
     "data": {
      "text/plain": [
       "val primer_4_1 : float list =\n",
       "  [2.48914386298364931; 2.42384618742050861; 2.41778190719976749;\n",
       "   2.41717997997881184; 2.41711983210990411]\n"
      ]
     },
     "execution_count": 248,
     "metadata": {},
     "output_type": "execute_result"
    }
   ],
   "source": [
    "let priblizek_odvoda f x0 h =\n",
    "  (f (x0 +. h) -. f x0) /. h\n",
    "(* val priblizek_odvoda : (float -> float) -> float -> float -> float = <fun> *)\n",
    "\n",
    "let primer_4_1 =\n",
    "  let f x = sin x +. cos x +. exp x in\n",
    "  List.map (priblizek_odvoda f 1.) [0.1; 0.01; 0.001; 0.0001; 0.00001]\n",
    "(* val primer_4_1 : float list =\n",
    "  [2.48914386298364931; 2.42384618742050861; 2.41778190719976749;\n",
    "   2.41717997997881184; 2.41711983210990411] *)"
   ]
  },
  {
   "cell_type": "markdown",
   "metadata": {},
   "source": [
    "Pri samodejnem odvajanju izkoristimo to, da poznamo odvode elementarnih\n",
    " funkcij, odvode sestavljenih funkcij pa lahko izračunamo iz posameznih odvodov.\n",
    " Tako bomo vsako funkcijo predstavili s parom: prvotno funkcijo in njenim\n",
    " odvodom."
   ]
  },
  {
   "cell_type": "code",
   "execution_count": 250,
   "metadata": {
    "vscode": {
     "languageId": "ocaml"
    }
   },
   "outputs": [
    {
     "data": {
      "text/plain": [
       "type odvedljiva = (float -> float) * (float -> float)\n"
      ]
     },
     "execution_count": 250,
     "metadata": {},
     "output_type": "execute_result"
    },
    {
     "data": {
      "text/plain": [
       "val sinus : odvedljiva = (<fun>, <fun>)\n"
      ]
     },
     "execution_count": 250,
     "metadata": {},
     "output_type": "execute_result"
    },
    {
     "data": {
      "text/plain": [
       "val kosinus : odvedljiva = (<fun>, <fun>)\n"
      ]
     },
     "execution_count": 250,
     "metadata": {},
     "output_type": "execute_result"
    },
    {
     "data": {
      "text/plain": [
       "val eksp : odvedljiva = (<fun>, <fun>)\n"
      ]
     },
     "execution_count": 250,
     "metadata": {},
     "output_type": "execute_result"
    },
    {
     "data": {
      "text/plain": [
       "val ( ++. ) : odvedljiva -> odvedljiva -> odvedljiva = <fun>\n"
      ]
     },
     "execution_count": 250,
     "metadata": {},
     "output_type": "execute_result"
    },
    {
     "data": {
      "text/plain": [
       "val primer_4_2 : float = 2.41711314951928813\n"
      ]
     },
     "execution_count": 250,
     "metadata": {},
     "output_type": "execute_result"
    }
   ],
   "source": [
    "type odvedljiva = (float -> float) * (float -> float)\n",
    "\n",
    "let sinus : odvedljiva = (sin, cos)\n",
    "let kosinus : odvedljiva = (cos, (fun x -> -. sin x))\n",
    "let eksp : odvedljiva = (exp, exp)\n",
    "let ( ++. ) : odvedljiva -> odvedljiva -> odvedljiva =\n",
    "  (* pozorni bodite, da anonimni funkciji v paru date med oklepaje *)\n",
    "  fun (f, f') (g, g') -> ((fun x -> f x +. g x), (fun x -> f' x +. g' x))\n",
    "(* val sinus : odvedljiva = (<fun>, <fun>) *)\n",
    "(* val kosinus : odvedljiva = (<fun>, <fun>) *)\n",
    "(* val eksp : odvedljiva = (<fun>, <fun>) *)\n",
    "(* val ( ++. ) : odvedljiva -> odvedljiva -> odvedljiva = <fun> *)\n",
    "\n",
    "let primer_4_2 =\n",
    "  let (_, f') = sinus ++. kosinus ++. eksp in\n",
    "  f' 1.\n",
    "(* val primer_4_2 : float = 2.41711314951928813 *)"
   ]
  },
  {
   "cell_type": "markdown",
   "metadata": {},
   "source": [
    "#### Vrednost odvoda\n",
    "Napišite funkciji `vrednost : odvedljiva -> float -> float` in `odvod :\n",
    " odvedljiva -> float -> float`, ki izračunata vrednost funkcije in njenega\n",
    " odvoda v danem argumentu."
   ]
  },
  {
   "cell_type": "code",
   "execution_count": 251,
   "metadata": {
    "vscode": {
     "languageId": "ocaml"
    }
   },
   "outputs": [
    {
     "data": {
      "text/plain": [
       "val vrednost : odvedljiva -> float -> float = <fun>\n"
      ]
     },
     "execution_count": 251,
     "metadata": {},
     "output_type": "execute_result"
    },
    {
     "data": {
      "text/plain": [
       "val odvod : odvedljiva -> float -> float = <fun>\n"
      ]
     },
     "execution_count": 251,
     "metadata": {},
     "output_type": "execute_result"
    }
   ],
   "source": [
    "let vrednost : odvedljiva -> float -> float = fun (f, _) x -> f x\n",
    "\n",
    "let odvod : odvedljiva -> float -> float = fun (_, f') x -> f' x"
   ]
  },
  {
   "cell_type": "markdown",
   "metadata": {},
   "source": [
    "#### Osnovne funkcije\n",
    " Napišite funkciji `konstanta : float -> odvedljiva` in `identiteta :\n",
    " odvedljiva`, ki predstavljata konstantno in identično funkcijo."
   ]
  },
  {
   "cell_type": "code",
   "execution_count": 252,
   "metadata": {
    "vscode": {
     "languageId": "ocaml"
    }
   },
   "outputs": [
    {
     "data": {
      "text/plain": [
       "val konstanta : float -> odvedljiva = <fun>\n"
      ]
     },
     "execution_count": 252,
     "metadata": {},
     "output_type": "execute_result"
    },
    {
     "data": {
      "text/plain": [
       "val identiteta : odvedljiva = (<fun>, <fun>)\n"
      ]
     },
     "execution_count": 252,
     "metadata": {},
     "output_type": "execute_result"
    }
   ],
   "source": [
    "(*konstantna funkcija slika karkoli v konstanto c, njen odvod pa je enak 0*)\n",
    "let konstanta c : odvedljiva = \n",
    "  ((fun _ -> c), (fun _ -> 0.0))\n",
    "\n",
    "(*identiteta preslika element samega vase, njen odvod pa je enak 1*)\n",
    "let identiteta : odvedljiva =\n",
    "  ((fun x -> x), (fun _ -> 1.0)) "
   ]
  },
  {
   "cell_type": "markdown",
   "metadata": {},
   "source": [
    "#### Produkt in kvocient\n",
    "Napišite funkciji `( **. ) : odvedljiva -> odvedljiva -> odvedljiva` in `( //.\n",
    " ) : odvedljiva -> odvedljiva -> odvedljiva`, ki predstavljata produkt in\n",
    " kvocient dveh odvedljivih funkcij."
   ]
  },
  {
   "cell_type": "code",
   "execution_count": 253,
   "metadata": {
    "vscode": {
     "languageId": "ocaml"
    }
   },
   "outputs": [
    {
     "data": {
      "text/plain": [
       "val ( **. ) : odvedljiva -> odvedljiva -> odvedljiva = <fun>\n"
      ]
     },
     "execution_count": 253,
     "metadata": {},
     "output_type": "execute_result"
    },
    {
     "data": {
      "text/plain": [
       "val ( //. ) : odvedljiva -> odvedljiva -> odvedljiva = <fun>\n"
      ]
     },
     "execution_count": 253,
     "metadata": {},
     "output_type": "execute_result"
    },
    {
     "data": {
      "text/plain": [
       "val kvadrat : odvedljiva = (<fun>, <fun>)\n"
      ]
     },
     "execution_count": 253,
     "metadata": {},
     "output_type": "execute_result"
    }
   ],
   "source": [
    "let ( **. ) : odvedljiva -> odvedljiva -> odvedljiva = fun (f, f') (g, g') -> \n",
    "  ((fun x -> (f x) *. (g x)), (fun x -> (f' x) *. (g x) +. (f x) *. (g' x)))\n",
    "\n",
    "let ( //. ) : odvedljiva -> odvedljiva -> odvedljiva = fun (f, f') (g, g') -> \n",
    "  ((fun x -> (f x) /. (g x)), (fun x -> ((f' x) *. (g x) -. (f x) *. (g' x)) /. (g x) *. (g x)))\n",
    "\n",
    "let kvadrat = identiteta **. identiteta\n",
    "(* val kvadrat : odvedljiva = (<fun>, <fun>) *)"
   ]
  },
  {
   "cell_type": "markdown",
   "metadata": {},
   "source": [
    "#### Kompozitum\n",
    "Napišite funkcijo `( @@. ) : odvedljiva -> odvedljiva -> odvedljiva`, ki\n",
    " predstavlja kompozitum dveh odvedljivih funkcij."
   ]
  },
  {
   "cell_type": "code",
   "execution_count": 254,
   "metadata": {
    "vscode": {
     "languageId": "ocaml"
    }
   },
   "outputs": [
    {
     "data": {
      "text/plain": [
       "val ( @@. ) : odvedljiva -> odvedljiva -> odvedljiva = <fun>\n"
      ]
     },
     "execution_count": 254,
     "metadata": {},
     "output_type": "execute_result"
    },
    {
     "data": {
      "text/plain": [
       "val vedno_ena : odvedljiva = (<fun>, <fun>)\n"
      ]
     },
     "execution_count": 254,
     "metadata": {},
     "output_type": "execute_result"
    },
    {
     "data": {
      "text/plain": [
       "val primer_4_3 : float = 0.999999999999999889\n"
      ]
     },
     "execution_count": 254,
     "metadata": {},
     "output_type": "execute_result"
    },
    {
     "data": {
      "text/plain": [
       "val primer_4_4 : float = 0.\n"
      ]
     },
     "execution_count": 254,
     "metadata": {},
     "output_type": "execute_result"
    }
   ],
   "source": [
    "let ( @@. ) : odvedljiva -> odvedljiva -> odvedljiva = fun (f, f') (g, g') -> \n",
    "  ((fun x -> f (g x)), (fun x -> f' (g x) *. g' x))\n",
    "\n",
    "let vedno_ena = (kvadrat @@. sinus) ++. (kvadrat @@. kosinus) \n",
    "(* val vedno_ena : odvedljiva = (<fun>, <fun>) *)\n",
    "\n",
    "let primer_4_3 = vrednost vedno_ena 12345. \n",
    "(* val primer_4_3 : float = 0.999999999999999889 *)\n",
    "\n",
    "let primer_4_4 = odvod vedno_ena 12345. \n",
    "(* val primer_4_4 : float = 0. *)"
   ]
  },
  {
   "cell_type": "markdown",
   "metadata": {},
   "source": [
    "### 17. Substitucijska šifra\n",
    "Substitucijska šifra je preprosta šifra, pri kateri črke abecede med seboj\n",
    " permutiramo. Na primer, če bi (angleško) abecedo permutirali kot\n",
    "\n",
    " ```\n",
    " A B C D E F G H I J K L M N O P Q R S T U V W X Y Z\n",
    " T H E Q U I C K B R W N F X J M P S O V L A Z Y D G\n",
    " ```\n",
    "\n",
    " bi besedo `HELLO` šifrirali kot `KUNNJ`. Ključe, s katerimi šifriramo besedila\n",
    " bomo predstavili kar z nizi črk, v katere se slikajo črke abecede."
   ]
  },
  {
   "cell_type": "code",
   "execution_count": 255,
   "metadata": {
    "vscode": {
     "languageId": "ocaml"
    }
   },
   "outputs": [
    {
     "data": {
      "text/plain": [
       "val quick_brown_fox : string = \"THEQUICKBRWNFXJMPSOVLAZYDG\"\n"
      ]
     },
     "execution_count": 255,
     "metadata": {},
     "output_type": "execute_result"
    },
    {
     "data": {
      "text/plain": [
       "val rot13 : string = \"NOPQRSTUVWXYZABCDEFGHIJKLM\"\n"
      ]
     },
     "execution_count": 255,
     "metadata": {},
     "output_type": "execute_result"
    }
   ],
   "source": [
    "let quick_brown_fox = \"THEQUICKBRWNFXJMPSOVLAZYDG\"\n",
    "let rot13 = \"NOPQRSTUVWXYZABCDEFGHIJKLM\""
   ]
  },
  {
   "cell_type": "markdown",
   "metadata": {},
   "source": [
    "Včasih bomo v primerih uporabljali tudi krajše ključe, a vedno lahko\n",
    " predpostavite, da bodo ključi permutacije začetnega dela abecede. Prav tako si\n",
    " pri delu lahko pomagate s funkcijama `indeks` in `crka`:"
   ]
  },
  {
   "cell_type": "code",
   "execution_count": 4,
   "metadata": {
    "vscode": {
     "languageId": "ocaml"
    }
   },
   "outputs": [
    {
     "data": {
      "text/plain": [
       "val indeks : char -> int = <fun>\n"
      ]
     },
     "execution_count": 4,
     "metadata": {},
     "output_type": "execute_result"
    },
    {
     "data": {
      "text/plain": [
       "val crka : int -> char = <fun>\n"
      ]
     },
     "execution_count": 4,
     "metadata": {},
     "output_type": "execute_result"
    }
   ],
   "source": [
    "let indeks c = Char.code c - Char.code 'A'\n",
    "let crka i = Char.chr (i + Char.code 'A') "
   ]
  },
  {
   "cell_type": "code",
   "execution_count": 257,
   "metadata": {
    "vscode": {
     "languageId": "ocaml"
    }
   },
   "outputs": [
    {
     "data": {
      "text/plain": [
       "- : int = 1\n"
      ]
     },
     "execution_count": 257,
     "metadata": {},
     "output_type": "execute_result"
    }
   ],
   "source": [
    "Char.code 'B' - Char.code 'A'"
   ]
  },
  {
   "cell_type": "markdown",
   "metadata": {},
   "source": [
    "#### Šifriranje\n",
    " Napišite funkcijo `sifriraj : string -> string -> string`, ki besedilo šifrira\n",
    " z danim ključem. Vse znake, ki niso velike tiskane črke, pustimo pri miru."
   ]
  },
  {
   "cell_type": "code",
   "execution_count": 8,
   "metadata": {
    "vscode": {
     "languageId": "ocaml"
    }
   },
   "outputs": [
    {
     "data": {
      "text/plain": [
       "val sifriraj : string -> string -> string = <fun>\n"
      ]
     },
     "execution_count": 8,
     "metadata": {},
     "output_type": "execute_result"
    },
    {
     "ename": "error",
     "evalue": "compile_error",
     "output_type": "error",
     "traceback": [
      "File \"[8]\", line 17, characters 26-41:\n17 | let primer_5_1 = sifriraj quick_brown_fox \"HELLO, WORLD!\"\n                               ^^^^^^^^^^^^^^^\nError: Unbound value quick_brown_fox\n"
     ]
    }
   ],
   "source": [
    "let rec sifriraj kljuc besedilo = \n",
    "  (*najprej pretvorim niz v seznam znakov, ki jih vsebuje*)\n",
    "  match List.init (String.length besedilo) (String.get besedilo) with\n",
    "    | [] -> \"\"\n",
    "    | x :: xs -> match x with\n",
    "      (*String.concat je vgrajena funkcija s katero pretvorim char list 'xs' nazaj v string*)\n",
    "      | '?' -> \"?\" ^ (sifriraj kljuc (String.concat \"\" (List.map (String.make 1) xs)))\n",
    "      | '.' -> \".\" ^ (sifriraj kljuc (String.concat \"\" (List.map (String.make 1) xs)))\n",
    "      | '!' -> \"!\" ^ (sifriraj kljuc (String.concat \"\" (List.map (String.make 1) xs)))\n",
    "      | ',' -> \",\" ^ (sifriraj kljuc (String.concat \"\" (List.map (String.make 1) xs)))\n",
    "      | ' ' -> \" \" ^ (sifriraj kljuc (String.concat \"\" (List.map (String.make 1) xs)))\n",
    "      (*dobim indeks x-a v abecedi in nato povlečem znak na istem indeksu iz niza 'kljuc'*)\n",
    "      (*ker pa mi ta klic vrne rezultat tipa char, ga pretvorim nazaj v string z vgrajeno funkcijo String.make*)\n",
    "      | x -> String.make 1 (String.get kljuc (indeks x)) ^ (sifriraj kljuc (String.concat \"\" (List.map (String.make 1) xs)))\n",
    "\n",
    "      \n",
    "let primer_5_1 = sifriraj quick_brown_fox \"HELLO, WORLD!\"\n",
    "(* val primer_5_1 : string = \"KUNNJ, ZJSNQ!\" *)\n",
    "let primer_5_2 = \"VENI, VIDI, VICI\" |> sifriraj rot13\n",
    "(* val primer_5_2 : string = \"IRAV, IVQV, IVPV\" *)\n",
    "let primer_5_3 = \"VENI, VIDI, VICI\" |> sifriraj rot13 |> sifriraj rot13\n",
    "(* val primer_5_3 : string = \"VENI, VIDI, VICI\" *)\n"
   ]
  },
  {
   "cell_type": "markdown",
   "metadata": {},
   "source": [
    "#### Inverzni ključ\n",
    "Napišite funkcijo `inverz : string -> string`, ki iz ključa izračuna njegov\n",
    " inverz."
   ]
  },
  {
   "cell_type": "code",
   "execution_count": 265,
   "metadata": {
    "vscode": {
     "languageId": "ocaml"
    }
   },
   "outputs": [
    {
     "data": {
      "text/plain": [
       "val inverz : string -> string = <fun>\n"
      ]
     },
     "execution_count": 265,
     "metadata": {},
     "output_type": "execute_result"
    },
    {
     "data": {
      "text/plain": [
       "val primer_5_4 : string = \"VIGYCMZBFOHUPLSQDJRAETKNXW\"\n"
      ]
     },
     "execution_count": 265,
     "metadata": {},
     "output_type": "execute_result"
    },
    {
     "data": {
      "text/plain": [
       "val primer_5_5 : string = \"NOPQRSTUVWXYZABCDEFGHIJKLM\"\n"
      ]
     },
     "execution_count": 265,
     "metadata": {},
     "output_type": "execute_result"
    },
    {
     "data": {
      "text/plain": [
       "val primer_5_6 : string = \"EABCD\"\n"
      ]
     },
     "execution_count": 265,
     "metadata": {},
     "output_type": "execute_result"
    },
    {
     "data": {
      "text/plain": [
       "val primeer : string = \"CDHFEGAB\"\n"
      ]
     },
     "execution_count": 265,
     "metadata": {},
     "output_type": "execute_result"
    }
   ],
   "source": [
    "let inverz kljuc = \n",
    "  (*pod spremenljivko angl_abeceda napišem abecedo, saj bom potreboval črke v pravilnem vrstnem redu za določitev pravilnih indeksov*)\n",
    "  let angl_abeceda = \"ABCDEFGHIJKLMNOPQRSTUVWXYZ\" in\n",
    "  (*sprva bo vrednost indeksa 0, saj začnem pri črki A, nato pa se bo s prištevanjem 1, program sprehajal po preostalih črkah abecede*)\n",
    "  (*spremenljivka inverz_kljuca bo sprva prazen niz, ki se bo nato skozi klice rekurzije gradil v inverz vhodnega kljuca*)\n",
    "  let rec pomozna niz indeks inverz_kljuca =\n",
    "    (*ko s prištevanjem 1 presežemo število vseh črk v abecedi, se rekurzija ustavi in funkcija vrne do takrat zgrajen inverz kljuca*)\n",
    "    if indeks >= String.length angl_abeceda then inverz_kljuca \n",
    "    else\n",
    "      let crkaa = crka indeks in\n",
    "      (*z vgrajeno funkcijo String.index_opt dobim indeks črke v ključu*)\n",
    "      (*ker funkcija v primeru, da črka ni vsebovana v ključu vrne None, je potrebno dodati tudi ta robni pogoj*)\n",
    "      match String.index_opt niz crkaa with\n",
    "      (*če funkcija String.index_opt vrne število, ponovno kličem pomozno funkcijo na povečanem indeksu in dograjenem inverzu kljuca*)\n",
    "      | Some i -> pomozna niz (indeks + 1) (inverz_kljuca ^ (String.make 1 (crka i)))\n",
    "      (*če pa vrne None se pomaknem naprej, tako da povečam le indeks*)\n",
    "      | None -> pomozna niz (indeks + 1) inverz_kljuca\n",
    "    in\n",
    "    pomozna kljuc 0 \"\"\n",
    "\n",
    "let primer_5_4 = inverz quick_brown_fox\n",
    "(* val primer_5_4 : string = \"VIGYCMZBFOHUPLSQDJRAETKNXW\" *)\n",
    "\n",
    "let primer_5_5 = inverz rot13\n",
    "(* val primer_5_5 : string = \"NOPQRSTUVWXYZABCDEFGHIJKLM\" *)\n",
    "\n",
    "let primer_5_6 = inverz \"BCDEA\"\n",
    "(* val primer_5_6 : string = \"EABCD\" *)\n",
    "\n",
    "let primeer = inverz \"GHABEDFC\"\n"
   ]
  },
  {
   "cell_type": "markdown",
   "metadata": {},
   "source": [
    "### Ugibanje ključa\n",
    "Včasih seveda ne poznamo ključa, a vemo, da je besedilo v angleščini. Tako\n",
    " lahko ključ poskusimo uganiti tako, da šifrirane besede paroma primerjamo z\n",
    " besedami iz slovarja, ki smo si ga sposodili [s\n",
    " spleta](https://gist.github.com/deekayen/4148741).\n",
    "\n",
    " Sestavite vrednost `slovar : string list`, ki vsebuje vse besede iz slovarja,\n",
    " pretvorjene v velike tiskane črke."
   ]
  },
  {
   "cell_type": "code",
   "execution_count": 10,
   "metadata": {
    "vscode": {
     "languageId": "ocaml"
    }
   },
   "outputs": [
    {
     "data": {
      "text/plain": [
       "val besede : string =\n",
       "  \"the of to and a in is it you that he was for on are with as i his they be at one have this from or had by word but what some we can out other were all there when up use your how said an each she which do their time if will way about many then them write would like so these her long make thing see h\"... (* string length 5837; truncated *)\n"
      ]
     },
     "execution_count": 10,
     "metadata": {},
     "output_type": "execute_result"
    },
    {
     "data": {
      "text/plain": [
       "val slovar : string list =\n",
       "  [\"THE\"; \"OF\"; \"TO\"; \"AND\"; \"A\"; \"IN\"; \"IS\"; \"IT\"; \"YOU\"; \"THAT\"; \"HE\";\n",
       "   \"WAS\"; \"FOR\"; \"ON\"; \"ARE\"; \"WITH\"; \"AS\"; \"I\"; \"HIS\"; \"THEY\"; \"BE\"; \"AT\";\n",
       "   \"ONE\"; \"HAVE\"; \"THIS\"; \"FROM\"; \"OR\"; \"HAD\"; \"BY\"; \"WORD\"; \"BUT\"; \"WHAT\";\n",
       "   \"SOME\"; \"WE\"; \"CAN\"; \"OUT\"; \"OTHER\"; \"WERE\"; \"ALL\"; \"THERE\"; \"WHEN\"; \"UP\";\n",
       "   \"USE\"; \"YOUR\"; \"HOW\"; \"SAID\"; \"AN\"; \"EACH\"; \"SHE\"; \"WHICH\"; \"DO\"; \"THEIR\";\n",
       "   \"TIME\"; \"IF\"; \"WILL\"; \"WAY\"; \"ABOUT\"; \"MANY\"; \"THEN\"; \"THEM\"; \"WRITE\";\n",
       "   \"WOULD\"; \"LIKE\"; \"SO\"; \"THESE\"; \"HER\"; \"LONG\"; \"MAKE\"; \"THING\"; \"SEE\";\n",
       "   \"HIM\"; \"TWO\"; \"HAS\"; \"LOOK\"; \"MORE\"; \"DAY\"; \"COULD\"; \"GO\"; \"COME\"; \"DID\";\n",
       "   \"NUMBER\"; \"SOUND\"; \"NO\"; \"MOST\"; \"PEOPLE\"; \"MY\"; \"OVER\"; \"KNOW\"; \"WATER\";\n",
       "   \"THAN\"; \"CALL\"; \"FIRST\"; \"WHO\"; \"MAY\"; \"DOWN\"; \"SIDE\"; \"BEEN\"; \"NOW\";\n",
       "   \"FIND\"; \"ANY\"; \"NEW\"; \"WORK\"; \"PART\"; \"TAKE\"; \"GET\"; \"PLACE\"; \"MADE\";\n",
       "   \"LIVE\"; \"WHERE\"; \"AFTER\"; \"BACK\"; \"LITTLE\"; \"ONLY\"; \"ROUND\"; \"MAN\";\n",
       "   \"YEAR\"; \"CAME\"; \"SHOW\"; \"EVERY\"; \"GOOD\"; \"ME\"; \"GIVE\"; \"OUR\"; \"UNDER\";\n",
       "   \"NAME\"; \"VERY\"; \"THROUGH\"; \"JUST\"; \"FORM\"; \"SENTENCE\"; \"GREAT\"; \"THINK\";\n",
       "   \"SAY\"; \"HELP\"; \"LOW\"; \"LINE\"; \"DIFFER\"; \"TURN\"; \"CAUSE\"; \"MUCH\"; \"MEAN\";\n",
       "   \"BEFORE\"; \"MOVE\"; \"RIGHT\"; \"BOY\"; \"OLD\"; \"TOO\"; \"SAME\"; \"TELL\"; \"DOES\";\n",
       "   \"SET\"; \"THREE\"; \"WANT\"; \"AIR\"; \"WELL\"; \"ALSO\"; \"PLAY\"; \"SMALL\"; \"END\";\n",
       "   \"PUT\"; \"HOME\"; \"READ\"; \"HAND\"; \"PORT\"; \"LARGE\"; \"SPELL\"; \"ADD\"; \"EVEN\";\n",
       "   \"LAND\"; \"HERE\"; \"MUST\"; \"BIG\"; \"HIGH\"; \"SUCH\"; \"FOLLOW\"; \"ACT\"; \"WHY\";\n",
       "   \"ASK\"; \"MEN\"; \"CHANGE\"; \"WENT\"; \"LIGHT\"; \"KIND\"; \"OFF\"; \"NEED\"; \"HOUSE\";\n",
       "   \"PICTURE\"; \"TRY\"; \"US\"; \"AGAIN\"; \"ANIMAL\"; \"POINT\"; \"MOTHER\"; \"WORLD\";\n",
       "   \"NEAR\"; \"BUILD\"; \"SELF\"; \"EARTH\"; \"FATHER\"; \"HEAD\"; \"STAND\"; \"OWN\";\n",
       "   \"PAGE\"; \"SHOULD\"; \"COUNTRY\"; \"FOUND\"; \"ANSWER\"; \"SCHOOL\"; \"GROW\"; \"STUDY\";\n",
       "   \"STILL\"; \"LEARN\"; \"PLANT\"; \"COVER\"; \"FOOD\"; \"SUN\"; \"FOUR\"; \"BETWEEN\";\n",
       "   \"STATE\"; \"KEEP\"; \"EYE\"; \"NEVER\"; \"LAST\"; \"LET\"; \"THOUGHT\"; \"CITY\"; \"TREE\";\n",
       "   \"CROSS\"; \"FARM\"; \"HARD\"; \"START\"; \"MIGHT\"; \"STORY\"; \"SAW\"; \"FAR\"; \"SEA\";\n",
       "   \"DRAW\"; \"LEFT\"; \"LATE\"; \"RUN\"; \"DON'T\"; \"WHILE\"; \"PRESS\"; \"CLOSE\";\n",
       "   \"NIGHT\"; \"REAL\"; \"LIFE\"; \"FEW\"; \"NORTH\"; \"OPEN\"; \"SEEM\"; \"TOGETHER\";\n",
       "   \"NEXT\"; \"WHITE\"; \"CHILDREN\"; \"BEGIN\"; \"GOT\"; \"WALK\"; \"EXAMPLE\"; \"EASE\";\n",
       "   \"PAPER\"; \"GROUP\"; \"ALWAYS\"; \"MUSIC\"; \"THOSE\"; \"BOTH\"; \"MARK\"; \"OFTEN\";\n",
       "   \"LETTER\"; \"UNTIL\"; \"MILE\"; \"RIVER\"; \"CAR\"; \"FEET\"; \"CARE\"; \"SECOND\";\n",
       "   \"BOOK\"; \"CARRY\"; \"TOOK\"; \"SCIENCE\"; \"EAT\"; \"ROOM\"; \"FRIEND\"; \"BEGAN\";\n",
       "   \"IDEA\"; \"FISH\"; \"MOUNTAIN\"; \"STOP\"; \"ONCE\"; \"BASE\"; \"HEAR\"; \"HORSE\";\n",
       "   \"CUT\"; \"SURE\"; \"WATCH\"; \"COLOR\"; \"FACE\"; \"WOOD\"; \"MAIN\"; ...]\n"
      ]
     },
     "execution_count": 10,
     "metadata": {},
     "output_type": "execute_result"
    },
    {
     "ename": "error",
     "evalue": "compile_error",
     "output_type": "error",
     "traceback": [
      "File \"[10]\", line 5, characters 17-21:\n5 | let primer_5_7 = take 42 slovar\n                     ^^^^\nError: Unbound value take\n"
     ]
    }
   ],
   "source": [
    "let besede = \"the of to and a in is it you that he was for on are with as i his they be at one have this from or had by word but what some we can out other were all there when up use your how said an each she which do their time if will way about many then them write would like so these her long make thing see him two has look more day could go come did number sound no most people my over know water than call first who may down side been now find any new work part take get place made live where after back little only round man year came show every good me give our under name very through just form sentence great think say help low line differ turn cause much mean before move right boy old too same tell does set three want air well also play small end put home read hand port large spell add even land here must big high such follow act why ask men change went light kind off need house picture try us again animal point mother world near build self earth father head stand own page should country found answer school grow study still learn plant cover food sun four between state keep eye never last let thought city tree cross farm hard start might story saw far sea draw left late run don't while press close night real life few north open seem together next white children begin got walk example ease paper group always music those both mark often letter until mile river car feet care second book carry took science eat room friend began idea fish mountain stop once base hear horse cut sure watch color face wood main enough plain girl usual young ready above ever red list though feel talk bird soon body dog family direct pose leave song measure door product black short numeral class wind question happen complete ship area half rock order fire south problem piece told knew pass since top whole king space heard best hour better true . during hundred five remember step early hold west ground interest reach fast verb sing listen six table travel less morning ten simple several vowel toward war lay against pattern slow center love person money serve appear road map rain rule govern pull cold notice voice unit power town fine certain fly fall lead cry dark machine note wait plan figure star box noun field rest correct able pound done beauty drive stood contain front teach week final gave green oh quick develop ocean warm free minute strong special mind behind clear tail produce fact street inch multiply nothing course stay wheel full force blue object decide surface deep moon island foot system busy test record boat common gold possible plane stead dry wonder laugh thousand ago ran check game shape equate hot miss brought heat snow tire bring yes distant fill east paint language among grand ball yet wave drop heart am present heavy dance engine position arm wide sail material size vary settle speak weight general ice matter circle pair include divide syllable felt perhaps pick sudden count square reason length represent art subject region energy hunt probable bed brother egg ride cell believe fraction forest sit race window store summer train sleep prove lone leg exercise wall catch mount wish sky board joy winter sat written wild instrument kept glass grass cow job edge sign visit past soft fun bright gas weather month million bear finish happy hope flower clothe strange gone jump baby eight village meet root buy raise solve metal whether push seven paragraph third shall held hair describe cook floor either result burn hill safe cat century consider type law bit coast copy phrase silent tall sand soil roll temperature finger industry value fight lie beat excite natural view sense ear else quite broke case middle kill son lake moment scale loud spring observe child straight consonant nation dictionary milk speed method organ pay age section dress cloud surprise quiet stone tiny climb cool design poor lot experiment bottom key iron single stick flat twenty skin smile crease hole trade melody trip office receive row mouth exact symbol die least trouble shout except wrote seed tone join suggest clean break lady yard rise bad blow oil blood touch grew cent mix team wire cost lost brown wear garden equal sent choose fell fit flow fair bank collect save control decimal gentle woman captain practice separate difficult doctor please protect noon whose locate ring character insect caught period indicate radio spoke atom human history effect electric expect crop modern element hit student corner party supply bone rail imagine provide agree thus capital won't chair danger fruit rich thick soldier process operate guess necessary sharp wing create neighbor wash bat rather crowd corn compare poem string bell depend meat rub tube famous dollar stream fear sight thin triangle planet hurry chief colony clock mine tie enter major fresh search send yellow gun allow print dead spot desert suit current lift rose continue block chart hat sell success company subtract event particular deal swim term opposite wife shoe shoulder spread arrange camp invent cotton born determine quart nine truck noise level chance gather shop stretch throw shine property column molecule select wrong gray repeat require broad prepare salt nose plural anger claim continent oxygen sugar death pretty skill women season solution magnet silver thank branch match suffix especially fig afraid huge sister steel discuss forward similar guide experience score apple bought led pitch coat mass card band rope slip win dream evening condition feed tool total basic smell valley nor double seat arrive master track parent shore division sheet substance favor connect post spend chord fat glad original share station dad bread charge proper bar offer segment slave duck instant market degree populate chick dear enemy reply drink occur support speech nature range steam motion path liquid log meant quotient teeth shell neck\"\n",
    "\n",
    "let slovar = String.split_on_char ' ' besede |> List.map String.uppercase_ascii\n",
    "\n",
    "let primer_5_7 = take 42 slovar\n",
    "let primer_5_8 = List.nth slovar 321 \n",
    "(* val primer_5_8 : string = \"MEASURE\" *)"
   ]
  },
  {
   "cell_type": "markdown",
   "metadata": {},
   "source": [
    "### Razširjanje ključa s črko\n",
    "Med ugibanjem seveda ne bomo poznali celotnega ključa. V tem primeru bomo za\n",
    " neznane črke uporabili znak `_`. Na primer, če bi vedeli, da je črka `A` v\n",
    " besedilu šifrirana kot `X`, črka `C` pa kot `Y`, bi ključ zapisali kot\n",
    " `\"X_Y_______________________\"`.\n",
    "\n",
    " Napišite funkcijo `dodaj_zamenjavo : string -> char * char -> string option`,\n",
    " ki sprejme ključ ter ga poskusi razširiti z zamenjavo dane črke. Funkcija naj\n",
    " vrne `None`, če razširitev vodi v ključ, ki ni bijektiven (torej če ima črka že\n",
    " dodeljeno drugo zamenjavo ali če smo isto zamenjavo dodelili dvema različnima\n",
    " črkama)."
   ]
  },
  {
   "cell_type": "code",
   "execution_count": 5,
   "metadata": {
    "vscode": {
     "languageId": "ocaml"
    }
   },
   "outputs": [
    {
     "data": {
      "text/plain": [
       "val dodaj_zamenjavo : string -> char * char -> string option = <fun>\n"
      ]
     },
     "execution_count": 5,
     "metadata": {},
     "output_type": "execute_result"
    },
    {
     "data": {
      "text/plain": [
       "val primer_5_9 : string option = Some \"ABX_E\"\n"
      ]
     },
     "execution_count": 5,
     "metadata": {},
     "output_type": "execute_result"
    },
    {
     "data": {
      "text/plain": [
       "val primer_5_10 : string option = Some \"ABX_E\"\n"
      ]
     },
     "execution_count": 5,
     "metadata": {},
     "output_type": "execute_result"
    },
    {
     "data": {
      "text/plain": [
       "val primer_5_11 : string option = None\n"
      ]
     },
     "execution_count": 5,
     "metadata": {},
     "output_type": "execute_result"
    },
    {
     "data": {
      "text/plain": [
       "val primer1 : string option = Some \"ABCDEFGHIJ_______RSTXV\"\n"
      ]
     },
     "execution_count": 5,
     "metadata": {},
     "output_type": "execute_result"
    },
    {
     "data": {
      "text/plain": [
       "val primer2 : string option = None\n"
      ]
     },
     "execution_count": 5,
     "metadata": {},
     "output_type": "execute_result"
    }
   ],
   "source": [
    "let dodaj_zamenjavo kljuc (crka, zamenjava) = \n",
    "  (*shranim njen indeks v angleški abecedi*)\n",
    "  let indeks = indeks crka in\n",
    "  (*pogledal bom kaj se nahaja na tem istem indeksu v nepopolnem ključu in ločil tri primere*)\n",
    "  (*String.get vrne vrednost tipa character*)\n",
    "  match String.get kljuc indeks with\n",
    "    (*funkcija zamenja znak '_' v stringu s črko, pri tem si pomaga z modulom Bytes*)\n",
    "    | '_' -> if String.contains kljuc zamenjava then None else Some(let bytes = Bytes.of_string kljuc in Bytes.set bytes indeks zamenjava; Bytes.to_string bytes)\n",
    "    | existing_char when existing_char = zamenjava -> Some kljuc\n",
    "    | _ -> None\n",
    "\n",
    "let primer_5_9 = dodaj_zamenjavo \"AB__E\" ('C', 'X')\n",
    "(* val primer_5_9 : string option = Some \"ABX_E\" *)\n",
    "\n",
    "let primer_5_10 = dodaj_zamenjavo \"ABX_E\" ('C', 'X')\n",
    "(* val primer_5_10 : string option = Some \"ABX_E\" *)\n",
    "\n",
    "let primer_5_11 = dodaj_zamenjavo \"ABY_E\" ('C', 'E')\n",
    "(* val primer_5_11 : string option = None *)\n",
    "\n",
    "(*še dva robna primera*)\n",
    "let primer1 = dodaj_zamenjavo \"ABCDEFGHIJ_______RST_V\" ('U', 'X')\n",
    "let primer2 = dodaj_zamenjavo \"ABCDEFGHIJ__X____RST_V\" ('U', 'X')"
   ]
  },
  {
   "cell_type": "markdown",
   "metadata": {},
   "source": [
    "### Razširjanje ključa z besedo\n",
    "S pomočjo funkcije `dodaj_zamenjavo` sestavite še funkcijo `dodaj_zamenjave :\n",
    " string -> string * string -> string option`, ki ključ razširi z zamenjavami, ki\n",
    " prvo besedo preslikajo v drugo."
   ]
  },
  {
   "cell_type": "code",
   "execution_count": 6,
   "metadata": {
    "vscode": {
     "languageId": "ocaml"
    }
   },
   "outputs": [
    {
     "data": {
      "text/plain": [
       "val dodaj_zamenjave : string -> string * string -> string option = <fun>\n"
      ]
     },
     "execution_count": 6,
     "metadata": {},
     "output_type": "execute_result"
    },
    {
     "data": {
      "text/plain": [
       "val primer_5_12 : string option = Some \"____U__K___N__J___________\"\n"
      ]
     },
     "execution_count": 6,
     "metadata": {},
     "output_type": "execute_result"
    },
    {
     "data": {
      "text/plain": [
       "val primer_5_13 : string option = Some \"ABCDU__K___N__J___________\"\n"
      ]
     },
     "execution_count": 6,
     "metadata": {},
     "output_type": "execute_result"
    },
    {
     "data": {
      "text/plain": [
       "val primer_5_14 : string option = None\n"
      ]
     },
     "execution_count": 6,
     "metadata": {},
     "output_type": "execute_result"
    }
   ],
   "source": [
    "let rec dodaj_zamenjave kljuc (niz1, niz2) = match (niz1, niz2) with\n",
    "  (*robni primer: če je prvi niz prazen, potem funkcija vrne kar prvotni kljuc*)\n",
    "  | (\"\", _) -> Some kljuc\n",
    "  | (niz1, niz2) -> \n",
    "    (*sicer pa naredim še en match, kjer primerjam rezultat klica funkcije dodaj_zamenjavo na prvih črkah obeh nizov*)\n",
    "    let crka1 = String.get niz1 0 in\n",
    "    let crka2 = String.get niz2 0 in\n",
    "    match dodaj_zamenjavo kljuc (crka1, crka2) with\n",
    "    (*če funkcija vrne nekaj, potem rekurzivno kličem dodaj_zamenjave na novem ključu in posodobljenih podnizih, ki ne vsebujeta prve črke*)\n",
    "    | Some nov_kljuc -> dodaj_zamenjave nov_kljuc (String.sub niz1 1 (String.length niz1 - 1), String.sub niz2 1 (String.length niz2 - 1))\n",
    "    (*če pa je funkcija vrnila None, naj tudi ta vrne None*)\n",
    "    | None -> None\n",
    "  \n",
    "let primer_5_12 = dodaj_zamenjave \"__________________________\" (\"HELLO\", \"KUNNJ\")\n",
    "(* val primer_5_12 : string option = Some \"____U__K___N__J___________\" *)\n",
    "\n",
    "let primer_5_13 = dodaj_zamenjave \"ABCDU_____________________\" (\"HELLO\", \"KUNNJ\")\n",
    "(* val primer_5_13 : string option = Some \"ABCDU__K___N__J___________\" *)\n",
    "\n",
    "let primer_5_14 = dodaj_zamenjave \"ABCDE_____________________\" (\"HELLO\", \"KUNNJ\")\n",
    "(* val primer_5_14 : string option = None *)"
   ]
  },
  {
   "cell_type": "markdown",
   "metadata": {},
   "source": [
    "### Vse možne razširitve\n",
    "Sestavite funkcijo `mozne_razsiritve : string -> string -> string list ->\n",
    " string list`, ki vzame ključ, šifrirano besedo ter slovar vseh možnih besed,\n",
    " vrne pa seznam vseh možnih razširitev ključa, ki šifrirano besedo slikajo v eno\n",
    " od besed v slovarju."
   ]
  },
  {
   "cell_type": "code",
   "execution_count": 11,
   "metadata": {
    "vscode": {
     "languageId": "ocaml"
    }
   },
   "outputs": [
    {
     "data": {
      "text/plain": [
       "val ocisti_prazne_nize : string list -> string list = <fun>\n"
      ]
     },
     "execution_count": 11,
     "metadata": {},
     "output_type": "execute_result"
    },
    {
     "data": {
      "text/plain": [
       "val mozne_razsiritve : string -> string -> string list -> string list = <fun>\n"
      ]
     },
     "execution_count": 11,
     "metadata": {},
     "output_type": "execute_result"
    },
    {
     "data": {
      "text/plain": [
       "val primer_5_15 : (string * string) list =\n",
       "  [(\"_________YC__R______A_____\", \"CARRY\");\n",
       "   (\"_________DS__O______T_____\", \"STOOD\");\n",
       "   (\"_________NG__E______R_____\", \"GREEN\");\n",
       "   (\"_________LW__E______H_____\", \"WHEEL\");\n",
       "   (\"_________PS__E______L_____\", \"SLEEP\");\n",
       "   (\"_________YH__P______A_____\", \"HAPPY\");\n",
       "   (\"_________RF__O______L_____\", \"FLOOR\");\n",
       "   (\"_________DS__E______P_____\", \"SPEED\");\n",
       "   (\"_________DB__O______L_____\", \"BLOOD\");\n",
       "   (\"_________YH__R______U_____\", \"HURRY\");\n",
       "   (\"_________LS__E______T_____\", \"STEEL\");\n",
       "   (\"_________TS__E______H_____\", \"SHEET\")]\n"
      ]
     },
     "execution_count": 11,
     "metadata": {},
     "output_type": "execute_result"
    }
   ],
   "source": [
    "(*definiram pomožno funkcijo, ki iz seznama odstrani prazne nize*)\n",
    "let rec ocisti_prazne_nize seznam = match seznam with\n",
    "  | [] -> []\n",
    "  | \"\" :: xs -> ocisti_prazne_nize xs\n",
    "  | x :: xs -> x :: ocisti_prazne_nize xs\n",
    "  \n",
    "let rec mozne_razsiritve kljuc sifriranka slovar = match slovar with\n",
    "  (*robni primer*)\n",
    "  | [] -> []\n",
    "  | x :: xs -> \n",
    "    (*funkcija bo priredila nov ključ, le če sta niza enakih dolžin*)\n",
    "    if String.length x = String.length sifriranka then\n",
    "      (*ker je rezultat funkcije dodaj_zamenjave tipa string option, je potrebno tudi tu uporabiti match*)\n",
    "      match dodaj_zamenjave kljuc (sifriranka, x) with\n",
    "      (*rekurzivno kličem funkcijo mozne_razsiritve na preostalem seznamu xs*)\n",
    "      | Some nov_kljuc -> nov_kljuc :: mozne_razsiritve kljuc sifriranka xs\n",
    "      (*če pa je rezultat None, ta niz funkcija preskoči in gre dalje po seznamu*)\n",
    "      | None -> mozne_razsiritve kljuc sifriranka xs\n",
    "    else\n",
    "      mozne_razsiritve kljuc sifriranka xs\n",
    "\n",
    "\n",
    "let primer_5_15 =\n",
    "  slovar\n",
    "  |> mozne_razsiritve (String.make 26 '_') \"KUNNJ\"\n",
    "  |> List.map (fun kljuc -> (kljuc, sifriraj kljuc \"KUNNJ\"))\n",
    "\n",
    "(* val primer_5_15 : (string * string) list =\n",
    "  [(\"_________YC__R______A_____\", \"CARRY\");\n",
    "   (\"_________DS__O______T_____\", \"STOOD\");\n",
    "   (\"_________NG__E______R_____\", \"GREEN\");\n",
    "   (\"_________LW__E______H_____\", \"WHEEL\");\n",
    "   (\"_________PS__E______L_____\", \"SLEEP\");\n",
    "   (\"_________YH__P______A_____\", \"HAPPY\");\n",
    "   (\"_________RF__O______L_____\", \"FLOOR\");\n",
    "   (\"_________DS__E______P_____\", \"SPEED\");\n",
    "   (\"_________DB__O______L_____\", \"BLOOD\");\n",
    "   (\"_________YH__R______U_____\", \"HURRY\");\n",
    "   (\"_________LS__E______T_____\", \"STEEL\");\n",
    "   (\"_________TS__E______H_____\", \"SHEET\")] *)"
   ]
  },
  {
   "cell_type": "markdown",
   "metadata": {},
   "source": [
    "### Odšifriranje\n",
    "Napišite funkcijo `odsifriraj : string -> string option`, ki sprejme šifrirano\n",
    " besedilo in s pomočjo slovarja besed ugane odšifrirano besedilo. Funkcija naj\n",
    " vrne `None`, če ni mogoče najti nobenega ustreznega ključa."
   ]
  },
  {
   "cell_type": "code",
   "execution_count": 273,
   "metadata": {
    "vscode": {
     "languageId": "ocaml"
    }
   },
   "outputs": [
    {
     "data": {
      "text/plain": [
       "val odsifriraj : 'a -> unit = <fun>\n"
      ]
     },
     "execution_count": 273,
     "metadata": {},
     "output_type": "execute_result"
    },
    {
     "data": {
      "text/plain": [
       "val primer_5_16 : string = \"VKBO BO T AUSD KTSQ MSJHNUF\"\n"
      ]
     },
     "execution_count": 273,
     "metadata": {},
     "output_type": "execute_result"
    },
    {
     "data": {
      "text/plain": [
       "val primer_5_17 : unit = ()\n"
      ]
     },
     "execution_count": 273,
     "metadata": {},
     "output_type": "execute_result"
    }
   ],
   "source": [
    "let odsifriraj zasifrirana_beseda = ()\n",
    "\n",
    "let primer_5_16 = sifriraj quick_brown_fox \"THIS IS A VERY HARD PROBLEM\"\n",
    "(* val primer_5_16 : string = \"VKBO BO T AUSD KTSQ MSJHNUF\" *)\n",
    "\n",
    "let primer_5_17 = odsifriraj \"VKBO BO T AUSD KTSQ MSJHNUF\"\n",
    "(* val primer_5_17 : string option = Some \"THIS IS A VERY HARD PROBLEM\" *)"
   ]
  }
 ],
 "metadata": {
  "kernelspec": {
   "display_name": "OCaml 4.14",
   "language": "OCaml",
   "name": "ocaml-jupyter"
  },
  "language_info": {
   "codemirror_mode": "text/x-ocaml",
   "file_extension": ".ml",
   "mimetype": "text/x-ocaml",
   "name": "OCaml",
   "nbconverter_exporter": null,
   "pygments_lexer": "OCaml",
   "version": "4.14.2"
  }
 },
 "nbformat": 4,
 "nbformat_minor": 2
}
