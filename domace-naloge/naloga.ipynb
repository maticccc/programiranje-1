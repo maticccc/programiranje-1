{
 "cells": [
  {
   "cell_type": "markdown",
   "metadata": {},
   "source": [
    "# 1. DOMAČA NALOGA"
   ]
  },
  {
   "cell_type": "markdown",
   "metadata": {},
   "source": [
    "### 1. Števke\n",
    "Napišite funkcijo `stevke : int -> int -> int list`, ki sprejme pozitivni celi\n",
    " števili $b$ in $n$ ter vrne seznam števk števila $n$ v bazi $b$. Pri tem tudi\n",
    " za baze, ki so večje od $10$, uporabimo števke od $0$ do $b - 1$."
   ]
  },
  {
   "cell_type": "code",
   "execution_count": null,
   "metadata": {
    "vscode": {
     "languageId": "ocaml"
    }
   },
   "outputs": [
    {
     "data": {
      "text/plain": [
       "val stevke : int -> int -> int list = <fun>\n"
      ]
     },
     "execution_count": 9,
     "metadata": {},
     "output_type": "execute_result"
    },
    {
     "data": {
      "text/plain": [
       "val primer_1_1 : int list = [1; 2; 3; 4; 5]\n"
      ]
     },
     "execution_count": 9,
     "metadata": {},
     "output_type": "execute_result"
    },
    {
     "data": {
      "text/plain": [
       "val primer_1_2 : int list = [1; 0; 1; 0; 1; 0]\n"
      ]
     },
     "execution_count": 9,
     "metadata": {},
     "output_type": "execute_result"
    },
    {
     "data": {
      "text/plain": [
       "val primer_1_3 : int list = [3; 14; 15; 9]\n"
      ]
     },
     "execution_count": 9,
     "metadata": {},
     "output_type": "execute_result"
    }
   ],
   "source": [
    "let rec stevke b n = match n with\n",
    "  | 0 -> []\n",
    "  | n -> stevke b (n / b) @ [n mod b]\n",
    "\n",
    "let primer_1_1 = stevke 10 12345\n",
    "(* val primer_1_1 : int list = [1; 2; 3; 4; 5] *)\n",
    "\n",
    "let primer_1_2 = stevke 2 42\n",
    "(* val primer_1_2 : int list = [1; 0; 1; 0; 1; 0] *)\n",
    "\n",
    "let primer_1_3 = stevke 16 (3 * 16 * 16 * 16 + 14 * 16 * 16 + 15 * 16 + 9)\n",
    "(* val primer_1_3 : int list = [3; 14; 15; 9] *)"
   ]
  },
  {
   "cell_type": "markdown",
   "metadata": {},
   "source": [
    "### 2. Začetek seznama\n",
    "Napišite funkcijo `take : int -> 'a list -> 'a list`, ki sprejme naravno\n",
    " število in vrne ustrezno število elementov z začetka danega seznama. Če je\n",
    " podani seznam krajši od zahtevane dolžine, naj funkcija vrne kar celoten\n",
    " seznam."
   ]
  },
  {
   "cell_type": "code",
   "execution_count": 10,
   "metadata": {
    "vscode": {
     "languageId": "ocaml"
    }
   },
   "outputs": [
    {
     "data": {
      "text/plain": [
       "val take : int -> 'a list -> 'a list = <fun>\n"
      ]
     },
     "execution_count": 10,
     "metadata": {},
     "output_type": "execute_result"
    },
    {
     "data": {
      "text/plain": [
       "val primer_1_4 : int list = [1; 2; 3]\n"
      ]
     },
     "execution_count": 10,
     "metadata": {},
     "output_type": "execute_result"
    },
    {
     "data": {
      "text/plain": [
       "val primer_1_5 : int list = [1; 2; 3; 4; 5]\n"
      ]
     },
     "execution_count": 10,
     "metadata": {},
     "output_type": "execute_result"
    }
   ],
   "source": [
    "let rec take n seznam = match (n, seznam) with\n",
    "  | (0, _) -> []\n",
    "  | (_, []) -> []\n",
    "  | (n, x :: xs) -> x :: take (n - 1) xs\n",
    "\n",
    "let primer_1_4 = take 3 [1; 2; 3; 4; 5]\n",
    "(* val primer_1_4 : int list = [1; 2; 3] *)\n",
    "\n",
    "let primer_1_5 = take 10 [1; 2; 3; 4; 5]\n",
    "(* val primer_1_5 : int list = [1; 2; 3; 4; 5] *)\n"
   ]
  },
  {
   "cell_type": "markdown",
   "metadata": {},
   "source": [
    "### 3. Odstranjevanje ujemajočih\n",
    " Napišite funkcijo `drop_while : ('a -> bool) -> 'a list -> 'a list`, ki z\n",
    " začetka seznama odstrani vse elemente, ki zadoščajo danemu predikatu. Ko najde\n",
    " element, ki predikatu ne zadošča, vrne preostanek seznama."
   ]
  },
  {
   "cell_type": "code",
   "execution_count": 11,
   "metadata": {
    "vscode": {
     "languageId": "ocaml"
    }
   },
   "outputs": [
    {
     "data": {
      "text/plain": [
       "val drop_while : ('a -> bool) -> 'a list -> 'a list = <fun>\n"
      ]
     },
     "execution_count": 11,
     "metadata": {},
     "output_type": "execute_result"
    },
    {
     "data": {
      "text/plain": [
       "val primer_1_6 : int list = [5; 9; 2; 6; 5; 3; 5]\n"
      ]
     },
     "execution_count": 11,
     "metadata": {},
     "output_type": "execute_result"
    },
    {
     "data": {
      "text/plain": [
       "val primer_1_7 : int list = [9; 8; 7; 6; 5; 4; 3; 2; 1; 0]\n"
      ]
     },
     "execution_count": 11,
     "metadata": {},
     "output_type": "execute_result"
    }
   ],
   "source": [
    "let rec drop_while predikat seznam = match seznam with\n",
    "  | [] -> []\n",
    "  | x :: xs -> if predikat x then drop_while predikat xs else x :: xs\n",
    "\n",
    "let primer_1_6 = drop_while (fun x -> x < 5) [3; 1; 4; 1; 5; 9; 2; 6; 5; 3; 5]\n",
    "(* val primer_1_6 : int list = [5; 9; 2; 6; 5; 3; 5] *)\n",
    "\n",
    "let primer_1_7 = drop_while (fun x -> x < 5) [9; 8; 7; 6; 5; 4; 3; 2; 1; 0]\n",
    "(* val primer_1_7 : int list = [9; 8; 7; 6; 5; 4; 3; 2; 1; 0] *)\n"
   ]
  },
  {
   "cell_type": "markdown",
   "metadata": {},
   "source": [
    "### 4. Funkcija 'filter_mapi'\n",
    "Napišite funkcijo `filter_mapi : (int -> 'a -> 'b option) -> 'a list -> 'b\n",
    " list`, ki deluje tako kot `List.filter_map`, le da funkcija poleg elementov dobi\n",
    " še njihove indekse."
   ]
  },
  {
   "cell_type": "code",
   "execution_count": 12,
   "metadata": {
    "vscode": {
     "languageId": "ocaml"
    }
   },
   "outputs": [
    {
     "data": {
      "text/plain": [
       "val filter_mapi : (int -> 'a -> 'b option) -> 'a list -> 'b list = <fun>\n"
      ]
     },
     "execution_count": 12,
     "metadata": {},
     "output_type": "execute_result"
    },
    {
     "data": {
      "text/plain": [
       "val primer_1_8 : int list = [1; 9; 25; 49; 81]\n"
      ]
     },
     "execution_count": 12,
     "metadata": {},
     "output_type": "execute_result"
    }
   ],
   "source": [
    "let filter_mapi predikat seznam = \n",
    "  let rec aux i = function\n",
    "    | [] -> []\n",
    "    | x :: xs -> match predikat i x with\n",
    "      | Some(y) -> y :: aux (i + 1) xs\n",
    "      | None -> aux (i + 1) xs\n",
    "in aux 0 seznam\n",
    "\n",
    "let primer_1_8 =\n",
    "  filter_mapi\n",
    "    (fun i x -> if i mod 2 = 0 then Some (x * x) else None)\n",
    "    [1; 2; 3; 4; 5; 6; 7; 8; 9]\n",
    "(* val primer_1_8 : int list = [1; 9; 25; 49; 81] *)"
   ]
  },
  {
   "cell_type": "markdown",
   "metadata": {},
   "source": [
    "### 5. Izomorfizmi množic\n",
    "Na predavanjih smo videli, da funkciji `curry : ('a * 'b -> 'c) -> ('a -> ('b\n",
    " -> 'c))` in `uncurry : ('a -> ('b -> 'c)) -> ('a * 'b -> 'c)` predstavljata\n",
    " izomorfizem množic $C^{A \\times B} \\cong (C^B)^A$, če kartezični produkt\n",
    " predstavimo s produktnim, eksponent pa s funkcijskim tipom.\n",
    "\n",
    " Podobno velja tudi za ostale znane izomorfizme, če disjunktno unijo\n",
    "   $$A + B = \\{ \\mathrm{in}_1(a) \\mid a \\in A \\} \\cup \\{ \\mathrm{in}_2(b) \\mid b\n",
    " \\in B \\}$$\n",
    " predstavimo s tipom `('a, 'b) sum`, definiranim z:"
   ]
  },
  {
   "cell_type": "code",
   "execution_count": null,
   "metadata": {
    "vscode": {
     "languageId": "ocaml"
    }
   },
   "outputs": [],
   "source": [
    "type ('a, 'b) sum = In1 of 'a | In2 of 'b\n",
    "(*POMEMBNO: ČE ŽELIŠ VEDETI ALI FUNKCIJA DELUJE PRAVILNO, JI VNAPREJ DEFINIRAJ TIP!!!!*)"
   ]
  },
  {
   "cell_type": "markdown",
   "metadata": {},
   "source": [
    "Napišite pare funkcij `phi1` & `psi1`, …, `phi7` & `psi7`, ki predstavljajo\n",
    " spodnje izomorfizme množic. Tega, da so si funkcije inverzne, ni treba\n",
    " dokazovati."
   ]
  },
  {
   "cell_type": "markdown",
   "metadata": {},
   "source": [
    "1. ### $A \\times B \\cong B \\times A$"
   ]
  },
  {
   "cell_type": "code",
   "execution_count": 13,
   "metadata": {
    "vscode": {
     "languageId": "ocaml"
    }
   },
   "outputs": [
    {
     "data": {
      "text/plain": [
       "val psi1 : 'a -> unit = <fun>\n"
      ]
     },
     "execution_count": 13,
     "metadata": {},
     "output_type": "execute_result"
    }
   ],
   "source": [
    "(*let phi1 : ('a, 'b) sum -> ('b, 'a) sum = *)\n",
    "let psi1 _ = ()"
   ]
  }
 ],
 "metadata": {
  "kernelspec": {
   "display_name": "OCaml 4.14",
   "language": "OCaml",
   "name": "ocaml-jupyter"
  },
  "language_info": {
   "codemirror_mode": "text/x-ocaml",
   "file_extension": ".ml",
   "mimetype": "text/x-ocaml",
   "name": "OCaml",
   "nbconverter_exporter": null,
   "pygments_lexer": "OCaml",
   "version": "4.14.2"
  }
 },
 "nbformat": 4,
 "nbformat_minor": 2
}
