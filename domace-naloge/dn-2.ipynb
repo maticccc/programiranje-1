{
 "cells": [
  {
   "cell_type": "markdown",
   "metadata": {},
   "source": [
    "### Registri\n",
    "Nekateri ukazi za argument sprejmejo register, ki ga spreminjajo, na primer:\n",
    " `INC A` ali `POP B`.\n",
    "\n",
    " Definirajte naštevni tip `register`, ki bo predstavljal štiri možne registre\n",
    " procesorja **A**, **B**, **C** in **D**."
   ]
  },
  {
   "cell_type": "markdown",
   "metadata": {},
   "source": [
    " Napišite funkcijo `next : address -> address`, ki vrne naslednji naslov (torej\n",
    " povečan za 1, saj v našem primeru vsi ukazi zasedejo enako prostora)."
   ]
  },
  {
   "cell_type": "code",
   "execution_count": 88,
   "metadata": {
    "vscode": {
     "languageId": "ocaml"
    }
   },
   "outputs": [
    {
     "data": {
      "text/plain": [
       "type register = A | B | C | D\n"
      ]
     },
     "execution_count": 88,
     "metadata": {},
     "output_type": "execute_result"
    },
    {
     "data": {
      "text/plain": [
       "val primer_tipi_1 : register list list = [[A; B; B; A]; [A; C; D; C]]\n"
      ]
     },
     "execution_count": 88,
     "metadata": {},
     "output_type": "execute_result"
    }
   ],
   "source": [
    "type register = A |B |C |D\n",
    "\n",
    "let primer_tipi_1 = [[A; B; B; A]; [A; C; D; C]] \n",
    "(* val primer_tipi_1 : register list list = [[A; B; B; A]; [A; C; D; C]] *)\n"
   ]
  },
  {
   "cell_type": "markdown",
   "metadata": {},
   "source": [
    "### Izrazi\n",
    "Nekateri ukazi poleg registra sprejmejo še dodaten argument, ki je lahko bodisi\n",
    " register, bodisi celoštevilska konstanta, na primer `MOV A, B` ali `MOV A, 42`.\n",
    " Definirajte naštevni tip `expression`, ki predstavlja izraze, ki so lahko\n",
    " registri ali števila."
   ]
  },
  {
   "cell_type": "code",
   "execution_count": 89,
   "metadata": {
    "vscode": {
     "languageId": "ocaml"
    }
   },
   "outputs": [
    {
     "data": {
      "text/plain": [
       "type expression = Register of register | Const of int\n"
      ]
     },
     "execution_count": 89,
     "metadata": {},
     "output_type": "execute_result"
    },
    {
     "data": {
      "text/plain": [
       "val primer_tipi_2 : expression list = [Register B; Const 42]\n"
      ]
     },
     "execution_count": 89,
     "metadata": {},
     "output_type": "execute_result"
    }
   ],
   "source": [
    "type expression = \n",
    "  | Register of register \n",
    "  | Const of int\n",
    "\n",
    "let primer_tipi_2 = [Register B; Const 42] \n",
    "(* val primer_tipi_2 : expression list = [Register B; Const 42] *)"
   ]
  },
  {
   "cell_type": "markdown",
   "metadata": {},
   "source": [
    "### Naslovi\n",
    " Ukazi za skoke za argument sprejmejo naslov ukaza v pomnilniku. Naslove bomo\n",
    " predstavili s celimi števili, da pa jih ne bi ponesreči zamešali s\n",
    " celoštevilskimi konstantami, definirajte še tip `address`, ki naj bo naštevni\n",
    " tip z eno samo varianto `Address` s celoštevilskim argumentom."
   ]
  },
  {
   "cell_type": "code",
   "execution_count": 90,
   "metadata": {
    "vscode": {
     "languageId": "ocaml"
    }
   },
   "outputs": [
    {
     "data": {
      "text/plain": [
       "type address = Address of int\n"
      ]
     },
     "execution_count": 90,
     "metadata": {},
     "output_type": "execute_result"
    },
    {
     "data": {
      "text/plain": [
       "val primer_tipi_3 : int * address = (42, Address 42)\n"
      ]
     },
     "execution_count": 90,
     "metadata": {},
     "output_type": "execute_result"
    }
   ],
   "source": [
    "type address = Address of int\n",
    "\n",
    "let primer_tipi_3 = (42, Address 42) \n",
    "(* val primer_tipi_3 : int * address = (42, Address 42) *)"
   ]
  },
  {
   "cell_type": "markdown",
   "metadata": {},
   "source": [
    "### Ukazi\n",
    "Naš simulator bo podpiral naslednje ukaze, pri čemer je _R_ vedno poljuben\n",
    "register, _A_ naslov v ukaznem pomnilniku, _E_ pa izraz, torej bodisi register\n",
    "bodisi celoštevilska konstanta.\n",
    "Dopolnite naslednjo definicijo tipa `instruction`, da bo imel eno varianto za\n",
    "vsakega od zgoraj navedenih ukazov:"
   ]
  },
  {
   "cell_type": "code",
   "execution_count": 91,
   "metadata": {
    "vscode": {
     "languageId": "ocaml"
    }
   },
   "outputs": [
    {
     "data": {
      "text/plain": [
       "type instruction =\n",
       "    MOV of register * expression\n",
       "  | ADD of register * expression\n",
       "  | SUB of register * expression\n",
       "  | INC of register\n",
       "  | DEC of register\n",
       "  | MUL of expression\n",
       "  | DIV of expression\n",
       "  | AND of register * expression\n",
       "  | OR of register * expression\n",
       "  | XOR of register * expression\n",
       "  | NOT of register\n",
       "  | CMP of register * expression\n",
       "  | JMP of address\n",
       "  | JA of address\n",
       "  | JAE of address\n",
       "  | JB of address\n",
       "  | JBE of address\n",
       "  | JE of address\n",
       "  | JNE of address\n",
       "  | CALL of address\n",
       "  | RET\n",
       "  | PUSH of expression\n",
       "  | POP of register\n",
       "  | HLT\n"
      ]
     },
     "execution_count": 91,
     "metadata": {},
     "output_type": "execute_result"
    },
    {
     "data": {
      "text/plain": [
       "val primer_tipi_4 : instruction list =\n",
       "  [MOV (A, Register B); MOV (C, Const 42); JA (Address 10); HLT]\n"
      ]
     },
     "execution_count": 91,
     "metadata": {},
     "output_type": "execute_result"
    }
   ],
   "source": [
    "type instruction =\n",
    "  | MOV of register * expression\n",
    "  | ADD of register * expression\n",
    "  | SUB of register * expression\n",
    "  | INC of register\n",
    "  | DEC of register\n",
    "  | MUL of expression\n",
    "  | DIV of expression\n",
    "  | AND of register * expression\n",
    "  | OR of register * expression\n",
    "  | XOR of register * expression\n",
    "  | NOT of register \n",
    "  | CMP of register * expression\n",
    "  | JMP of address\n",
    "  | JA of address\n",
    "  | JAE of address\n",
    "  | JB of address\n",
    "  | JBE of address\n",
    "  | JE of address\n",
    "  | JNE of address\n",
    "  | CALL of address\n",
    "  | RET\n",
    "  | PUSH of expression\n",
    "  | POP of register\n",
    "  | HLT\n",
    "\n",
    "let primer_tipi_4 = [ MOV (A, Register B); MOV (C, Const 42); JA (Address 10); HLT ] \n",
    "(* val primer_tipi_4 : instruction list =\n",
    "  [MOV (A, Register B); MOV (C, Const 42); JA (Address 10); HLT] *)"
   ]
  },
  {
   "cell_type": "code",
   "execution_count": 92,
   "metadata": {
    "vscode": {
     "languageId": "ocaml"
    }
   },
   "outputs": [
    {
     "data": {
      "text/plain": [
       "val fibonacci : int -> instruction list = <fun>\n"
      ]
     },
     "execution_count": 92,
     "metadata": {},
     "output_type": "execute_result"
    },
    {
     "data": {
      "text/plain": [
       "val primer_tipi_5 : instruction list =\n",
       "  [JMP (Address 20); PUSH (Register C); PUSH (Register B);\n",
       "   MOV (C, Register A); CMP (A, Const 0); JE (Address 17); CMP (A, Const 1);\n",
       "   JE (Address 17); DEC C; MOV (A, Register C); CALL (Address 1);\n",
       "   MOV (B, Register A); DEC C; MOV (A, Register C); CALL (Address 1);\n",
       "   ADD (A, Register B); JMP (Address 17); POP B; POP C; RET;\n",
       "   MOV (A, Const 10); CALL (Address 1); HLT]\n"
      ]
     },
     "execution_count": 92,
     "metadata": {},
     "output_type": "execute_result"
    }
   ],
   "source": [
    "let fibonacci n = [\n",
    "  JMP (Address 20);       (* JMP main *)\n",
    "\n",
    "(* fib: *)\n",
    "  (* ; Shranimo vrednosti registrov *)\n",
    "  PUSH (Register C);      (* PUSH C *)\n",
    "  PUSH (Register B);      (* PUSH B *)\n",
    "\n",
    "  (* ; V C shranimo začetno vrednost A *)\n",
    "  MOV (C, Register A);    (* MOV C, A *)\n",
    "\n",
    "  (* ; Če je A = 0, je to tudi rezultat *)\n",
    "  CMP (A, Const 0);       (* CMP A, 0 *)\n",
    "  JE (Address 17);        (* JE .fib_end *)\n",
    "\n",
    "  (* ; Če je A = 1, je to tudi rezultat *)\n",
    "  CMP (A, Const 1);       (* CMP A, 1 *)\n",
    "  JE (Address 17);        (* JE .fib_end *)\n",
    "\n",
    "  (* ; V nasprotnem primeru najprej izračunamo fib(A - 1) in ga shranimo v B *)\n",
    "  DEC C;                  (* DEC C *)\n",
    "  MOV (A, Register C);    (* MOV A, C *)\n",
    "  CALL (Address 1);       (* CALL fib *)\n",
    "  MOV (B, Register A);    (* MOV B, A *)\n",
    "\n",
    "  (* ; Nato izračunamo še fib(A - 2) in ga shranimo v A *)\n",
    "  DEC C;                  (* DEC C *)\n",
    "  MOV (A, Register C);    (* MOV A, C *)\n",
    "  CALL (Address 1);       (* CALL fib *)\n",
    "  \n",
    "  (* ; Nazadnje k A prištejemo še B, s čimer dobimo končni rezultat *)\n",
    "  ADD (A, Register B);    (* ADD A, B *)\n",
    "  JMP (Address 17);       (* JMP .fib_end *)\n",
    "\n",
    "(* .fib_end: *)\n",
    "  (* ; Povrnemo vrednosti registrov in vrnemo rezultat *)\n",
    "  POP B;                  (* POP B *)\n",
    "  POP C;                  (* POP C *)\n",
    "  RET;                    (* RET *)\n",
    "\n",
    "(* main: *)\n",
    "  MOV (A, Const n);       (* MOV A, n *)\n",
    "  CALL (Address 1);       (* CALL fib *)\n",
    "  HLT;                    (* HLT *)\n",
    "] \n",
    "(* val fibonacci : int -> instruction list = <fun> *)\n",
    "\n",
    "let primer_tipi_5 = fibonacci 10\n",
    "(* val primer_tipi_5 : instruction list =\n",
    "  [JMP (Address 20); PUSH (Register C); PUSH (Register B);\n",
    "   MOV (C, Register A); CMP (A, Const 0); JE (Address 17); CMP (A, Const 1);\n",
    "   JE (Address 17); DEC C; MOV (A, Register C); CALL (Address 1);\n",
    "   MOV (B, Register A); DEC C; MOV (A, Register C); CALL (Address 1);\n",
    "   ADD (A, Register B); JMP (Address 17); POP B; POP C; RET;\n",
    "   MOV (A, Const 10); CALL (Address 1); HLT] *)"
   ]
  },
  {
   "cell_type": "markdown",
   "metadata": {},
   "source": [
    "### Pomnilnik\n",
    "Morda v nasprotju s pričakovanji ukazov ne bomo shranjevali v sezname tipa\n",
    " `instruction list`, ampak v tabele tipa `instruction array`. O tabelah se bomo\n",
    " še pogovarjali, njihova bistvena prednost pa je ta, da do elementa na danem\n",
    " mestu lahko dostopamo takoj, ne da bi se morali sprehoditi po predhodnih\n",
    " elementih. Tabele pišemo tako kot sezname, le da oklepaje pišemo kot `[| ...\n",
    " |]` namesto kot `[ ... ]`, do posameznega elementa tabele pa dostopamo prek\n",
    " `tabela.(indeks)`, na primer `[| 314; 42; 2718 |].(1)` vrne `42`. Nazadnje bomo celotno stanje računalnika predstavili z zapisnim. Definirajte\n",
    " tip `state` s sledečimi polji:\n",
    " - `instructions`: tabela ukazov v ukaznem pomnilniku,\n",
    " - `a`, `b`, `c`, `d`: štiri celoštevilske vrednosti v registrih,\n",
    " - `ip`: naslov trenutnega ukaza, tipa `address`,\n",
    " - `zero`, `carry`: vrednosti zastavic **Zero** in **Carry**,\n",
    " - `stack`: seznam celoštevilskih vrednosti na skladu."
   ]
  },
  {
   "cell_type": "code",
   "execution_count": 93,
   "metadata": {
    "vscode": {
     "languageId": "ocaml"
    }
   },
   "outputs": [
    {
     "data": {
      "text/plain": [
       "type state = {\n",
       "  instructions : instruction array;\n",
       "  a : int;\n",
       "  b : int;\n",
       "  c : int;\n",
       "  d : int;\n",
       "  ip : address;\n",
       "  zero : bool;\n",
       "  carry : bool;\n",
       "  stack : int list;\n",
       "}\n"
      ]
     },
     "execution_count": 93,
     "metadata": {},
     "output_type": "execute_result"
    },
    {
     "data": {
      "text/plain": [
       "val primer_tipi_6 : state =\n",
       "  {instructions =\n",
       "    [|MOV (A, Register B); MOV (C, Const 42); JA (Address 10); HLT|];\n",
       "   a = 1; b = 2; c = 3; d = 4; ip = Address 0; zero = true; carry = false;\n",
       "   stack = [5; 6; 7]}\n"
      ]
     },
     "execution_count": 93,
     "metadata": {},
     "output_type": "execute_result"
    }
   ],
   "source": [
    "type state = {\n",
    "  instructions : instruction array;\n",
    "  a : int;\n",
    "  b : int;\n",
    "  c : int;\n",
    "  d : int;\n",
    "  ip : address;\n",
    "  zero : bool;\n",
    "  carry : bool;\n",
    "  stack : int list \n",
    "}\n",
    "\n",
    "let primer_tipi_6 = {\n",
    "  instructions = [| MOV (A, Register B); MOV (C, Const 42); JA (Address 10); HLT |];\n",
    "  a = 1; b = 2; c = 3; d = 4;\n",
    "  ip = Address 0;\n",
    "  zero = true; carry = false;\n",
    "  stack = [5; 6; 7];\n",
    "} \n",
    "(* val primer_tipi_6 : state =\n",
    "  {instructions =\n",
    "    [|MOV (A, Register B); MOV (C, Const 42); JA (Address 10); HLT|];\n",
    "   a = 1; b = 2; c = 3; d = 4; ip = Address 0; zero = true; carry = false;\n",
    "   stack = [5; 6; 7]} *)"
   ]
  },
  {
   "cell_type": "markdown",
   "metadata": {},
   "source": [
    "### Začetno stanje\n",
    " Prazno stanje pomnilnika lahko predstavimo z zapisom:\n"
   ]
  },
  {
   "cell_type": "code",
   "execution_count": 94,
   "metadata": {
    "vscode": {
     "languageId": "ocaml"
    }
   },
   "outputs": [
    {
     "data": {
      "text/plain": [
       "val empty : state =\n",
       "  {instructions = [||]; a = 0; b = 0; c = 0; d = 0; ip = Address 0;\n",
       "   zero = false; carry = false; stack = []}\n"
      ]
     },
     "execution_count": 94,
     "metadata": {},
     "output_type": "execute_result"
    }
   ],
   "source": [
    "let empty = {\n",
    "  instructions = [||];\n",
    "  a = 0;\n",
    "  b = 0;\n",
    "  c = 0;\n",
    "  d = 0;\n",
    "  ip = Address 0;\n",
    "  zero = false;\n",
    "  carry = false;\n",
    "  stack = [];\n",
    "} \n",
    "(* val empty : state =\n",
    "  {instructions = [||]; a = 0; b = 0; c = 0; d = 0; ip = Address 0;\n",
    "   zero = false; carry = false; stack = []} *)"
   ]
  },
  {
   "cell_type": "markdown",
   "metadata": {},
   "source": [
    "Kljub temu, da so tabele učinkovitejše, so seznami za delo bolj praktični. Zato\n",
    " definirajte funkcijo `init : instruction list -> state`, ki sprejme seznam\n",
    " ukazov in vrne začetno stanje računalnika, v katerem so vsi registri in\n",
    " zastavice nastavljeni na nič, sklad pa je prazen. Pri tem si lahko za pretvorbo\n",
    " seznama v tabelo pomagate z uporabo funkcije `Array.of_list`."
   ]
  },
  {
   "cell_type": "code",
   "execution_count": 95,
   "metadata": {
    "vscode": {
     "languageId": "ocaml"
    }
   },
   "outputs": [
    {
     "data": {
      "text/plain": [
       "val init : instruction list -> state = <fun>\n"
      ]
     },
     "execution_count": 95,
     "metadata": {},
     "output_type": "execute_result"
    },
    {
     "data": {
      "text/plain": [
       "val primer_tipi_7 : state =\n",
       "  {instructions =\n",
       "    [|MOV (A, Register B); MOV (C, Const 42); JA (Address 10); HLT|];\n",
       "   a = 0; b = 0; c = 0; d = 0; ip = Address 0; zero = false; carry = false;\n",
       "   stack = []}\n"
      ]
     },
     "execution_count": 95,
     "metadata": {},
     "output_type": "execute_result"
    },
    {
     "data": {
      "text/plain": [
       "val primer_tipi_8 : state =\n",
       "  {instructions = [||]; a = 0; b = 0; c = 0; d = 0; ip = Address 0;\n",
       "   zero = false; carry = false; stack = []}\n"
      ]
     },
     "execution_count": 95,
     "metadata": {},
     "output_type": "execute_result"
    }
   ],
   "source": [
    "let init : instruction list -> state = function\n",
    "  (*če je seznam ukazov prazen, funkcija vrne kar prazno stanje pomnilnika*)\n",
    "  | [] -> empty \n",
    "  | lst ->  { empty with instructions = Array.of_list lst }\n",
    "    \n",
    "\n",
    "let primer_tipi_7 = init [ MOV (A, Register B); MOV (C, Const 42); JA (Address 10); HLT ] \n",
    "(* val primer_tipi_7 : state =\n",
    "  {instructions =\n",
    "    [|MOV (A, Register B); MOV (C, Const 42); JA (Address 10); HLT|];\n",
    "   a = 0; b = 0; c = 0; d = 0; ip = Address 0; zero = false; carry = false;\n",
    "   stack = []} *)\n",
    "   \n",
    "let primer_tipi_8 = init []\n",
    "(*- : state =\n",
    "{instructions = [||]; a = 0; b = 0; c = 0; d = 0; ip = Address 0;\n",
    " zero = false; carry = false; stack = []}*)"
   ]
  },
  {
   "cell_type": "markdown",
   "metadata": {},
   "source": [
    " ## Izvajanje ukazov\n",
    "S pripravljenima tipoma ukazov in stanja se lahko lotimo pisanja funkcij za\n",
    " izvrševanje ukazov.\n",
    "  ### Branje stanja\n",
    "Napišite funkcijo `read_instruction : state -> instruction option`, ki v danem\n",
    " stanju vrne trenuten ukaz. Če ukaz sega izven območja ukaznega pomnilnika, naj\n",
    " funkcija vrne `None`."
   ]
  },
  {
   "cell_type": "code",
   "execution_count": 96,
   "metadata": {
    "vscode": {
     "languageId": "ocaml"
    }
   },
   "outputs": [
    {
     "data": {
      "text/plain": [
       "val read_instruction : state -> instruction option = <fun>\n"
      ]
     },
     "execution_count": 96,
     "metadata": {},
     "output_type": "execute_result"
    },
    {
     "data": {
      "text/plain": [
       "val primer_izvajanje_1 : instruction option list =\n",
       "  [Some (MOV (C, Const 42)); Some HLT; None]\n"
      ]
     },
     "execution_count": 96,
     "metadata": {},
     "output_type": "execute_result"
    },
    {
     "data": {
      "text/plain": [
       "val robni_primer : instruction option = None\n"
      ]
     },
     "execution_count": 96,
     "metadata": {},
     "output_type": "execute_result"
    }
   ],
   "source": [
    "let read_instruction (s : state) : instruction option = match s.ip with\n",
    "  | Address num -> \n",
    "    (*če je 0 <= število < dolžina_tabele, je ustrezno in vrne ukaz na indeksu števila v tabeli*)\n",
    "    if num >= 0 && num < Array.length s.instructions then \n",
    "      Some s.instructions.(num) else None\n",
    "\n",
    "\n",
    "let primer_izvajanje_1 =\n",
    "  [\n",
    "    read_instruction { empty with instructions = [| MOV (A, Register B); MOV (C, Const 42); JA (Address 10); HLT |]; ip = (Address 1) };\n",
    "    read_instruction { empty with instructions = [| MOV (A, Register B); MOV (C, Const 42); JA (Address 10); HLT |]; ip = (Address 3) };\n",
    "    read_instruction { empty with instructions = [| MOV (A, Register B); MOV (C, Const 42); JA (Address 10); HLT |]; ip = (Address 5) };\n",
    "  ] \n",
    "(* val primer_izvajanje_1 : instruction option list =\n",
    "  [Some (MOV (C, Const 42)); Some HLT; None] *)\n",
    "\n",
    "let robni_primer = read_instruction { empty with instructions = [| MOV (A, Register B); JA (Address 10); HLT |]; ip = (Address (-1)) }\n",
    "(* val robni_primer : instruction option = None *)"
   ]
  },
  {
   "cell_type": "markdown",
   "metadata": {},
   "source": [
    "Napišite funkcijo `read_register : state -> register -> int`, ki vrne vrednost\n",
    " registra v danem stanju."
   ]
  },
  {
   "cell_type": "code",
   "execution_count": 97,
   "metadata": {
    "vscode": {
     "languageId": "ocaml"
    }
   },
   "outputs": [
    {
     "data": {
      "text/plain": [
       "val read_register : state -> register -> int = <fun>\n"
      ]
     },
     "execution_count": 97,
     "metadata": {},
     "output_type": "execute_result"
    },
    {
     "data": {
      "text/plain": [
       "val primer_izvajanje_2 : int = 42\n"
      ]
     },
     "execution_count": 97,
     "metadata": {},
     "output_type": "execute_result"
    }
   ],
   "source": [
    "let read_register (s : state) (r : register) : int = match r with\n",
    "  | A -> s.a\n",
    "  | B -> s.b\n",
    "  | C -> s.c\n",
    "  | D -> s.d\n",
    "\n",
    "let primer_izvajanje_2 =\n",
    "  read_register { empty with a = 10; b = 42 } B \n",
    "(* val primer_izvajanje_2 : int = 42 *)"
   ]
  },
  {
   "cell_type": "markdown",
   "metadata": {},
   "source": [
    "Napišite funkcijo `read_expression : state -> expression -> int`, ki vrne\n",
    " celoštevilsko vrednost izraza v danem stanju."
   ]
  },
  {
   "cell_type": "code",
   "execution_count": 98,
   "metadata": {
    "vscode": {
     "languageId": "ocaml"
    }
   },
   "outputs": [
    {
     "data": {
      "text/plain": [
       "val read_expression : state -> expression -> int = <fun>\n"
      ]
     },
     "execution_count": 98,
     "metadata": {},
     "output_type": "execute_result"
    },
    {
     "data": {
      "text/plain": [
       "val primer_izvajanje_3 : int = 20\n"
      ]
     },
     "execution_count": 98,
     "metadata": {},
     "output_type": "execute_result"
    },
    {
     "data": {
      "text/plain": [
       "val primer_izvajanje_4 : int = 42\n"
      ]
     },
     "execution_count": 98,
     "metadata": {},
     "output_type": "execute_result"
    }
   ],
   "source": [
    "let read_expression (s : state)  (e : expression) : int = match e with\n",
    "  | Register r -> read_register s r\n",
    "  | Const num -> num\n",
    "\n",
    "let primer_izvajanje_3 =\n",
    "  read_expression { empty with a = 10; b = 20 } (Register B) \n",
    "(* val primer_izvajanje_3 : int = 20 *)\n",
    "\n",
    "let primer_izvajanje_4 =\n",
    "  read_expression { empty with a = 10; b = 20 } (Const 42)\n",
    "(* val primer_izvajanje_4 : int = 42 *)"
   ]
  },
  {
   "cell_type": "markdown",
   "metadata": {},
   "source": [
    " ### Spreminjanje registrov\n",
    "Napišite funkcijo `write_register : state -> register -> int -> state`, ki\n",
    " vrednost registra v danem stanju nastavi na dano število. Funkcija naj vrne\n",
    " novo stanje."
   ]
  },
  {
   "cell_type": "code",
   "execution_count": 99,
   "metadata": {
    "vscode": {
     "languageId": "ocaml"
    }
   },
   "outputs": [
    {
     "data": {
      "text/plain": [
       "val write_register : state -> register -> int -> state = <fun>\n"
      ]
     },
     "execution_count": 99,
     "metadata": {},
     "output_type": "execute_result"
    },
    {
     "data": {
      "text/plain": [
       "val primer_izvajanje_5 : state =\n",
       "  {instructions = [||]; a = 0; b = 0; c = 42; d = 24; ip = Address 0;\n",
       "   zero = false; carry = false; stack = []}\n"
      ]
     },
     "execution_count": 99,
     "metadata": {},
     "output_type": "execute_result"
    }
   ],
   "source": [
    "let write_register (s: state) (r : register) (num : int) : state = match r with\n",
    "  | A -> { s with a = num }\n",
    "  | B -> { s with b = num }\n",
    "  | C -> { s with c = num }\n",
    "  | D -> { s with d = num }\n",
    "\n",
    "\n",
    "let primer_izvajanje_5 =\n",
    "  write_register { empty with c = 42 } D 24 \n",
    "(* val primer_izvajanje_5 : state =\n",
    "  {instructions = [||]; a = 0; b = 0; c = 42; d = 24; ip = Address 0;\n",
    "   zero = false; carry = false; stack = []} *)"
   ]
  },
  {
   "cell_type": "markdown",
   "metadata": {},
   "source": [
    "Napišite funkcijo `perform_unop : (int -> int) -> state -> register -> state`,\n",
    " ki izvede eniško operacijo na vrednosti registra. Funkcija naj vrne novo stanje\n",
    " s spremenjenim registrom."
   ]
  },
  {
   "cell_type": "code",
   "execution_count": 100,
   "metadata": {
    "vscode": {
     "languageId": "ocaml"
    }
   },
   "outputs": [
    {
     "data": {
      "text/plain": [
       "val perform_unop : (int -> int) -> state -> register -> state = <fun>\n"
      ]
     },
     "execution_count": 100,
     "metadata": {},
     "output_type": "execute_result"
    },
    {
     "data": {
      "text/plain": [
       "val primer_izvajanje_6 : state =\n",
       "  {instructions = [||]; a = 0; b = 0; c = 505; d = 0; ip = Address 0;\n",
       "   zero = false; carry = false; stack = []}\n"
      ]
     },
     "execution_count": 100,
     "metadata": {},
     "output_type": "execute_result"
    }
   ],
   "source": [
    "let perform_unop (f : int -> int) (s : state) (r : register) : state = match r with\n",
    "  | A -> { s with a = f s.a }\n",
    "  | B -> { s with b = f s.b }\n",
    "  | C -> { s with c = f s.c }\n",
    "  | D -> { s with d = f s.d }\n",
    "\n",
    "\n",
    "let primer_izvajanje_6 =\n",
    "  perform_unop (fun x -> 101 * x) { empty with c = 5 } C \n",
    "(* val primer_izvajanje_6 : state =\n",
    "  {instructions = [||]; a = 0; b = 0; c = 505; d = 0; ip = Address 0;\n",
    "   zero = false; carry = false; stack = []} *)"
   ]
  },
  {
   "cell_type": "markdown",
   "metadata": {},
   "source": [
    "Napišite funkcijo `perform_binop : (int -> int -> int) -> state -> register ->\n",
    " expression -> state`, ki izvede dvojiško operacijo na danem registru in izrazu.\n",
    " Funkcija naj vrne novo stanje s spremenjenim registrom."
   ]
  },
  {
   "cell_type": "code",
   "execution_count": 101,
   "metadata": {
    "vscode": {
     "languageId": "ocaml"
    }
   },
   "outputs": [
    {
     "data": {
      "text/plain": [
       "val perform_binop :\n",
       "  (int -> int -> int) -> state -> register -> expression -> state = <fun>\n"
      ]
     },
     "execution_count": 101,
     "metadata": {},
     "output_type": "execute_result"
    },
    {
     "data": {
      "text/plain": [
       "val primer_izvajanje_7 : state =\n",
       "  {instructions = [||]; a = 0; b = 0; c = 505; d = 0; ip = Address 0;\n",
       "   zero = false; carry = false; stack = []}\n"
      ]
     },
     "execution_count": 101,
     "metadata": {},
     "output_type": "execute_result"
    }
   ],
   "source": [
    "let perform_binop (g: int -> int -> int) (s : state) (r : register) (e : expression) : state = match r with\n",
    "  | A -> { s with a = g s.a (read_expression s e) }\n",
    "  | B -> { s with b = g s.b (read_expression s e) }\n",
    "  | C -> { s with c = g s.c(read_expression s e) }\n",
    "  | D -> { s with d = g s.d (read_expression s e) }\n",
    "\n",
    "\n",
    "let primer_izvajanje_7 =\n",
    "  perform_binop ( * ) { empty with c = 5 } C (Const 101)\n",
    "(* val primer_izvajanje_7 : state =\n",
    "  {instructions = [||]; a = 0; b = 0; c = 505; d = 0; ip = Address 0;\n",
    "   zero = false; carry = false; stack = []} *)\n"
   ]
  },
  {
   "cell_type": "markdown",
   "metadata": {},
   "source": [
    "### Skoki\n",
    "Napišite funkcijo `next : address -> address`, ki vrne naslednji naslov (torej\n",
    " povečan za 1, saj v našem primeru vsi ukazi zasedejo enako prostora)."
   ]
  },
  {
   "cell_type": "code",
   "execution_count": 102,
   "metadata": {
    "vscode": {
     "languageId": "ocaml"
    }
   },
   "outputs": [
    {
     "data": {
      "text/plain": [
       "val next : address -> address = <fun>\n"
      ]
     },
     "execution_count": 102,
     "metadata": {},
     "output_type": "execute_result"
    },
    {
     "data": {
      "text/plain": [
       "val primer_izvajanje_8 : address = Address 42\n"
      ]
     },
     "execution_count": 102,
     "metadata": {},
     "output_type": "execute_result"
    }
   ],
   "source": [
    "let next : address -> address = function\n",
    "  Address num -> Address (num + 1)\n",
    "\n",
    "let primer_izvajanje_8 =\n",
    "  next (Address 41) \n",
    "(* val primer_izvajanje_8 : address = Address 42 *)"
   ]
  },
  {
   "cell_type": "markdown",
   "metadata": {},
   "source": [
    "Napišite funkciji `jump : state -> address -> state` in `proceed : state ->\n",
    " state`. Prva naj v danem stanju skoči na dani naslov, druga pa naj skoči na\n",
    " naslednji ukaz."
   ]
  },
  {
   "cell_type": "code",
   "execution_count": 103,
   "metadata": {
    "vscode": {
     "languageId": "ocaml"
    }
   },
   "outputs": [
    {
     "data": {
      "text/plain": [
       "val jump : state -> address -> state = <fun>\n"
      ]
     },
     "execution_count": 103,
     "metadata": {},
     "output_type": "execute_result"
    },
    {
     "data": {
      "text/plain": [
       "val proceed : state -> state = <fun>\n"
      ]
     },
     "execution_count": 103,
     "metadata": {},
     "output_type": "execute_result"
    },
    {
     "data": {
      "text/plain": [
       "val primer_izvajanje_9 : state =\n",
       "  {instructions = [||]; a = 0; b = 0; c = 0; d = 0; ip = Address 10;\n",
       "   zero = false; carry = false; stack = []}\n"
      ]
     },
     "execution_count": 103,
     "metadata": {},
     "output_type": "execute_result"
    },
    {
     "data": {
      "text/plain": [
       "val primer_izvajanje_10 : state =\n",
       "  {instructions = [||]; a = 0; b = 0; c = 0; d = 0; ip = Address 43;\n",
       "   zero = false; carry = false; stack = []}\n"
      ]
     },
     "execution_count": 103,
     "metadata": {},
     "output_type": "execute_result"
    }
   ],
   "source": [
    "let jump (s : state) (a : address) : state = { s with ip = a}\n",
    "\n",
    "\n",
    "let proceed (s : state) : state = { s with ip = next s.ip}\n",
    "\n",
    "let primer_izvajanje_9 =\n",
    "  jump { empty with ip = Address 42} (Address 10) \n",
    "(* val primer_izvajanje_9 : state =\n",
    "  {instructions = [||]; a = 0; b = 0; c = 0; d = 0; ip = Address 10;\n",
    "   zero = false; carry = false; stack = []} *)\n",
    "\n",
    "let primer_izvajanje_10 =\n",
    "  proceed { empty with ip = Address 42} \n",
    "(* val primer_izvajanje_10 : state =\n",
    "  {instructions = [||]; a = 0; b = 0; c = 0; d = 0; ip = Address 43;\n",
    "   zero = false; carry = false; stack = []} *)\n"
   ]
  },
  {
   "cell_type": "markdown",
   "metadata": {},
   "source": [
    "Napišite funkciji `push_stack : state -> int -> state` in `pop_stack : state ->\n",
    " int * state`, ki dodata vrednost na sklad oziroma jo odstranita z njega.\n",
    " Funkcija `pop_stack` poleg spremenjenega stanja vrne tudi odstranjeno vrednost.\n",
    " Če je sklad prazen, naj funkcija `pop_stack` sproži izjemo."
   ]
  },
  {
   "cell_type": "markdown",
   "metadata": {},
   "source": [
    "Napišite funkcijo `compare : state -> int -> int -> state`, ki primerja\n",
    " vrednosti dveh števil in ustrezno nastavi zastavici **Zero** in **Carry**. Prvo\n",
    " naj nastavi na `true` natanko tedaj, kadar sta števili enaki, drugo pa takrat,\n",
    " kadar je prvo število manjše.Funkcija naj vrne novo stanje."
   ]
  },
  {
   "cell_type": "code",
   "execution_count": 104,
   "metadata": {
    "vscode": {
     "languageId": "ocaml"
    }
   },
   "outputs": [
    {
     "data": {
      "text/plain": [
       "val push_stack : state -> int -> state = <fun>\n"
      ]
     },
     "execution_count": 104,
     "metadata": {},
     "output_type": "execute_result"
    },
    {
     "data": {
      "text/plain": [
       "val pop_stack : state -> int * state = <fun>\n"
      ]
     },
     "execution_count": 104,
     "metadata": {},
     "output_type": "execute_result"
    },
    {
     "data": {
      "text/plain": [
       "val primer_izvajanje_10 : state =\n",
       "  {instructions = [||]; a = 0; b = 0; c = 0; d = 0; ip = Address 0;\n",
       "   zero = false; carry = false; stack = [42; 1; 2; 3]}\n"
      ]
     },
     "execution_count": 104,
     "metadata": {},
     "output_type": "execute_result"
    },
    {
     "data": {
      "text/plain": [
       "val primer_izvajanje_11 : int * state =\n",
       "  (1,\n",
       "   {instructions = [||]; a = 0; b = 0; c = 0; d = 0; ip = Address 0;\n",
       "    zero = false; carry = false; stack = [2; 3]})\n"
      ]
     },
     "execution_count": 104,
     "metadata": {},
     "output_type": "execute_result"
    }
   ],
   "source": [
    "let push_stack (s : state) (n : int) : state = { s with stack = n :: s.stack}\n",
    "let pop_stack (s : state) : int * state = match s.stack with\n",
    "  | [] -> failwith \"Sklad je prazen. Ni bilo mogoče odstraniti vrednosti s sklada\"\n",
    "  | x :: xs -> (x, { s with stack = xs})\n",
    "\n",
    "let primer_izvajanje_10 =\n",
    "  push_stack { empty with stack = [1; 2; 3] } 42 \n",
    "(* val primer_izvajanje_10 : state =\n",
    "  {instructions = [||]; a = 0; b = 0; c = 0; d = 0; ip = Address 0;\n",
    "   zero = false; carry = false; stack = [42; 1; 2; 3]} *)\n",
    "\n",
    "let primer_izvajanje_11 =\n",
    "  pop_stack { empty with stack = [1; 2; 3] } \n",
    "(* val primer_izvajanje_11 : int * state =\n",
    "  (1,\n",
    "   {instructions = [||]; a = 0; b = 0; c = 0; d = 0; ip = Address 0;\n",
    "    zero = false; carry = false; stack = [2; 3]}) *)\n",
    "\n",
    "(*let robni_primer2 = \n",
    "  pop_stack empty *)\n",
    "(*Exception:\n",
    "Failure \"Sklad je prazen. Ni bilo mogoče odstraniti vrednosti s sklada\".*)"
   ]
  },
  {
   "cell_type": "markdown",
   "metadata": {},
   "source": [
    " ### Pogojni skoki\n",
    "Napišite funkcijo `compare : state -> int -> int -> state`, ki primerja\n",
    " vrednosti dveh števil in ustrezno nastavi zastavici **Zero** in **Carry**. Prvo\n",
    " naj nastavi na `true` natanko tedaj, kadar sta števili enaki, drugo pa takrat,\n",
    " kadar je prvo število manjše.Funkcija naj vrne novo stanje."
   ]
  },
  {
   "cell_type": "code",
   "execution_count": 105,
   "metadata": {
    "vscode": {
     "languageId": "ocaml"
    }
   },
   "outputs": [
    {
     "data": {
      "text/plain": [
       "val compare : state -> int -> int -> state = <fun>\n"
      ]
     },
     "execution_count": 105,
     "metadata": {},
     "output_type": "execute_result"
    },
    {
     "data": {
      "text/plain": [
       "val primer_izvajanje_12 : state =\n",
       "  {instructions = [||]; a = 0; b = 0; c = 0; d = 0; ip = Address 0;\n",
       "   zero = false; carry = true; stack = []}\n"
      ]
     },
     "execution_count": 105,
     "metadata": {},
     "output_type": "execute_result"
    },
    {
     "data": {
      "text/plain": [
       "val primer1 : state =\n",
       "  {instructions = [||]; a = 0; b = 0; c = 0; d = 0; ip = Address 0;\n",
       "   zero = true; carry = false; stack = []}\n"
      ]
     },
     "execution_count": 105,
     "metadata": {},
     "output_type": "execute_result"
    },
    {
     "data": {
      "text/plain": [
       "val primer2 : state =\n",
       "  {instructions = [||]; a = 0; b = 0; c = 0; d = 0; ip = Address 0;\n",
       "   zero = false; carry = false; stack = []}\n"
      ]
     },
     "execution_count": 105,
     "metadata": {},
     "output_type": "execute_result"
    }
   ],
   "source": [
    "let compare (s : state) (in1 : int) (in2 : int) : state = \n",
    "  let updated_zero = (in1 = in2) in\n",
    "  let updated_carry = (in1 < in2) in\n",
    "  { s with zero = updated_zero; carry = updated_carry}\n",
    "  \n",
    "let primer_izvajanje_12 =\n",
    "  compare empty 24 42 \n",
    "(* val primer_izvajanje_12 : state =\n",
    "  {instructions = [||]; a = 0; b = 0; c = 0; d = 0; ip = Address 0;\n",
    "   zero = false; carry = true; stack = []} *)\n",
    "let primer1 = compare empty 42 42\n",
    "let primer2 = compare empty 42 24\n"
   ]
  },
  {
   "cell_type": "markdown",
   "metadata": {},
   "source": [
    " Napišite funkcijo `conditional_jump : state -> bool -> address -> state`, ki\n",
    " skoči na dani naslov, če je podan pogoj izpolnjen. V nasprotnem primeru naj\n",
    " funkcija skoči na naslednji ukaz."
   ]
  },
  {
   "cell_type": "code",
   "execution_count": 106,
   "metadata": {
    "vscode": {
     "languageId": "ocaml"
    }
   },
   "outputs": [
    {
     "data": {
      "text/plain": [
       "val conditional_jump : state -> address -> bool -> state = <fun>\n"
      ]
     },
     "execution_count": 106,
     "metadata": {},
     "output_type": "execute_result"
    },
    {
     "data": {
      "text/plain": [
       "val primer_izvajanje_13 : state =\n",
       "  {instructions = [||]; a = 0; b = 0; c = 0; d = 0; ip = Address 10;\n",
       "   zero = false; carry = false; stack = []}\n"
      ]
     },
     "execution_count": 106,
     "metadata": {},
     "output_type": "execute_result"
    },
    {
     "data": {
      "text/plain": [
       "val primer_izvajanje_14 : state =\n",
       "  {instructions = [||]; a = 0; b = 0; c = 0; d = 0; ip = Address 43;\n",
       "   zero = false; carry = false; stack = []}\n"
      ]
     },
     "execution_count": 106,
     "metadata": {},
     "output_type": "execute_result"
    }
   ],
   "source": [
    "let conditional_jump (s : state) (a : address) (b : bool) : state = match b with\n",
    "  | true -> { s with ip = a }\n",
    "  | false -> proceed s\n",
    "\n",
    "let primer_izvajanje_13 =\n",
    "  conditional_jump { empty with ip = Address 42 } (Address 10) true \n",
    "(* val primer_izvajanje_13 : state =\n",
    "  {instructions = [||]; a = 0; b = 0; c = 0; d = 0; ip = Address 10;\n",
    "   zero = false; carry = false; stack = []} *)\n",
    "\n",
    "let primer_izvajanje_14 =\n",
    "  conditional_jump { empty with ip = Address 42 } (Address 10) false \n",
    "(* val primer_izvajanje_14 : state =\n",
    "  {instructions = [||]; a = 0; b = 0; c = 0; d = 0; ip = Address 43;\n",
    "   zero = false; carry = false; stack = []} *)"
   ]
  },
  {
   "cell_type": "markdown",
   "metadata": {},
   "source": [
    "### Klici funkcij\n",
    "Napišite funkcijo `call : state -> address -> state`, ki v danem stanju skoči\n",
    "na dani naslov in na sklad doda naslednji naslov."
   ]
  },
  {
   "cell_type": "code",
   "execution_count": 107,
   "metadata": {
    "vscode": {
     "languageId": "ocaml"
    }
   },
   "outputs": [
    {
     "data": {
      "text/plain": [
       "val call : state -> address -> state = <fun>\n"
      ]
     },
     "execution_count": 107,
     "metadata": {},
     "output_type": "execute_result"
    },
    {
     "data": {
      "text/plain": [
       "val primer_izvajanje_15 : state =\n",
       "  {instructions = [||]; a = 0; b = 0; c = 0; d = 0; ip = Address 10;\n",
       "   zero = false; carry = false; stack = [43]}\n"
      ]
     },
     "execution_count": 107,
     "metadata": {},
     "output_type": "execute_result"
    }
   ],
   "source": [
    "let call (s : state) (a : address) : state = match s.ip with\n",
    "  | Address n -> { s with ip = a; stack = n + 1 :: s.stack }\n",
    "\n",
    "let primer_izvajanje_15 =\n",
    "  call { empty with ip = Address 42 } (Address 10)\n",
    "(* val primer_izvajanje_15 : state =\n",
    "  {instructions = [||]; a = 0; b = 0; c = 0; d = 0; ip = Address 10;\n",
    "   zero = false; carry = false; stack = [43]} *)"
   ]
  },
  {
   "cell_type": "markdown",
   "metadata": {},
   "source": [
    "Napišite funkcijo `return : state -> state`, ki v danem stanju skoči na naslov,\n",
    " ki je na vrhu sklada, in odstrani ta naslov s sklada."
   ]
  },
  {
   "cell_type": "code",
   "execution_count": 108,
   "metadata": {
    "vscode": {
     "languageId": "ocaml"
    }
   },
   "outputs": [
    {
     "data": {
      "text/plain": [
       "val return : state -> state = <fun>\n"
      ]
     },
     "execution_count": 108,
     "metadata": {},
     "output_type": "execute_result"
    },
    {
     "data": {
      "text/plain": [
       "val primer_izvajanje_16 : state =\n",
       "  {instructions = [||]; a = 0; b = 0; c = 0; d = 0; ip = Address 42;\n",
       "   zero = false; carry = false; stack = [43; 44]}\n"
      ]
     },
     "execution_count": 108,
     "metadata": {},
     "output_type": "execute_result"
    }
   ],
   "source": [
    "let return (s : state) : state = match s.stack with\n",
    "  | [] -> s\n",
    "  | x :: xs -> { s with ip = Address x; stack = xs }\n",
    "\n",
    "let primer_izvajanje_16 =\n",
    "  return { empty with ip = (Address 100); stack = [42; 43; 44] } \n",
    "(* val primer_izvajanje_16 : state =\n",
    "  {instructions = [||]; a = 0; b = 0; c = 0; d = 0; ip = Address 42;\n",
    "   zero = false; carry = false; stack = [43; 44]} *)\n"
   ]
  },
  {
   "cell_type": "markdown",
   "metadata": {},
   "source": [
    "### Izvajanje programov\n",
    " S pomočjo zgoraj definiranih funkcij dopolnite funkcijo `run_instruction :\n",
    " state -> instruction -> state`, ki izvede podani ukaz v danem stanju in vrne\n",
    " novo stanje. Za interpretacije pogojnih skokov si lahko pomagate z [navodili\n",
    " simulatorja](https://schweigi.github.io/assembler-simulator/instruction-\n",
    " set.html), ki smo ga pogledali na predavanjih."
   ]
  },
  {
   "cell_type": "code",
   "execution_count": 109,
   "metadata": {
    "vscode": {
     "languageId": "ocaml"
    }
   },
   "outputs": [
    {
     "data": {
      "text/plain": [
       "val run_instruction : state -> instruction -> state = <fun>\n"
      ]
     },
     "execution_count": 109,
     "metadata": {},
     "output_type": "execute_result"
    }
   ],
   "source": [
    "let run_instruction (s : state) (i : instruction) : state = match i with\n",
    "    | MOV (reg, exp) -> write_register s reg (read_expression s exp) |> proceed\n",
    "    | ADD (reg, exp) -> perform_binop ( + ) s reg exp |> proceed\n",
    "    | SUB (reg, exp) -> perform_binop ( - ) s reg exp |> proceed\n",
    "    | INC reg -> perform_unop succ s reg |> proceed\n",
    "    | DEC reg -> perform_unop (fun x -> x - 1) s reg |> proceed\n",
    "    | MUL exp -> perform_binop ( * ) s A exp |> proceed\n",
    "    | DIV exp -> perform_binop ( / ) s A exp |> proceed\n",
    "    | AND (reg, exp) -> perform_binop ( land ) s reg exp |> proceed\n",
    "    | OR (reg, exp) -> perform_binop ( lor ) s reg exp |> proceed\n",
    "    | XOR (reg, exp) -> perform_binop ( lxor ) s reg exp |> proceed\n",
    "    | NOT reg -> perform_unop lnot s reg |> proceed\n",
    "    | CMP (reg, exp) -> compare s (read_register s reg) (read_expression s exp) |> proceed\n",
    "    | JMP add -> jump s add |> proceed\n",
    "    | JA add -> conditional_jump s add (not s.zero && not s.carry) |> proceed\n",
    "    | JAE add -> conditional_jump s add (s.zero || not s.carry) |> proceed\n",
    "    | JB add -> conditional_jump s add (not s.zero && s.carry) |> proceed\n",
    "    | JBE add -> conditional_jump s add (s.zero || s.carry) |> proceed\n",
    "    | JE add -> conditional_jump s add s.zero |> proceed\n",
    "    | JNE add -> conditional_jump s add (not s.zero) |> proceed\n",
    "    | CALL add -> call s add |> proceed\n",
    "    | RET -> return s |> proceed\n",
    "    | PUSH exp -> push_stack s (read_expression s exp) |> proceed\n",
    "    | POP reg -> let n, s' = pop_stack s in \n",
    "    write_register s' reg n |> proceed    \n",
    "    | HLT -> failwith \"Cannot execute instruction\"\n",
    "\n",
    "(* val run_instruction : state -> instruction -> state = <fun> *)"
   ]
  },
  {
   "cell_type": "markdown",
   "metadata": {},
   "source": [
    "Napišite funkcijo `run_program : state -> state`, ki izvaja ukaze v danem\n",
    " stanju, dokler ne naleti na ukaz `HLT` ali pa ukazni kazalec skoči ven iz\n",
    " ukaznega pomnilnika. Funkcija naj vrne končno stanje."
   ]
  },
  {
   "cell_type": "code",
   "execution_count": 110,
   "metadata": {
    "vscode": {
     "languageId": "ocaml"
    }
   },
   "outputs": [
    {
     "data": {
      "text/plain": [
       "val run_program : state -> state = <fun>\n"
      ]
     },
     "execution_count": 110,
     "metadata": {},
     "output_type": "execute_result"
    },
    {
     "data": {
      "text/plain": [
       "val primer_izvajanje_16 : state =\n",
       "  {instructions =\n",
       "    [|JMP (Address 20); PUSH (Register C); PUSH (Register B);\n",
       "      MOV (C, Register A); CMP (A, Const 0); JE (Address 17);\n",
       "      CMP (A, Const 1); JE (Address 17); DEC C; MOV (A, Register C);\n",
       "      CALL (Address 1); MOV (B, Register A); DEC C; MOV (A, Register C);\n",
       "      CALL (Address 1); ADD (A, Register B); JMP (Address 17); POP B; \n",
       "      POP C; RET; MOV (A, Const 10); CALL (Address 1); HLT|];\n",
       "   a = 0; b = 0; c = 0; d = 0; ip = Address 21; zero = false; carry = false;\n",
       "   stack = []}\n"
      ]
     },
     "execution_count": 110,
     "metadata": {},
     "output_type": "execute_result"
    }
   ],
   "source": [
    "(* program ne deluje kot bi mogel: vrednosti 55 npr. ni v registru a, ip Address je za 1 manjši kot bi moral biti in zastavica zero \n",
    " ni prav nastavljena *)\n",
    "(* napaka pa ni v funkciji run_program, ker ta le požene komande, ampak se mora skrivati nekje v funkciji run_instruction*)\n",
    "let rec run_program (s : state) : state = match Array.to_list (s.instructions) with\n",
    "  | [] -> s\n",
    "  | x :: xs -> run_instruction s x\n",
    "\n",
    "let primer_izvajanje_16 =\n",
    "  fibonacci 10\n",
    "  |> init\n",
    "  |> run_program \n",
    "(* val primer_izvajanje_16 : state =\n",
    "  {instructions =\n",
    "    [|JMP (Address 20); PUSH (Register C); PUSH (Register B);\n",
    "      MOV (C, Register A); CMP (A, Const 0); JE (Address 17);\n",
    "      CMP (A, Const 1); JE (Address 17); DEC C; MOV (A, Register C);\n",
    "      CALL (Address 1); MOV (B, Register A); DEC C; MOV (A, Register C);\n",
    "      CALL (Address 1); ADD (A, Register B); JMP (Address 17); POP B; \n",
    "      POP C; RET; MOV (A, Const 10); CALL (Address 1); HLT|];\n",
    "   a = 55; b = 0; c = 0; d = 0; ip = Address 22; zero = true; carry = false;\n",
    "   stack = []} *)"
   ]
  },
  {
   "cell_type": "markdown",
   "metadata": {},
   "source": [
    " ## Branje zbirnika\n",
    "Da bomo programe lahko pisali v zbirniku, napišimo še funkcije za branje nizov.\n",
    " Predpostavljate lahko, da bodo vsi nizi pravilno oblikovani, zato v primeru\n",
    " napake s `failwith ...` javite ustrezno sporočilo o napaki.\n",
    "\n",
    "  ### Registri in izrazi\n",
    "Napišite funkcijo `parse_register : string -> register`, ki iz niza prebere\n",
    " register."
   ]
  },
  {
   "cell_type": "code",
   "execution_count": 111,
   "metadata": {
    "vscode": {
     "languageId": "ocaml"
    }
   },
   "outputs": [
    {
     "data": {
      "text/plain": [
       "val parse_register : string -> register = <fun>\n"
      ]
     },
     "execution_count": 111,
     "metadata": {},
     "output_type": "execute_result"
    },
    {
     "data": {
      "text/plain": [
       "val primer_branje_1 : register = A\n"
      ]
     },
     "execution_count": 111,
     "metadata": {},
     "output_type": "execute_result"
    }
   ],
   "source": [
    "let parse_register : string -> register = function\n",
    "  | \"A\" -> A\n",
    "  | \"B\" -> B\n",
    "  | \"C\" -> C \n",
    "  | \"D\" -> D \n",
    "  |  _ -> failwith \"Ta register ne obstaja\"\n",
    "\n",
    "let primer_branje_1 = parse_register \"A\"\n",
    "(* val primer_branje_1 : register = A *)"
   ]
  },
  {
   "cell_type": "markdown",
   "metadata": {},
   "source": [
    "Napišite funkcijo `parse_expression : string -> expression`, ki iz niza prebere\n",
    " izraz."
   ]
  },
  {
   "cell_type": "code",
   "execution_count": 112,
   "metadata": {
    "vscode": {
     "languageId": "ocaml"
    }
   },
   "outputs": [
    {
     "data": {
      "text/plain": [
       "val parse_expression : string -> expression = <fun>\n"
      ]
     },
     "execution_count": 112,
     "metadata": {},
     "output_type": "execute_result"
    },
    {
     "data": {
      "text/plain": [
       "val primer_branje_2 : expression = Register A\n"
      ]
     },
     "execution_count": 112,
     "metadata": {},
     "output_type": "execute_result"
    },
    {
     "data": {
      "text/plain": [
       "val primer_branje_3 : expression = Const 42\n"
      ]
     },
     "execution_count": 112,
     "metadata": {},
     "output_type": "execute_result"
    }
   ],
   "source": [
    "let parse_expression (str : string) : expression = \n",
    "  try\n",
    "    ignore (int_of_string str);\n",
    "    Const (int_of_string str)\n",
    "  with \n",
    "  | Failure _ -> Register (parse_register str)\n",
    "\n",
    "let primer_branje_2 = parse_expression \"A\"\n",
    "(* val primer_branje_2 : expression = Register A *)\n",
    "\n",
    "let primer_branje_3 = parse_expression \"42\"\n",
    "(* val primer_branje_3 : expression = Const 42 *)"
   ]
  },
  {
   "cell_type": "markdown",
   "metadata": {},
   "source": [
    " ### Čiščenje vrstic\n",
    "Napišite funkcijo `clean_line : string -> string`, ki iz niza odstrani vse\n",
    " presledke in komentarje (ki se začnejo z znakom `;`). Pri iskanju in\n",
    " odstranjevanju komentarjev si pomagajte z uporabo funkcij `String.index_opt` in\n",
    " `String.sub`."
   ]
  },
  {
   "cell_type": "code",
   "execution_count": 113,
   "metadata": {
    "vscode": {
     "languageId": "ocaml"
    }
   },
   "outputs": [
    {
     "data": {
      "text/plain": [
       "val clean_line : string -> string = <fun>\n"
      ]
     },
     "execution_count": 113,
     "metadata": {},
     "output_type": "execute_result"
    },
    {
     "data": {
      "text/plain": [
       "val primer_branje_4 : string = \"MOV A, 42\"\n"
      ]
     },
     "execution_count": 113,
     "metadata": {},
     "output_type": "execute_result"
    },
    {
     "data": {
      "text/plain": [
       "val primer : string = \"MOV A, 42\"\n"
      ]
     },
     "execution_count": 113,
     "metadata": {},
     "output_type": "execute_result"
    }
   ],
   "source": [
    "\n",
    "let clean_line : string -> string = function\n",
    "  | \"\" -> \"\"\n",
    "  (* v tem matchu določim indeks ';' v stringu in nato izločim string vse do znaka ';' *)\n",
    "  | str -> match String.index_opt str ';' with\n",
    "    (* funkcija String.index_opt vrne ali Some int ali pa None; zato je treba tu ločiti primera *)\n",
    "    | Some i -> String.trim (String.sub str 0 i)\n",
    "    (* vgrajena funkcija String.trim se znebi odvečnih presledkov na začetku in na koncu stringa *)\n",
    "    | None -> String.trim str\n",
    "    \n",
    "\n",
    "let primer_branje_4 = clean_line \"   MOV A, 42    ; To je komentar   \"\n",
    "(* val primer_branje_4 : string = \"MOV A, 42\" *)\n",
    "\n",
    "let primer = clean_line \"   MOV A, 42    \"\n",
    "(* val primer : string = \"MOV A, 42\" *)"
   ]
  },
  {
   "cell_type": "markdown",
   "metadata": {},
   "source": [
    "Napišite funkcijo `clean_lines : string list -> string list`, ki iz seznama\n",
    " nizov najprej odstrani vse komentarje in presledke, nato pa odstrani vse prazne\n",
    " vrstice."
   ]
  },
  {
   "cell_type": "code",
   "execution_count": null,
   "metadata": {
    "vscode": {
     "languageId": "ocaml"
    }
   },
   "outputs": [
    {
     "data": {
      "text/plain": [
       "val clean_lines : string list -> string list = <fun>\n"
      ]
     },
     "execution_count": 114,
     "metadata": {},
     "output_type": "execute_result"
    },
    {
     "data": {
      "text/plain": [
       "val test : string list = [\"MOV A, 42\"; \"MOV B, 42\"; \"MOV C, 42\"]\n"
      ]
     },
     "execution_count": 114,
     "metadata": {},
     "output_type": "execute_result"
    }
   ],
   "source": [
    "let rec clean_lines : string list -> string list = function\n",
    "  | [] -> []\n",
    "  (* če je vrstica po uporabi funkcije clean_line prazna, jo vržem iz seznama, sicer pa jo dodam vanj *)\n",
    "  | x :: xs -> \n",
    "    if clean_line x = \"\" then \n",
    "      clean_lines xs else \n",
    "        clean_line x :: clean_lines xs\n",
    "\n",
    "\n",
    "let test = clean_lines [\"   MOV A, 42    \"; \"   MOV B, 42    \"; \"      \"; \"  \"; \"   MOV C, 42    \"]\n",
    "(* val test : string list = [\"MOV A, 42\"; \"MOV B, 42\"; \"MOV C, 42\"] *)"
   ]
  },
  {
   "cell_type": "markdown",
   "metadata": {},
   "source": [
    " ### Oznake\n",
    "Kot smo navajeni iz zbirnika, skokov ne podajamo z indeksi, ampak raje v dele\n",
    " kode napišemo oznake kot so `main:` ali `.loop:`, nato pa se nanje sklicujemo\n",
    " kot `JA .loop`, `JMP main`, `CALL fib` in tako naprej. Oznake bomo hranili v\n",
    " seznamu, ki bo vsaki oznaki priredil ustrezen naslov v ukaznem pomnilniku.\n",
    "\n",
    " Napišite funkcijo `parse_address : (string * address) list -> string ->\n",
    " address`, ki pri danem seznamu oznak iz niza prebere naslov. Naslov je lahko\n",
    " podan direktno s številom ali pa z eno izmed oznak v seznamu."
   ]
  },
  {
   "cell_type": "code",
   "execution_count": 133,
   "metadata": {
    "vscode": {
     "languageId": "ocaml"
    }
   },
   "outputs": [
    {
     "data": {
      "text/plain": [
       "val parse_address : (string * address) list -> string -> address = <fun>\n"
      ]
     },
     "execution_count": 133,
     "metadata": {},
     "output_type": "execute_result"
    },
    {
     "data": {
      "text/plain": [
       "val primer_branje_5 : address = Address 42\n"
      ]
     },
     "execution_count": 133,
     "metadata": {},
     "output_type": "execute_result"
    },
    {
     "data": {
      "text/plain": [
       "val primer_branje_6 : address = Address 123\n"
      ]
     },
     "execution_count": 133,
     "metadata": {},
     "output_type": "execute_result"
    }
   ],
   "source": [
    "let parse_address (lst : (string * address) list) (s: string) : address = match int_of_string s with\n",
    "  | n -> Address n\n",
    "  (* vgrajena funkcija List.assoc v seznamu najde in vrne v paru ujemajoč element z iskanim *)\n",
    "  | exception _ -> List.assoc s lst\n",
    "\n",
    "let primer_branje_5 = parse_address [(\"main\", Address 42)] \"main\" \n",
    "(* val primer_branje_5 : address = Address 42 *)\n",
    "\n",
    "let primer_branje_6 = parse_address [(\"main\", Address 42)] \"123\" \n",
    "(* val primer_branje_6 : address = Address 123 *)"
   ]
  },
  {
   "cell_type": "markdown",
   "metadata": {},
   "source": [
    "Napišite funkcijo `parse_label : string -> string option`, ki vrne oznako, če\n",
    " se niz konča z dvopičjem, sicer pa vrne `None`."
   ]
  },
  {
   "cell_type": "code",
   "execution_count": 140,
   "metadata": {
    "vscode": {
     "languageId": "ocaml"
    }
   },
   "outputs": [
    {
     "data": {
      "text/plain": [
       "val parse_label : string -> string option = <fun>\n"
      ]
     },
     "execution_count": 140,
     "metadata": {},
     "output_type": "execute_result"
    },
    {
     "data": {
      "text/plain": [
       "val primer_branje_7 : string option = Some \"main\"\n"
      ]
     },
     "execution_count": 140,
     "metadata": {},
     "output_type": "execute_result"
    },
    {
     "data": {
      "text/plain": [
       "val primer_branje_8 : string option = None\n"
      ]
     },
     "execution_count": 140,
     "metadata": {},
     "output_type": "execute_result"
    },
    {
     "data": {
      "text/plain": [
       "val test : string option = Some \"loop\"\n"
      ]
     },
     "execution_count": 140,
     "metadata": {},
     "output_type": "execute_result"
    }
   ],
   "source": [
    "let parse_label (str : string) : string option = match String.index_opt str ':' with\n",
    "  | Some i -> Some (String.sub str 0 i)\n",
    "  | None -> None\n",
    "\n",
    "let primer_branje_7 = parse_label \"main:\"\n",
    "(* val primer_branje_7 : string option = Some \"main\" *)\n",
    "\n",
    "let primer_branje_8 = parse_label \"MOV A, 42\"\n",
    "(* val primer_branje_8 : string option = None *)\n",
    "\n",
    "let test = parse_label \"loop:\"\n",
    "(* val test : string option = Some \"loop\" *)"
   ]
  },
  {
   "cell_type": "markdown",
   "metadata": {},
   "source": [
    "Da bomo iz kode določili oznake, napišite funkcijo `parse_labels : string list\n",
    " -> (string * address) list * string list`, ki iz seznama nizov, ki so bodisi\n",
    " oznake bodisi ukazi, izloči oznake in jim priredi naslove, ostale vrstice pa\n",
    " pusti nespremenjene."
   ]
  },
  {
   "cell_type": "code",
   "execution_count": null,
   "metadata": {
    "vscode": {
     "languageId": "ocaml"
    }
   },
   "outputs": [],
   "source": [
    "let parse_labels _ = ()\n",
    "\n",
    "let primer_branje_9 =\n",
    "  parse_labels [\"JMP main\"; \"main:\"; \"MOV A, 0\"; \"loop:\"; \"INC A\"; \"JMP loop\"]\n",
    "(* val primer_branje_9 : (string * address) list * string list =\n",
    "  ([(\"loop\", Address 2); (\"main\", Address 1)],\n",
    "   [\"JMP main\"; \"MOV A, 0\"; \"INC A\"; \"JMP loop\"]) *)"
   ]
  },
  {
   "cell_type": "markdown",
   "metadata": {},
   "source": [
    "Dopolnite spodnjo funkcijo `parse_instruction : (string * address) list ->\n",
    " string -> instruction`, ki iz niza prebere ukaz."
   ]
  },
  {
   "cell_type": "code",
   "execution_count": null,
   "metadata": {
    "vscode": {
     "languageId": "ocaml"
    }
   },
   "outputs": [],
   "source": []
  },
  {
   "cell_type": "markdown",
   "metadata": {},
   "source": [
    "S pomočjo zgoraj napisanih funkcij sestavite funkcijo `run : string -> state`,\n",
    " ki niz razbije na vrstice, prebere ukaze in oznake ter pripravi začetno stanje,\n",
    " nato pa program izvaja vse dokler ne naleti na ukaz `HLT`. Po klicu naj\n",
    " funkcija vrne končno stanje."
   ]
  },
  {
   "cell_type": "code",
   "execution_count": null,
   "metadata": {
    "vscode": {
     "languageId": "ocaml"
    }
   },
   "outputs": [],
   "source": [
    "let run _ = ()\n",
    "\n",
    "let fibonacci = {|\n",
    "  JMP main\n",
    "  ; Funkcija, ki izračuna fib(A) in vrednost shrani v register A\n",
    "  fib:\n",
    "      ; Shranimo vrednosti registrov\n",
    "      PUSH C\n",
    "      PUSH B\n",
    "  \n",
    "      ; V C shranimo začetno vrednost A\n",
    "      MOV C, A\n",
    "  \n",
    "      ; Če je A = 0, je to tudi rezultat\n",
    "      CMP A, 0\n",
    "      JE .fib_end\n",
    "  \n",
    "      ; Če je A = 1, je to tudi rezultat\n",
    "      CMP A, 1\n",
    "      JE .fib_end\n",
    "  \n",
    "      ; V nasprotnem primeru najprej izračunamo fib(A - 1) in ga shranimo v B\n",
    "      DEC C\n",
    "      MOV A, C\n",
    "      CALL fib\n",
    "      MOV B, A\n",
    "  \n",
    "      ; Nato izračunamo še fib(A - 2) in ga shranimo v A\n",
    "      DEC C\n",
    "      MOV A, C\n",
    "      CALL fib\n",
    "      \n",
    "      ; Nazadnje k A prištejemo še B, s čimer dobimo končni rezultat\n",
    "      ADD A, B\n",
    "      JMP .fib_end\n",
    "  \n",
    "  .fib_end:\n",
    "      ; Povrnemo vrednosti registrov in vrnemo rezultat\n",
    "      POP B\n",
    "      POP C\n",
    "      RET\n",
    "  \n",
    "  main:\n",
    "      MOV A, 7\n",
    "      CALL fib\n",
    "  HLT\n",
    "|}\n",
    "(* val fibonacci : string =\n",
    "  \"\\n  JMP main\\n  ; Funkcija, ki izračuna fib(A) in vrednost shrani v register A\\n  fib:\\n      ; Shranimo vrednosti registrov\\n      PUSH C\\n      PUSH B\\n  \\n      ; V C shranimo začetno vrednost A\\n      MOV C, A\\n  \\n      ; Če je A = 0, je to tudi rezultat\\n      CMP A, 0\\n      JE .fib_end\\n  \\n      ; Če\"... (* string length 872; truncated *) *)\n",
    "\n",
    "let primer_branje_11 =\n",
    "  run fibonacci\n",
    "(* val primer_branje_11 : state =\n",
    "  {instructions =\n",
    "    [|JMP (Address 20); PUSH (Register C); PUSH (Register B);\n",
    "      MOV (C, Register A); CMP (A, Const 0); JE (Address 17);\n",
    "      CMP (A, Const 1); JE (Address 17); DEC C; MOV (A, Register C);\n",
    "      CALL (Address 1); MOV (B, Register A); DEC C; MOV (A, Register C);\n",
    "      CALL (Address 1); ADD (A, Register B); JMP (Address 17); POP B; \n",
    "      POP C; RET; MOV (A, Const 7); CALL (Address 1); HLT|];\n",
    "   a = 13; b = 0; c = 0; d = 0; ip = Address 22; zero = true; carry = false;\n",
    "   stack = []} *)\n"
   ]
  }
 ],
 "metadata": {
  "kernelspec": {
   "display_name": "OCaml 4.14",
   "language": "OCaml",
   "name": "ocaml-jupyter"
  },
  "language_info": {
   "codemirror_mode": "text/x-ocaml",
   "file_extension": ".ml",
   "mimetype": "text/x-ocaml",
   "name": "OCaml",
   "nbconverter_exporter": null,
   "pygments_lexer": "OCaml",
   "version": "4.14.2"
  }
 },
 "nbformat": 4,
 "nbformat_minor": 2
}
